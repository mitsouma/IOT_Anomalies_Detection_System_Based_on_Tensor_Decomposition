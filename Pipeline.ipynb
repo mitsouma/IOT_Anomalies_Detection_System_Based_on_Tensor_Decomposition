{
  "cells": [
    {
      "cell_type": "markdown",
      "metadata": {
        "id": "view-in-github",
        "colab_type": "text"
      },
      "source": [
        "<a href=\"https://colab.research.google.com/github/mitsouma/IOT_Anomalies_Detection_System_Based_on_Tensor_Decomposition/blob/main/Pipeline.ipynb\" target=\"_parent\"><img src=\"https://colab.research.google.com/assets/colab-badge.svg\" alt=\"Open In Colab\"/></a>"
      ]
    },
    {
      "cell_type": "code",
      "execution_count": null,
      "metadata": {
        "id": "t8StKyQdSHn1"
      },
      "outputs": [],
      "source": [
        "import warnings\n",
        "import numpy as np\n",
        "import pandas as pd\n",
        "from tensorly.decomposition import parafac,non_negative_parafac\n",
        "import tensorly as tl\n",
        "from sklearn.preprocessing import StandardScaler\n",
        "from sklearn.metrics import mean_squared_error\n",
        "import tensorflow as tf\n",
        "from tensorly import unfold, fold\n",
        "from tensorly.tenalg import khatri_rao\n",
        "from numpy.linalg import lstsq\n",
        "from tensorly.cp_tensor import cp_to_tensor\n",
        "from sklearn.metrics import accuracy_score, log_loss\n",
        "import time\n",
        "from datetime import datetime\n",
        "from sklearn.model_selection import train_test_split,KFold,cross_val_score\n",
        "import torch\n",
        "from tensorflow.keras import layers, models, callbacks\n",
        "from sklearn.metrics import confusion_matrix, ConfusionMatrixDisplay,classification_report\n",
        "from sklearn.svm import SVC\n",
        "from sklearn.linear_model import LinearRegression\n",
        "from sklearn.tree import DecisionTreeClassifier\n",
        "import seaborn as sns\n",
        "import matplotlib.pyplot as plt"
      ]
    },
    {
      "cell_type": "code",
      "execution_count": null,
      "metadata": {
        "colab": {
          "base_uri": "https://localhost:8080/"
        },
        "id": "5NWBgfOkSFL1",
        "outputId": "08ba41fc-c542-465f-8c5d-11f289b0dfa5"
      },
      "outputs": [
        {
          "name": "stdout",
          "output_type": "stream",
          "text": [
            "Collecting tensorly\n",
            "  Downloading tensorly-0.9.0-py3-none-any.whl.metadata (8.6 kB)\n",
            "Requirement already satisfied: numpy in /usr/local/lib/python3.11/dist-packages (from tensorly) (2.0.2)\n",
            "Requirement already satisfied: scipy in /usr/local/lib/python3.11/dist-packages (from tensorly) (1.15.3)\n",
            "Downloading tensorly-0.9.0-py3-none-any.whl (7.4 MB)\n",
            "\u001b[2K   \u001b[90m━━━━━━━━━━━━━━━━━━━━━━━━━━━━━━━━━━━━━━━━\u001b[0m \u001b[32m7.4/7.4 MB\u001b[0m \u001b[31m10.2 MB/s\u001b[0m eta \u001b[36m0:00:00\u001b[0m\n",
            "\u001b[?25hInstalling collected packages: tensorly\n",
            "Successfully installed tensorly-0.9.0\n"
          ]
        }
      ],
      "source": [
        "pip install tensorly"
      ]
    },
    {
      "cell_type": "markdown",
      "metadata": {
        "id": "qt-WNgMjimtR"
      },
      "source": [
        "\"\"\"\n",
        "This pipeline is designed to detect anomalies in network traffic using a tensor-based deep learning approach.\n",
        "\n",
        "Steps and Objectives:\n",
        "---------------------\n",
        "1. **Preprocessing & Tensor Construction**:\n",
        "   - Multivariate network traffic data is aggregated over time windows.\n",
        "   - A 4D tensor is built with dimensions: [Time_Window, Src IP, Dst IP,featues].\n",
        "\n",
        "2. **Tensor Decomposition (CP)**:\n",
        "   - The tensor is decomposed using CP (CANDECOMP/PARAFAC) to extract the underlying structure (normal behavior).\n",
        "   - This reveals low-rank patterns, which capture typical traffic patterns.\n",
        "\n",
        "3. **Reconstruction & Residual Calculation**:\n",
        "   - We take the training tenssor and we compute its CP decomposition\n",
        "   - Residuals are computed as the difference between the measure of the train tensor and the projection of this measure in the latent space.\n",
        "4. **Anomaly Scoring**:\n",
        "Since our goal aim to detect DDoS and DOS attack so:\n",
        "   - Scores are aggregated per destination IP (`Dst IP`) and feature.\n",
        "   - These scores reflect the degree of deviation from normal patterns.\n",
        "\n",
        "5. **Deep Learning Classification**:\n",
        "   - The aggregated anomaly scores are used as input to a neural network.\n",
        "   - If labeled data is available, the model is trained in a supervised way to classify normal vs anomalous flows.\n",
        "   - If labels are absent, an autoencoder is trained to learn normal behavior and detect deviations.\n",
        "\n",
        "6. **Prediction**:\n",
        "   - New traffic data is processed through the same pipeline.\n",
        "   - The trained model predicts anomaly scores or binary classifications.\n",
        "\n",
        "Main Goal:\n",
        "----------\n",
        "To detect abnormal network behavior in the IOT_data  by modeling traffic patterns as tensors, identifying deviations, and classifying them using deep learning models.\n",
        "\"\"\"\n"
      ]
    },
    {
      "cell_type": "code",
      "execution_count": null,
      "metadata": {
        "id": "n1zTED3B1q4B"
      },
      "outputs": [],
      "source": [
        "warnings.filterwarnings(\"ignore\")"
      ]
    },
    {
      "cell_type": "code",
      "execution_count": null,
      "metadata": {
        "id": "A9_2WKh1tReb"
      },
      "outputs": [],
      "source": [
        "tl.set_backend('pytorch')"
      ]
    },
    {
      "cell_type": "code",
      "execution_count": null,
      "metadata": {
        "colab": {
          "base_uri": "https://localhost:8080/"
        },
        "id": "I21wW78hO0UF",
        "outputId": "6c23260c-88bd-4b87-d6aa-2ec1387a1f13"
      },
      "outputs": [
        {
          "name": "stdout",
          "output_type": "stream",
          "text": [
            "Mounted at /content/drive\n"
          ]
        }
      ],
      "source": [
        "from google.colab import drive\n",
        "drive.mount('/content/drive')"
      ]
    },
    {
      "cell_type": "markdown",
      "metadata": {
        "id": "r3fV3mESyd3P"
      },
      "source": [
        "**Define the dataset**"
      ]
    },
    {
      "cell_type": "code",
      "execution_count": null,
      "metadata": {
        "id": "ep6pD1DF0PP9",
        "scrolled": true
      },
      "outputs": [],
      "source": [
        "df1=pd.read_csv('BenignTraffic.pcap_Flow.csv')\n",
        "df2=pd.read_csv('BenignTraffic1.pcap_Flow.csv')\n",
        "df3=pd.read_csv('BenignTraffic2.pcap_Flow.csv')\n",
        "df4=pd.read_csv('BenignTraffic3.pcap_Flow.csv')\n",
        "df5=pd.read_csv('DDoS-HTTP_Flood-.pcap_Flow.csv')\n",
        "df6=pd.read_csv('DoS-HTTP_Flood.pcap_Flow.csv')\n",
        "df7=pd.read_csv('DoS-HTTP_Flood1.pcap_Flow.csv')"
      ]
    },
    {
      "cell_type": "code",
      "execution_count": null,
      "metadata": {
        "id": "dSa9PMXLReBV"
      },
      "outputs": [],
      "source": [
        "df1['label']=0\n",
        "df2['label']=0\n",
        "df3['label']=0\n",
        "df4['label']=0\n",
        "df5['label']=1\n",
        "df5['label']=1\n",
        "df6['label']=1\n",
        "df7['label']=1"
      ]
    },
    {
      "cell_type": "code",
      "execution_count": null,
      "metadata": {
        "id": "WUdvqL8UVzeE"
      },
      "outputs": [],
      "source": [
        "df1.replace([np.inf, -np.inf], np.nan, inplace=True)\n",
        "df2.replace([np.inf, -np.inf], np.nan, inplace=True)\n",
        "df3.replace([np.inf, -np.inf], np.nan, inplace=True)\n",
        "df4.replace([np.inf, -np.inf], np.nan, inplace=True)\n",
        "df5.replace([np.inf, -np.inf], np.nan, inplace=True)\n",
        "df6.replace([np.inf, -np.inf], np.nan, inplace=True)\n",
        "df7.replace([np.inf, -np.inf], np.nan, inplace=True)"
      ]
    },
    {
      "cell_type": "code",
      "execution_count": null,
      "metadata": {
        "colab": {
          "base_uri": "https://localhost:8080/"
        },
        "id": "k59jI2602wF5",
        "outputId": "75441a51-6f6b-4afa-c6b8-b901be016dd4"
      },
      "outputs": [
        {
          "name": "stdout",
          "output_type": "stream",
          "text": [
            "nan for :are : Flow Bytes/s      35\n",
            "Flow Packets/s    35\n",
            "dtype: int64\n",
            "nan for :are : Flow Bytes/s      35\n",
            "Flow Packets/s    35\n",
            "dtype: int64\n",
            "nan for :are : Flow Bytes/s      45\n",
            "Flow Packets/s    45\n",
            "dtype: int64\n",
            "nan for :are : Flow Bytes/s      17\n",
            "Flow Packets/s    17\n",
            "dtype: int64\n",
            "nan for :are : Flow Bytes/s      1123\n",
            "Flow Packets/s    1123\n",
            "dtype: int64\n",
            "nan for :are : Flow Bytes/s      40786\n",
            "Flow Packets/s    40786\n",
            "dtype: int64\n",
            "nan for :are : Flow Bytes/s      38735\n",
            "Flow Packets/s    38735\n",
            "dtype: int64\n"
          ]
        }
      ],
      "source": [
        "#Drop na\n",
        "for df in [df1,df2,df3,df4,df5,df6,df7]:\n",
        "    r=df.isna().sum()\n",
        "    print(\"nan for :are :\",r[r>0])"
      ]
    },
    {
      "cell_type": "code",
      "execution_count": null,
      "metadata": {
        "colab": {
          "base_uri": "https://localhost:8080/"
        },
        "id": "NP3XaH6Tzbmx",
        "outputId": "48f6f57b-a888-453a-9d53-bbf15c728687"
      },
      "outputs": [
        {
          "name": "stdout",
          "output_type": "stream",
          "text": [
            "(183630, 85)\n",
            "(84526, 85)\n",
            "(91279, 85)\n",
            "(38895, 85)\n",
            "(505720, 85)\n",
            "(932513, 85)\n",
            "(710231, 85)\n"
          ]
        }
      ],
      "source": [
        "#Shape of each dataset\n",
        "print(df1.shape)\n",
        "print(df2.shape)\n",
        "print(df3.shape)\n",
        "print(df4.shape)\n",
        "print(df5.shape)\n",
        "print(df6.shape)\n",
        "print(df7.shape)"
      ]
    },
    {
      "cell_type": "code",
      "execution_count": null,
      "metadata": {
        "id": "-q4JA-VT3B9U"
      },
      "outputs": [],
      "source": [
        "#Drop duplicated rows\n",
        "df1.drop_duplicates(inplace=True)\n",
        "df2.drop_duplicates(inplace=True)\n",
        "df3.drop_duplicates(inplace=True)\n",
        "df4.drop_duplicates(inplace=True)\n",
        "df5.drop_duplicates(inplace=True)\n",
        "df6.drop_duplicates(inplace=True)\n",
        "df7.drop_duplicates(inplace=True)"
      ]
    },
    {
      "cell_type": "code",
      "execution_count": null,
      "metadata": {
        "id": "flHDjg5aVRkh"
      },
      "outputs": [],
      "source": [
        "df1.dropna(inplace=True)\n",
        "df2.dropna(inplace=True)\n",
        "df3.dropna(inplace=True)\n",
        "df4.dropna(inplace=True)\n",
        "df5.dropna(inplace=True)\n",
        "df6.dropna(inplace=True)\n",
        "df7.dropna(inplace=True)"
      ]
    },
    {
      "cell_type": "code",
      "execution_count": null,
      "metadata": {
        "id": "7lsWA_FN1Xg1"
      },
      "outputs": [],
      "source": [
        "#Convert timestamp\n",
        "df1['Timestamp']=pd.to_datetime(df1['Timestamp'])\n",
        "df2['Timestamp']=pd.to_datetime(df2['Timestamp'])\n",
        "df3['Timestamp']=pd.to_datetime(df3['Timestamp'])\n",
        "df4['Timestamp']=pd.to_datetime(df4['Timestamp'])\n",
        "df5['Timestamp']=pd.to_datetime(df5['Timestamp'])\n",
        "df6['Timestamp']=pd.to_datetime(df6['Timestamp'])\n",
        "df7['Timestamp']=pd.to_datetime(df7['Timestamp'])"
      ]
    },
    {
      "cell_type": "code",
      "execution_count": null,
      "metadata": {
        "id": "nb-pDgCL1xmh"
      },
      "outputs": [],
      "source": [
        "#Extract days\n",
        "df1['Jour']=df1['Timestamp'].dt.date\n",
        "df2['Jour']=df2['Timestamp'].dt.date\n",
        "df3['Jour']=df3['Timestamp'].dt.date\n",
        "df4['Jour']=df4['Timestamp'].dt.date\n",
        "df5['Jour']=df5['Timestamp'].dt.date\n",
        "df6['Jour']=df6['Timestamp'].dt.date\n",
        "df7['Jour']=df7['Timestamp'].dt.date"
      ]
    },
    {
      "cell_type": "code",
      "execution_count": null,
      "metadata": {
        "id": "A__Mh_xC2WwI"
      },
      "outputs": [],
      "source": [
        "#Convert days\n",
        "df1['Jour']=pd.to_datetime(df1['Jour'])\n",
        "df2['Jour']=pd.to_datetime(df2['Jour'])\n",
        "df3['Jour']=pd.to_datetime(df3['Jour'])\n",
        "df4['Jour']=pd.to_datetime(df4['Jour'])\n",
        "df5['Jour']=pd.to_datetime(df5['Jour'])\n",
        "df6['Jour']=pd.to_datetime(df6['Jour'])\n",
        "df7['Jour']=pd.to_datetime(df7['Jour'])"
      ]
    },
    {
      "cell_type": "code",
      "execution_count": null,
      "metadata": {
        "colab": {
          "base_uri": "https://localhost:8080/"
        },
        "id": "g1XhnESrdRTo",
        "outputId": "4eea8b5f-1089-4ee8-f9d4-dc7f261e49c0"
      },
      "outputs": [
        {
          "data": {
            "text/plain": [
              "<DatetimeArray>\n",
              "['2022-09-08 00:00:00']\n",
              "Length: 1, dtype: datetime64[ns]"
            ]
          },
          "execution_count": 19,
          "metadata": {},
          "output_type": "execute_result"
        }
      ],
      "source": [
        "df7['Jour'].unique()"
      ]
    },
    {
      "cell_type": "code",
      "execution_count": null,
      "metadata": {
        "id": "8vof25FrdmyK"
      },
      "outputs": [],
      "source": [
        "df5_day_1=df5[df5['Jour']=='2022-09-14']\n",
        "df5_day_2=df5[df5['Jour']=='2022-11-07']\n",
        "df6_day_1=df6[df6['Jour']=='2022-08-08']\n",
        "df6_day_2=df6[df6['Jour']=='2022-09-08']"
      ]
    },
    {
      "cell_type": "code",
      "execution_count": null,
      "metadata": {
        "id": "21oWqcUF8QEi"
      },
      "outputs": [],
      "source": [
        "#Extract time\n",
        "df1['Heure']=df1['Timestamp'].dt.strftime('%H:%M:%S')\n",
        "df2['Heure']=df2['Timestamp'].dt.strftime('%H:%M:%S')\n",
        "df3['Heure']=df3['Timestamp'].dt.strftime('%H:%M:%S')\n",
        "df4['Heure']=df4['Timestamp'].dt.strftime('%H:%M:%S')\n",
        "df5_day_1['Heure']=df5_day_1['Timestamp'].dt.strftime('%H:%M:%S')\n",
        "df5_day_2['Heure']=df5_day_2['Timestamp'].dt.strftime('%H:%M:%S')\n",
        "df6_day_1['Heure']=df6_day_1['Timestamp'].dt.strftime('%H:%M:%S')\n",
        "df6_day_2['Heure']=df6_day_2['Timestamp'].dt.strftime('%H:%M:%S')\n",
        "df7['Heure']=df7['Timestamp'].dt.strftime('%H:%M:%S')"
      ]
    },
    {
      "cell_type": "code",
      "execution_count": null,
      "metadata": {
        "id": "lQR3P8WG86m3"
      },
      "outputs": [],
      "source": [
        "#Create a relative time\n",
        "df1['relative_time']=df1['Timestamp']-df1['Timestamp'].min()\n",
        "df2['relative_time']=df2['Timestamp']-df2['Timestamp'].min()\n",
        "df3['relative_time']=df3['Timestamp']-df3['Timestamp'].min()\n",
        "df4['relative_time']=df4['Timestamp']-df4['Timestamp'].min()\n",
        "df5_day_1['relative_time']=df5_day_1['Timestamp']-df5_day_1['Timestamp'].min()\n",
        "df5_day_2['relative_time']=df5_day_2['Timestamp']-df5_day_2['Timestamp'].min()\n",
        "df6_day_1['relative_time']=df6_day_1['Timestamp']-df6_day_1['Timestamp'].min()\n",
        "df6_day_2['relative_time']=df6_day_2['Timestamp']-df6_day_2['Timestamp'].min()\n",
        "df7['relative_time']=df7['Timestamp']-df7['Timestamp'].min()"
      ]
    },
    {
      "cell_type": "code",
      "execution_count": null,
      "metadata": {
        "id": "0ihKJeh-ReBZ"
      },
      "outputs": [],
      "source": [
        "#Normal filter\n",
        "hours = df1['relative_time'].dt.total_seconds() / 3600\n",
        "mask_3h = hours <= 1\n",
        "df_3h = df1[mask_3h]\n",
        "#Train filter\n",
        "hours_t = df4['relative_time'].dt.total_seconds() / 3600\n",
        "mask_3h_t = hours_t <= 1\n",
        "df_3h_t = df4[mask_3h_t]\n",
        "#Test filter\n",
        "hours_3h_test = df3['relative_time'].dt.total_seconds() / 3600\n",
        "mask_3h_test = hours_3h_test <= 1\n",
        "df_3h_test = df3[mask_3h_test]\n",
        "#Anomalous filter\n",
        "hours_3h_test_a = df5_day_2['relative_time'].dt.total_seconds() / 3600\n",
        "mask_3h_test_a = hours_3h_test_a <= 1\n",
        "df_3h_test_a = df5_day_2[mask_3h_test_a]\n",
        "df7_2h=df7[df7['relative_time']<pd.Timedelta(hours=1)]"
      ]
    },
    {
      "cell_type": "markdown",
      "metadata": {
        "id": "nVbABgFxReBa"
      },
      "source": [
        "# DATA CONSTRUCTION"
      ]
    },
    {
      "cell_type": "code",
      "execution_count": null,
      "metadata": {
        "id": "Cb6Fz4k55MeD"
      },
      "outputs": [],
      "source": [
        "#Consider for as normal_data \"Benign 1 \":\n",
        "df_normal=df_3h\n",
        "#Training data:\n",
        "df_train=pd.concat([df_3h_t,df5_day_1,df7_2h],axis=0)\n",
        "df_test=pd.concat([df_3h_test,df_3h_test_a,df6_day_2],axis=0)"
      ]
    },
    {
      "cell_type": "code",
      "execution_count": null,
      "metadata": {
        "id": "dyf7pDndU55L"
      },
      "outputs": [],
      "source": [
        "scaled=StandardScaler()"
      ]
    },
    {
      "cell_type": "code",
      "execution_count": null,
      "metadata": {
        "id": "63ESUd53YQ26"
      },
      "outputs": [],
      "source": [
        "# Original code for scaling and creating new dataframes\n",
        "df_normal_scaled=scaled.fit_transform(df_normal[['Flow Duration','Flow Packets/s','Flow Bytes/s']])\n",
        "df_train_scaled=scaled.fit_transform(df_train[['Flow Duration','Flow Packets/s','Flow Bytes/s']])\n",
        "df_test_scaled=scaled.fit_transform(df_test[['Flow Duration','Flow Packets/s','Flow Bytes/s']])\n",
        "\n",
        "df_normal_scaled=pd.DataFrame(df_normal_scaled,columns=['Flow Duration','Flow Packets/s','Flow Bytes/s'])\n",
        "df_train_scaled=pd.DataFrame(df_train_scaled,columns=['Flow Duration','Flow Packets/s','Flow Bytes/s'])\n",
        "df_test_scaled=pd.DataFrame(df_test_scaled,columns=['Flow Duration','Flow Packets/s','Flow Bytes/s'])\n",
        "\n",
        "# Reset the index of the original dataframes to ensure alignment\n",
        "# This creates a new default integer index\n",
        "df_normal = df_normal.reset_index(drop=True)\n",
        "df_train = df_train.reset_index(drop=True)\n",
        "df_test = df_test.reset_index(drop=True)\n",
        "\n",
        "# Now assign the columns from the original dataframes with reset indices\n",
        "df_normal_scaled[['relative_time','Src IP','Dst IP','label']]=df_normal[['relative_time','Src IP','Dst IP','label']]\n",
        "df_train_scaled[['relative_time','Src IP','Dst IP','label']]=df_train[['relative_time','Src IP','Dst IP','label']]\n",
        "df_test_scaled[['relative_time','Src IP','Dst IP','label']]=df_test[['relative_time','Src IP','Dst IP','label']]"
      ]
    },
    {
      "cell_type": "code",
      "execution_count": null,
      "metadata": {
        "colab": {
          "base_uri": "https://localhost:8080/",
          "height": 461
        },
        "id": "UBBlo8E3Zql7",
        "outputId": "8414acc9-9375-4e47-c536-481ab51b9ede"
      },
      "outputs": [
        {
          "data": {
            "text/html": [
              "<div>\n",
              "<style scoped>\n",
              "    .dataframe tbody tr th:only-of-type {\n",
              "        vertical-align: middle;\n",
              "    }\n",
              "\n",
              "    .dataframe tbody tr th {\n",
              "        vertical-align: top;\n",
              "    }\n",
              "\n",
              "    .dataframe thead th {\n",
              "        text-align: right;\n",
              "    }\n",
              "</style>\n",
              "<table border=\"1\" class=\"dataframe\">\n",
              "  <thead>\n",
              "    <tr style=\"text-align: right;\">\n",
              "      <th></th>\n",
              "      <th>Flow Duration</th>\n",
              "      <th>Flow Packets/s</th>\n",
              "      <th>Flow Bytes/s</th>\n",
              "      <th>relative_time</th>\n",
              "      <th>Src IP</th>\n",
              "      <th>Dst IP</th>\n",
              "      <th>label</th>\n",
              "      <th>time_window</th>\n",
              "    </tr>\n",
              "  </thead>\n",
              "  <tbody>\n",
              "    <tr>\n",
              "      <th>0</th>\n",
              "      <td>-0.478263</td>\n",
              "      <td>-0.081236</td>\n",
              "      <td>-0.063784</td>\n",
              "      <td>0 days 00:00:01</td>\n",
              "      <td>192.168.137.41</td>\n",
              "      <td>157.249.81.141</td>\n",
              "      <td>0</td>\n",
              "      <td>0</td>\n",
              "    </tr>\n",
              "    <tr>\n",
              "      <th>1</th>\n",
              "      <td>-0.478280</td>\n",
              "      <td>-0.081235</td>\n",
              "      <td>-0.063868</td>\n",
              "      <td>0 days 00:00:01</td>\n",
              "      <td>192.168.137.41</td>\n",
              "      <td>157.249.81.141</td>\n",
              "      <td>0</td>\n",
              "      <td>0</td>\n",
              "    </tr>\n",
              "    <tr>\n",
              "      <th>2</th>\n",
              "      <td>-0.478243</td>\n",
              "      <td>-0.081237</td>\n",
              "      <td>-0.063784</td>\n",
              "      <td>0 days 00:00:03</td>\n",
              "      <td>192.168.137.41</td>\n",
              "      <td>157.249.81.141</td>\n",
              "      <td>0</td>\n",
              "      <td>0</td>\n",
              "    </tr>\n",
              "    <tr>\n",
              "      <th>3</th>\n",
              "      <td>-0.478252</td>\n",
              "      <td>-0.081236</td>\n",
              "      <td>-0.063868</td>\n",
              "      <td>0 days 00:00:03</td>\n",
              "      <td>192.168.137.41</td>\n",
              "      <td>157.249.81.141</td>\n",
              "      <td>0</td>\n",
              "      <td>0</td>\n",
              "    </tr>\n",
              "    <tr>\n",
              "      <th>4</th>\n",
              "      <td>-0.478230</td>\n",
              "      <td>-0.081237</td>\n",
              "      <td>-0.063785</td>\n",
              "      <td>0 days 00:00:04</td>\n",
              "      <td>192.168.137.41</td>\n",
              "      <td>157.249.81.141</td>\n",
              "      <td>0</td>\n",
              "      <td>0</td>\n",
              "    </tr>\n",
              "    <tr>\n",
              "      <th>...</th>\n",
              "      <td>...</td>\n",
              "      <td>...</td>\n",
              "      <td>...</td>\n",
              "      <td>...</td>\n",
              "      <td>...</td>\n",
              "      <td>...</td>\n",
              "      <td>...</td>\n",
              "      <td>...</td>\n",
              "    </tr>\n",
              "    <tr>\n",
              "      <th>21582</th>\n",
              "      <td>-0.172796</td>\n",
              "      <td>-0.081539</td>\n",
              "      <td>-0.063934</td>\n",
              "      <td>0 days 00:49:57</td>\n",
              "      <td>192.168.137.249</td>\n",
              "      <td>192.168.137.1</td>\n",
              "      <td>0</td>\n",
              "      <td>9</td>\n",
              "    </tr>\n",
              "    <tr>\n",
              "      <th>21583</th>\n",
              "      <td>-0.478944</td>\n",
              "      <td>-0.081393</td>\n",
              "      <td>-0.063814</td>\n",
              "      <td>0 days 00:56:16</td>\n",
              "      <td>192.168.137.249</td>\n",
              "      <td>8.8.8.8</td>\n",
              "      <td>0</td>\n",
              "      <td>11</td>\n",
              "    </tr>\n",
              "    <tr>\n",
              "      <th>21584</th>\n",
              "      <td>-0.484455</td>\n",
              "      <td>-0.081180</td>\n",
              "      <td>-0.063806</td>\n",
              "      <td>0 days 00:13:34</td>\n",
              "      <td>192.168.137.224</td>\n",
              "      <td>192.168.137.1</td>\n",
              "      <td>0</td>\n",
              "      <td>2</td>\n",
              "    </tr>\n",
              "    <tr>\n",
              "      <th>21585</th>\n",
              "      <td>-0.485445</td>\n",
              "      <td>-0.080364</td>\n",
              "      <td>-0.062495</td>\n",
              "      <td>0 days 00:54:43</td>\n",
              "      <td>192.168.137.249</td>\n",
              "      <td>8.8.4.4</td>\n",
              "      <td>0</td>\n",
              "      <td>10</td>\n",
              "    </tr>\n",
              "    <tr>\n",
              "      <th>21586</th>\n",
              "      <td>-0.480969</td>\n",
              "      <td>-0.081438</td>\n",
              "      <td>-0.063903</td>\n",
              "      <td>0 days 00:54:12</td>\n",
              "      <td>192.168.137.249</td>\n",
              "      <td>192.168.137.1</td>\n",
              "      <td>0</td>\n",
              "      <td>10</td>\n",
              "    </tr>\n",
              "  </tbody>\n",
              "</table>\n",
              "<p>21587 rows × 8 columns</p>\n",
              "</div>"
            ],
            "text/plain": [
              "       Flow Duration  Flow Packets/s  Flow Bytes/s   relative_time  \\\n",
              "0          -0.478263       -0.081236     -0.063784 0 days 00:00:01   \n",
              "1          -0.478280       -0.081235     -0.063868 0 days 00:00:01   \n",
              "2          -0.478243       -0.081237     -0.063784 0 days 00:00:03   \n",
              "3          -0.478252       -0.081236     -0.063868 0 days 00:00:03   \n",
              "4          -0.478230       -0.081237     -0.063785 0 days 00:00:04   \n",
              "...              ...             ...           ...             ...   \n",
              "21582      -0.172796       -0.081539     -0.063934 0 days 00:49:57   \n",
              "21583      -0.478944       -0.081393     -0.063814 0 days 00:56:16   \n",
              "21584      -0.484455       -0.081180     -0.063806 0 days 00:13:34   \n",
              "21585      -0.485445       -0.080364     -0.062495 0 days 00:54:43   \n",
              "21586      -0.480969       -0.081438     -0.063903 0 days 00:54:12   \n",
              "\n",
              "                Src IP          Dst IP  label  time_window  \n",
              "0       192.168.137.41  157.249.81.141      0            0  \n",
              "1       192.168.137.41  157.249.81.141      0            0  \n",
              "2       192.168.137.41  157.249.81.141      0            0  \n",
              "3       192.168.137.41  157.249.81.141      0            0  \n",
              "4       192.168.137.41  157.249.81.141      0            0  \n",
              "...                ...             ...    ...          ...  \n",
              "21582  192.168.137.249   192.168.137.1      0            9  \n",
              "21583  192.168.137.249         8.8.8.8      0           11  \n",
              "21584  192.168.137.224   192.168.137.1      0            2  \n",
              "21585  192.168.137.249         8.8.4.4      0           10  \n",
              "21586  192.168.137.249   192.168.137.1      0           10  \n",
              "\n",
              "[21587 rows x 8 columns]"
            ]
          },
          "execution_count": 70,
          "metadata": {},
          "output_type": "execute_result"
        }
      ],
      "source": [
        "df_normal_scaled"
      ]
    },
    {
      "cell_type": "markdown",
      "metadata": {
        "id": "qP9XfFhWReBb"
      },
      "source": [
        "# NORMALISE SOME COLUMNS"
      ]
    },
    {
      "cell_type": "markdown",
      "metadata": {
        "id": "ZiwrxPo5ReBc"
      },
      "source": [
        "# TENSOR CONSTRUCTION"
      ]
    },
    {
      "cell_type": "code",
      "execution_count": null,
      "metadata": {
        "id": "XsIamgsYReBc"
      },
      "outputs": [],
      "source": [
        "def build_global_ip_mappings(*dfs):\n",
        "    all_src_ips = set()\n",
        "    all_dst_ips = set()\n",
        "\n",
        "    for df in dfs:\n",
        "        all_src_ips.update(df['Src IP'].unique())\n",
        "        all_dst_ips.update(df['Dst IP'].unique())\n",
        "\n",
        "    src_ip_to_idx = {ip: idx for idx, ip in enumerate(sorted(all_src_ips))}\n",
        "    dst_ip_to_idx = {ip: idx for idx, ip in enumerate(sorted(all_dst_ips))}\n",
        "\n",
        "    return src_ip_to_idx, dst_ip_to_idx"
      ]
    },
    {
      "cell_type": "code",
      "execution_count": null,
      "metadata": {
        "id": "TRCy6pTcKmQo"
      },
      "outputs": [],
      "source": [
        "src_ip_to_idx, dst_ip_to_idx=build_global_ip_mappings(df_normal,df_train,df_test)"
      ]
    },
    {
      "cell_type": "code",
      "execution_count": null,
      "metadata": {
        "id": "wbaB1KG5KsBW"
      },
      "outputs": [],
      "source": [
        "def create_graph_tensor(df, src_ip_to_idx, dst_ip_to_idx, window_size=300):\n",
        "\n",
        "    device = torch.device(\"cuda\" if torch.cuda.is_available() else \"cpu\")\n",
        "    print(f\"Using device: {device}\")\n",
        "\n",
        "    df['time_window'] = df['relative_time'].astype(np.int64) // (10**9 * window_size)\n",
        "    time_windows = sorted(df['time_window'].unique())\n",
        "\n",
        "    tensor_cpu = torch.zeros((len(time_windows), len(src_ip_to_idx), len(dst_ip_to_idx), 4), dtype=torch.float32)\n",
        "\n",
        "    for _, group in df.groupby(['time_window', 'Src IP', 'Dst IP']):\n",
        "        t_idx = np.where(np.array(time_windows) == group['time_window'].iloc[0])[0][0]\n",
        "        src_ip = group['Src IP'].iloc[0]\n",
        "        dst_ip = group['Dst IP'].iloc[0]\n",
        "\n",
        "        if src_ip in src_ip_to_idx and dst_ip in dst_ip_to_idx:\n",
        "            src_idx = src_ip_to_idx[src_ip]\n",
        "            dst_idx = dst_ip_to_idx[dst_ip]\n",
        "\n",
        "            tensor_cpu[t_idx, src_idx, dst_idx, 0] = len(group)\n",
        "            tensor_cpu[t_idx, src_idx, dst_idx, 1] = group['Flow Bytes/s'].sum()\n",
        "            tensor_cpu[t_idx, src_idx, dst_idx, 2] = group['Flow Duration'].mean()\n",
        "            tensor_cpu[t_idx, src_idx, dst_idx, 3] = group['Flow Packets/s'].sum()\n",
        "\n",
        "    tensor = tensor_cpu.to(device)\n",
        "    print(\"✅ Tensor well created | shape:\", tensor.shape)\n",
        "    return tensor/tl.norm(tensor), time_windows\n"
      ]
    },
    {
      "cell_type": "code",
      "execution_count": null,
      "metadata": {
        "colab": {
          "base_uri": "https://localhost:8080/"
        },
        "id": "YFhniTgEK4ch",
        "outputId": "4c90db94-959b-4d1b-d6d4-7bdac4839907"
      },
      "outputs": [
        {
          "name": "stdout",
          "output_type": "stream",
          "text": [
            "Using device: cpu\n",
            "✅ Tensor well created | shape: torch.Size([13, 822, 1313, 4])\n",
            "Using device: cpu\n",
            "✅ Tensor well created | shape: torch.Size([12, 822, 1313, 4])\n",
            "Using device: cpu\n",
            "✅ Tensor well created | shape: torch.Size([13, 822, 1313, 4])\n"
          ]
        }
      ],
      "source": [
        "# Supposons que tu as déjà chargé tes trois DataFrames\n",
        "# df_normal, df_train, df_test\n",
        "\n",
        "tensor_normal, time_normal = create_graph_tensor(df_normal_scaled, src_ip_to_idx, dst_ip_to_idx)\n",
        "tensor_train, time_train = create_graph_tensor(df_train_scaled, src_ip_to_idx, dst_ip_to_idx)\n",
        "tensor_test, time_test = create_graph_tensor(df_test_scaled, src_ip_to_idx, dst_ip_to_idx)"
      ]
    },
    {
      "cell_type": "markdown",
      "metadata": {
        "id": "GVbn19AYReBc"
      },
      "source": [
        "# Tensor Normalisation"
      ]
    },
    {
      "cell_type": "code",
      "execution_count": null,
      "metadata": {
        "id": "wjZjgYt6vnIF"
      },
      "outputs": [],
      "source": [
        "def normalize_tensor_feature(tensor, feature_index):\n",
        "    # Extract the feature slice\n",
        "    feature_slice = tensor[:, :, :, feature_index]\n",
        "\n",
        "    # Calculate min and max\n",
        "    min_val = torch.min(feature_slice)\n",
        "    max_val = torch.max(feature_slice)\n",
        "\n",
        "    # Apply min-max normalization\n",
        "    if max_val - min_val > 0:\n",
        "        normalized_slice = (feature_slice - min_val) / (max_val - min_val)\n",
        "    else:\n",
        "        # All values are the same\n",
        "        normalized_slice = feature_slice - min_val  # results in all zeros\n",
        "\n",
        "    # Replace the original feature with the normalized one\n",
        "    tensor[:, :, :, feature_index] = normalized_slice\n",
        "\n",
        "    return tensor\n"
      ]
    },
    {
      "cell_type": "code",
      "execution_count": null,
      "metadata": {
        "id": "kZqxPcF3xWfE"
      },
      "outputs": [],
      "source": [
        "\n",
        "# Unpack the tuple into separate variables\n",
        "#tensor_normal, src_ip_to_idx, dst_ip_to_idx, time_windows = create_graph_tensor(df_normal, window_size=300)\n",
        "\n",
        "# Now normalize the tensor object\n",
        "tensor_normal = normalize_tensor_feature(tensor_normal, 0)\n",
        "#tensor_normal = normalize_tensor_feature(tensor_normal, 1)\n",
        "#tensor_normal = normalize_tensor_feature(tensor_normal, 2)\n",
        "#tensor_normal = normalize_tensor_feature(tensor_normal, 3)\n",
        "\n",
        "# If you need to update the original 'tensor_data' variable to contain the modified tensor\n",
        "# and the other elements, you can create a new tuple:\n",
        "\n",
        "# Repeat the unpacking and normalization for tensor_data_normal and tensor_data_test as well\n",
        "#tensor_train, src_ip_to_idx_train, dst_ip_to_idx_train, time_windows_train = create_graph_tensor(df_train, window_size=300)\n",
        "tensor_train = normalize_tensor_feature(tensor_train, 0)\n",
        "#tensor_train = normalize_tensor_feature(tensor_train, 1)\n",
        "#tensor_train = normalize_tensor_feature(tensor_train, 2)\n",
        "#tensor_train = normalize_tensor_feature(tensor_train, 3)\n",
        "\n",
        "#tensor_test, src_ip_to_idx_test, dst_ip_to_idx_test, time_windows_test = create_graph_tensor(df_test, window_size=300)\n",
        "tensor_test = normalize_tensor_feature(tensor_test, 0)\n",
        "#tensor_test = normalize_tensor_feature(tensor_test, 1)\n",
        "#tensor_test = normalize_tensor_feature(tensor_test, 2)\n",
        "#tensor_test = normalize_tensor_feature(tensor_test, 3)"
      ]
    },
    {
      "cell_type": "markdown",
      "metadata": {
        "id": "pd0PYn2ZOvrN"
      },
      "source": [
        "# Let start with the rank=9"
      ]
    },
    {
      "cell_type": "code",
      "execution_count": null,
      "metadata": {
        "id": "H63ysbBA0Fdu",
        "outputId": "9d9025c5-e4f2-4606-bf5b-01548643a9b6"
      },
      "outputs": [
        {
          "name": "stdout",
          "output_type": "stream",
          "text": [
            "✅ Rank : 9, Error : 0.2736\n"
          ]
        }
      ],
      "source": [
        "factors_normal =parafac(tensor_normal, rank=1, init='random', n_iter_max=100)\n",
        "reconstruction = cp_to_tensor(factors_normal)\n",
        "# Calcul de l'erreur de reconstruction\n",
        "error = tl.norm(tensor_normal - reconstruction) / tl.norm(tensor_normal)\n",
        "print(f\"✅ Rank : {9}, Error : {error.item():.4f}\")"
      ]
    },
    {
      "cell_type": "markdown",
      "metadata": {
        "id": "YK54spOBv81l"
      },
      "source": [
        "**Normal Projection**"
      ]
    },
    {
      "cell_type": "code",
      "execution_count": null,
      "metadata": {
        "id": "cRmS10DOReBh"
      },
      "outputs": [],
      "source": [
        "def normal_space_projection(tensor_input, tensor_ref):\n",
        "    # Extraire les facteurs de la décomposition de référence\n",
        "    lambdas_ref, (A_ref, B_ref, C_ref, D_ref) = tensor_ref\n",
        "    rank = lambdas_ref.shape[0]\n",
        "\n",
        "    device = tensor_input.device\n",
        "    tensor_input = tensor_input.to(torch.float32).to(device)\n",
        "    B_ref = B_ref.to(torch.float32).to(device)\n",
        "    C_ref = C_ref.to(torch.float32).to(device)\n",
        "    D_ref = D_ref.to(torch.float32).to(device)\n",
        "    lambdas_ref = lambdas_ref.to(torch.float32).to(device)\n",
        "\n",
        "    # Pondération des facteurs de référence\n",
        "    B_w = B_ref * lambdas_ref.view(1, -1)\n",
        "    C_w = C_ref * lambdas_ref.view(1, -1)\n",
        "    D_w = D_ref * lambdas_ref.view(1, -1)\n",
        "\n",
        "    # Khatri-Rao product pondéré\n",
        "    kr_product = tl.tenalg.khatri_rao([D_w, tl.tenalg.khatri_rao([C_w, B_w])])\n",
        "    print(\"kr_product shape:\", kr_product.shape)\n",
        "    # Doit correspondre à (I*J*K, R)\n",
        "\n",
        "    kr_pinv = torch.linalg.pinv(kr_product.T)  # pseudo-inverse du Khatri-Rao\n",
        "\n",
        "    num_time_slices = tensor_input.shape[0]\n",
        "    A_proj = torch.zeros((num_time_slices, rank), dtype=torch.float32, device=device)\n",
        "\n",
        "    low_rank_projected = torch.zeros_like(tensor_input, dtype=torch.float32, device=device)\n",
        "    residual = torch.zeros_like(tensor_input, dtype=torch.float32, device=device)\n",
        "\n",
        "    for t in range(num_time_slices):\n",
        "        slice_t = tensor_input[t].reshape(1, -1)\n",
        "        print(\"slice_t shape:\", slice_t.shape)\n",
        "# Doit être (1, I*J*K)\n",
        "  # shape: (1, features)\n",
        "        A_proj[t] = slice_t @ kr_pinv  # projection\n",
        "\n",
        "        # Reconstruction avec A_proj[t] uniquement\n",
        "        A_single = A_proj[t].unsqueeze(0)  # shape (1, rank)\n",
        "        low_rank_projected[t] = cp_to_tensor((torch.ones(rank, device=device), [A_single, B_ref, C_ref, D_ref]))[0]\n",
        "\n",
        "        # Calcul du résidu\n",
        "        residual[t] = tensor_input[t] - low_rank_projected[t]\n",
        "\n",
        "        print(f\"[t={t}] ✅ Projection & résidu calculés.\")\n",
        "        print(\"Norme relative du résidu :\", (tl.norm(residual[t]) / tl.norm(tensor_input[t])).item())\n",
        "\n",
        "    return residual\n"
      ]
    },
    {
      "cell_type": "code",
      "execution_count": null,
      "metadata": {
        "colab": {
          "base_uri": "https://localhost:8080/"
        },
        "id": "iC0IIodgL-6H",
        "outputId": "782ff83f-040f-489c-894a-b364e0b337ab"
      },
      "outputs": [
        {
          "name": "stdout",
          "output_type": "stream",
          "text": [
            "Densité Normal : 0.000187\n",
            "Densité Test : 0.000377\n"
          ]
        }
      ],
      "source": [
        "normal_density = (tensor_normal != 0).sum().item() / tensor_normal.numel()\n",
        "test_density = (tensor_test != 0).sum().item() / tensor_test.numel()\n",
        "print(f\"Densité Normal : {normal_density:.6f}\")\n",
        "print(f\"Densité Test : {test_density:.6f}\")"
      ]
    },
    {
      "cell_type": "code",
      "execution_count": null,
      "metadata": {
        "colab": {
          "base_uri": "https://localhost:8080/"
        },
        "id": "wZ8AAc2OWQLY",
        "outputId": "9bb0c9dc-fa43-4a16-aef3-3ff75a21a3a8"
      },
      "outputs": [
        {
          "name": "stdout",
          "output_type": "stream",
          "text": [
            "kr_product shape: torch.Size([4317144, 1])\n",
            "slice_t shape: torch.Size([1, 4317144])\n",
            "[t=0] ✅ Projection & résidu calculés.\n",
            "Norme relative du résidu : 1.0\n",
            "slice_t shape: torch.Size([1, 4317144])\n",
            "[t=1] ✅ Projection & résidu calculés.\n",
            "Norme relative du résidu : 1.0\n",
            "slice_t shape: torch.Size([1, 4317144])\n",
            "[t=2] ✅ Projection & résidu calculés.\n",
            "Norme relative du résidu : 1.0\n",
            "slice_t shape: torch.Size([1, 4317144])\n",
            "[t=3] ✅ Projection & résidu calculés.\n",
            "Norme relative du résidu : 1.0\n",
            "slice_t shape: torch.Size([1, 4317144])\n",
            "[t=4] ✅ Projection & résidu calculés.\n",
            "Norme relative du résidu : 1.0\n",
            "slice_t shape: torch.Size([1, 4317144])\n",
            "[t=5] ✅ Projection & résidu calculés.\n",
            "Norme relative du résidu : 1.0\n",
            "slice_t shape: torch.Size([1, 4317144])\n",
            "[t=6] ✅ Projection & résidu calculés.\n",
            "Norme relative du résidu : 1.0\n",
            "slice_t shape: torch.Size([1, 4317144])\n",
            "[t=7] ✅ Projection & résidu calculés.\n",
            "Norme relative du résidu : 1.0\n",
            "slice_t shape: torch.Size([1, 4317144])\n",
            "[t=8] ✅ Projection & résidu calculés.\n",
            "Norme relative du résidu : 1.0\n",
            "slice_t shape: torch.Size([1, 4317144])\n",
            "[t=9] ✅ Projection & résidu calculés.\n",
            "Norme relative du résidu : 1.0\n",
            "slice_t shape: torch.Size([1, 4317144])\n",
            "[t=10] ✅ Projection & résidu calculés.\n",
            "Norme relative du résidu : 1.0\n",
            "slice_t shape: torch.Size([1, 4317144])\n",
            "[t=11] ✅ Projection & résidu calculés.\n",
            "Norme relative du résidu : 1.0\n",
            "✅ Residual calculé.\n",
            "✅ Rank : 822\n",
            "✅ Error : 1.0\n"
          ]
        }
      ],
      "source": [
        "residuals_train_9 = normal_space_projection(tensor_train, factors_normal_9)\n",
        "error_train=tl.norm(residuals_train_9)/tl.norm(tensor_train)\n",
        "print(\"✅ Residual calculé.\")\n",
        "print(\"✅ Rank :\",tensor_train[0].shape[0])\n",
        "print(\"✅ Error :\",error_train.item())"
      ]
    },
    {
      "cell_type": "markdown",
      "metadata": {
        "id": "Nva5k2YIReBh"
      },
      "source": [
        "# AGGREGATION_SCORING"
      ]
    },
    {
      "cell_type": "code",
      "execution_count": null,
      "metadata": {
        "id": "RD68F03dReBi"
      },
      "outputs": [],
      "source": [
        "def aggregation_scoring_Source(residuals, mappings, df_with_labels, window_size=300):\n",
        "    print(\"⏳ Étape 4 : Aggrégation des scores avec labels...\")\n",
        "\n",
        "    # 1. Convertir relative_time -> time_window (entier)\n",
        "    df_with_labels = df_with_labels.copy()\n",
        "    df_with_labels['time_window'] = df_with_labels['relative_time'].astype(np.int64) // (10**9 * window_size)\n",
        "\n",
        "    # 2. Créer le mapping des labels (Dst IP, time_window) -> label\n",
        "    label_map = {}\n",
        "    for _, row in df_with_labels.iterrows():\n",
        "        key = (row['Dst IP'], int(row['time_window']))\n",
        "        label = int(row['label']) if pd.notnull(row['label']) else 0\n",
        "        label_map[key] = max(label_map.get(key, 0), label)\n",
        "\n",
        "    # 3. Préparer les dimensions\n",
        "    residuals_np = tl.to_numpy(residuals)\n",
        "    idx_to_dst_ip = {idx: ip for ip, idx in mappings['Dst_IP'].items()}\n",
        "    idx_to_feature = {idx: feat for idx, feat in mappings['features_names'].items()}\n",
        "    time_dim, _, dst_dim, feat_dim = residuals_np.shape\n",
        "\n",
        "    # 4. Construire la liste des time_windows à partir de l’index\n",
        "    time_windows = list(range(time_dim))\n",
        "\n",
        "    # 5. Aggrégation + étiquetage\n",
        "    aggregation = {}\n",
        "    for t in range(time_dim):\n",
        "        time_window = time_windows[t]\n",
        "        for d in range(dst_dim):\n",
        "            # Check if the index 'd' exists in idx_to_dst_ip\n",
        "            if d in idx_to_dst_ip:\n",
        "                dst_ip = idx_to_dst_ip[d]\n",
        "                key = (dst_ip, time_window)\n",
        "\n",
        "                if key not in aggregation:\n",
        "                    aggregation[key] = {\n",
        "                        'Dst IP': dst_ip,\n",
        "                        'time_windows': time_window,\n",
        "                        'count': 0,\n",
        "                        'bytes': 0,\n",
        "                        'packets': 0,\n",
        "                        'duration': 0,\n",
        "                        'label': label_map.get(key, 0)  # label ajouté ici\n",
        "                    }\n",
        "\n",
        "                for f in range(feat_dim):\n",
        "                    feature_name = idx_to_feature[f].lower()\n",
        "                    score = np.sum(np.abs(residuals_np[t, :, d, f]))\n",
        "\n",
        "                    if 'count' in feature_name:\n",
        "                        aggregation[key]['count'] += score\n",
        "                    elif 'bytes' in feature_name:\n",
        "                        aggregation[key]['bytes'] += score\n",
        "                    elif 'packets' in feature_name:\n",
        "                        aggregation[key]['packets'] += score\n",
        "                    elif 'duration' in feature_name:\n",
        "                        aggregation[key]['duration'] += score\n",
        "            else:\n",
        "                continue\n",
        "\n",
        "    df_scores = pd.DataFrame(list(aggregation.values()))\n",
        "\n",
        "    #log_step(\"Étape 4\", start)\n",
        "    print(\"✅ Aggrégation des scores + labels terminée.\")\n",
        "\n",
        "    return df_scores"
      ]
    },
    {
      "cell_type": "code",
      "execution_count": null,
      "metadata": {
        "id": "x65CBMk0ReBi"
      },
      "outputs": [],
      "source": [
        "mappings={'Dst_IP':dst_ip_to_idx,'features_names':dict(enumerate(['count','bytes','packets','duration']))}"
      ]
    },
    {
      "cell_type": "code",
      "execution_count": null,
      "metadata": {
        "id": "p3naVxKNReBj"
      },
      "outputs": [],
      "source": [
        "def remove_outliers_iqr(df, features):\n",
        "    cleaned_df = df.copy()\n",
        "    for col in features:\n",
        "        Q1 = cleaned_df[col].quantile(0.25)\n",
        "        Q3 = cleaned_df[col].quantile(0.75)\n",
        "        IQR = Q3 - Q1\n",
        "        lower_bound = Q1 - 1.5 * IQR\n",
        "        upper_bound = Q3 + 1.5 * IQR\n",
        "        # Filtrer les lignes en fonction de la colonne actuelle\n",
        "        cleaned_df = cleaned_df[(cleaned_df[col] >= lower_bound) & (cleaned_df[col] <= upper_bound)]\n",
        "    return cleaned_df\n"
      ]
    },
    {
      "cell_type": "code",
      "execution_count": null,
      "metadata": {
        "colab": {
          "base_uri": "https://localhost:8080/",
          "height": 1000
        },
        "id": "0GT1_hToQAPI",
        "outputId": "3c12fba7-4974-4129-a936-d2e0df890776"
      },
      "outputs": [
        {
          "name": "stdout",
          "output_type": "stream",
          "text": [
            "⏳ Étape 4 : Aggrégation des scores avec labels...\n",
            "✅ Aggrégation des scores + labels terminée.\n",
            "✅ Rank : tensor([[[ 0.0000e+00,  0.0000e+00,  0.0000e+00,  0.0000e+00],\n",
            "         [-2.0518e-19,  2.3386e-21,  5.3249e-23,  3.0597e-21],\n",
            "         [-4.0353e-19,  4.5992e-21,  1.0472e-22,  6.0175e-21],\n",
            "         ...,\n",
            "         [ 0.0000e+00,  0.0000e+00,  0.0000e+00,  0.0000e+00],\n",
            "         [ 0.0000e+00,  0.0000e+00,  0.0000e+00,  0.0000e+00],\n",
            "         [ 0.0000e+00,  0.0000e+00,  0.0000e+00,  0.0000e+00]],\n",
            "\n",
            "        [[ 0.0000e+00,  0.0000e+00,  0.0000e+00,  0.0000e+00],\n",
            "         [ 0.0000e+00,  0.0000e+00,  0.0000e+00,  0.0000e+00],\n",
            "         [ 0.0000e+00,  0.0000e+00,  0.0000e+00,  0.0000e+00],\n",
            "         ...,\n",
            "         [ 0.0000e+00,  0.0000e+00,  0.0000e+00,  0.0000e+00],\n",
            "         [ 0.0000e+00,  0.0000e+00,  0.0000e+00,  0.0000e+00],\n",
            "         [ 0.0000e+00,  0.0000e+00,  0.0000e+00,  0.0000e+00]],\n",
            "\n",
            "        [[ 0.0000e+00,  0.0000e+00,  0.0000e+00,  0.0000e+00],\n",
            "         [ 0.0000e+00,  0.0000e+00,  0.0000e+00,  0.0000e+00],\n",
            "         [ 0.0000e+00,  0.0000e+00,  0.0000e+00,  0.0000e+00],\n",
            "         ...,\n",
            "         [ 0.0000e+00,  0.0000e+00,  0.0000e+00,  0.0000e+00],\n",
            "         [ 0.0000e+00,  0.0000e+00,  0.0000e+00,  0.0000e+00],\n",
            "         [ 0.0000e+00,  0.0000e+00,  0.0000e+00,  0.0000e+00]],\n",
            "\n",
            "        ...,\n",
            "\n",
            "        [[ 0.0000e+00,  0.0000e+00,  0.0000e+00,  0.0000e+00],\n",
            "         [ 0.0000e+00,  0.0000e+00,  0.0000e+00,  0.0000e+00],\n",
            "         [ 0.0000e+00,  0.0000e+00,  0.0000e+00,  0.0000e+00],\n",
            "         ...,\n",
            "         [ 0.0000e+00,  0.0000e+00,  0.0000e+00,  0.0000e+00],\n",
            "         [ 0.0000e+00,  0.0000e+00,  0.0000e+00,  0.0000e+00],\n",
            "         [ 0.0000e+00,  0.0000e+00,  0.0000e+00,  0.0000e+00]],\n",
            "\n",
            "        [[ 0.0000e+00,  0.0000e+00,  0.0000e+00,  0.0000e+00],\n",
            "         [ 0.0000e+00,  0.0000e+00,  0.0000e+00,  0.0000e+00],\n",
            "         [ 0.0000e+00,  0.0000e+00,  0.0000e+00,  0.0000e+00],\n",
            "         ...,\n",
            "         [ 0.0000e+00,  0.0000e+00,  0.0000e+00,  0.0000e+00],\n",
            "         [ 0.0000e+00,  0.0000e+00,  0.0000e+00,  0.0000e+00],\n",
            "         [ 0.0000e+00,  0.0000e+00,  0.0000e+00,  0.0000e+00]],\n",
            "\n",
            "        [[ 0.0000e+00,  0.0000e+00,  0.0000e+00,  0.0000e+00],\n",
            "         [ 0.0000e+00,  0.0000e+00,  0.0000e+00,  0.0000e+00],\n",
            "         [ 0.0000e+00,  0.0000e+00,  0.0000e+00,  0.0000e+00],\n",
            "         ...,\n",
            "         [ 0.0000e+00,  0.0000e+00,  0.0000e+00,  0.0000e+00],\n",
            "         [ 0.0000e+00,  0.0000e+00,  0.0000e+00,  0.0000e+00],\n",
            "         [ 0.0000e+00,  0.0000e+00,  0.0000e+00,  0.0000e+00]]])\n",
            "shape= (15756, 7)\n"
          ]
        },
        {
          "data": {
            "image/png": "[encoded data removed]",
            "text/plain": [
              "<Figure size 640x480 with 1 Axes>"
            ]
          },
          "metadata": {},
          "output_type": "display_data"
        },
        {
          "name": "stdout",
          "output_type": "stream",
          "text": [
            "✅ Score calculé.\n"
          ]
        }
      ],
      "source": [
        "df_scores_train_9=aggregation_scoring_Source(residuals_train_9,mappings, df_train, window_size=300)\n",
        "print(\"✅ Rank :\",residuals_train_9[0])\n",
        "print(\"shape=\",df_scores_train_9.shape)\n",
        "df_scores_train_9['label'].value_counts().plot(kind='bar', title='Label Distribution')\n",
        "plt.show()\n",
        "print(\"✅ Score calculé.\")"
      ]
    },
    {
      "cell_type": "code",
      "execution_count": null,
      "metadata": {
        "colab": {
          "base_uri": "https://localhost:8080/"
        },
        "id": "5vy__7T0R7jw",
        "outputId": "88a70473-c5d9-4a4f-c7e9-271be848b7ba"
      },
      "outputs": [
        {
          "name": "stdout",
          "output_type": "stream",
          "text": [
            "✅ Outliers supprimés.\n"
          ]
        }
      ],
      "source": [
        "df=df_scores_train_9\n",
        "features=['count','bytes','packets','duration']\n",
        "removed=remove_outliers_iqr(df_scores_train_9,features)\n",
        "print(\"✅ Outliers supprimés.\")\n",
        "df_cleaned=pd.concat([removed,df[df['label']==1]],axis=0)"
      ]
    },
    {
      "cell_type": "code",
      "execution_count": null,
      "metadata": {
        "id": "efjMWnKGTlEn"
      },
      "outputs": [],
      "source": [
        "def build_and_train_binary_classifier(X_train, y_train, X_test, y_test, learning_rate=0.0001, batch_size=32, epochs=50):\n",
        "    input_dim = X_train.shape[1]\n",
        "\n",
        "    # Définition du modèle\n",
        "    model = models.Sequential([\n",
        "        layers.Input(shape=(input_dim,)),\n",
        "        layers.Dense(128, activation='sigmoid'),\n",
        "        layers.Dense(80, activation='sigmoid'),\n",
        "        layers.Dense(80, activation='sigmoid'),\n",
        "        layers.Dense(32, activation='sigmoid'),\n",
        "        layers.Dense(32, activation='sigmoid'),\n",
        "        layers.Dropout(0.3),\n",
        "        layers.Dense(64, activation='sigmoid'),\n",
        "        layers.Dropout(0.2),\n",
        "        layers.Dense(32, activation='sigmoid'),\n",
        "        layers.Dropout(0.2),\n",
        "        layers.Dense(1, activation='sigmoid')\n",
        "\n",
        "    ])\n",
        "\n",
        "    # Compilation\n",
        "    model.compile(\n",
        "        optimizer=tf.keras.optimizers.Adam(learning_rate=learning_rate),\n",
        "        loss='binary_crossentropy',\n",
        "        metrics=['accuracy', tf.keras.metrics.AUC()]\n",
        "    )\n",
        "\n",
        "\n",
        "    # Entraînement\n",
        "    history = model.fit(\n",
        "        X_train, y_train,\n",
        "        validation_data=(X_test, y_test),\n",
        "        batch_size=batch_size, # Reduced batch size\n",
        "        epochs=epochs,\n",
        "        verbose=1\n",
        "    )\n",
        "\n",
        "    return model, history"
      ]
    },
    {
      "cell_type": "code",
      "execution_count": null,
      "metadata": {
        "id": "_S5uWSzyaJAK"
      },
      "outputs": [],
      "source": [
        "scale=StandardScaler()\n",
        "X=df_cleaned.drop(columns=['label','Dst IP','time_windows'])\n",
        "Y=df_cleaned['label']"
      ]
    },
    {
      "cell_type": "code",
      "execution_count": null,
      "metadata": {
        "colab": {
          "base_uri": "https://localhost:8080/"
        },
        "id": "nlvB-j6TODXi",
        "outputId": "d91552a7-45b2-4163-921b-8a5b27805e59"
      },
      "outputs": [
        {
          "data": {
            "text/plain": [
              "tensor(1.)"
            ]
          },
          "execution_count": 62,
          "metadata": {},
          "output_type": "execute_result"
        }
      ],
      "source": [
        "tensor_train.max()"
      ]
    },
    {
      "cell_type": "code",
      "execution_count": null,
      "metadata": {
        "colab": {
          "base_uri": "https://localhost:8080/",
          "height": 1000
        },
        "id": "-ExT7zt5ReBl",
        "outputId": "41c341c5-bcf8-4276-91c5-0f0ad1faff79"
      },
      "outputs": [
        {
          "name": "stdout",
          "output_type": "stream",
          "text": [
            "Epoch 1/50\n",
            "\u001b[1m265/265\u001b[0m \u001b[32m━━━━━━━━━━━━━━━━━━━━\u001b[0m\u001b[37m\u001b[0m \u001b[1m6s\u001b[0m 7ms/step - accuracy: 0.3182 - auc_1: 0.5074 - loss: 0.8740 - val_accuracy: 0.8778 - val_auc_1: 0.5000 - val_loss: 0.4580\n",
            "Epoch 2/50\n",
            "\u001b[1m265/265\u001b[0m \u001b[32m━━━━━━━━━━━━━━━━━━━━\u001b[0m\u001b[37m\u001b[0m \u001b[1m1s\u001b[0m 5ms/step - accuracy: 0.8687 - auc_1: 0.5041 - loss: 0.4474 - val_accuracy: 0.8778 - val_auc_1: 0.5000 - val_loss: 0.3786\n",
            "Epoch 3/50\n",
            "\u001b[1m265/265\u001b[0m \u001b[32m━━━━━━━━━━━━━━━━━━━━\u001b[0m\u001b[37m\u001b[0m \u001b[1m1s\u001b[0m 5ms/step - accuracy: 0.8761 - auc_1: 0.4821 - loss: 0.3942 - val_accuracy: 0.8778 - val_auc_1: 0.5000 - val_loss: 0.3715\n",
            "Epoch 4/50\n",
            "\u001b[1m265/265\u001b[0m \u001b[32m━━━━━━━━━━━━━━━━━━━━\u001b[0m\u001b[37m\u001b[0m \u001b[1m3s\u001b[0m 5ms/step - accuracy: 0.8827 - auc_1: 0.4951 - loss: 0.3739 - val_accuracy: 0.8778 - val_auc_1: 0.5000 - val_loss: 0.3714\n",
            "Epoch 5/50\n",
            "\u001b[1m265/265\u001b[0m \u001b[32m━━━━━━━━━━━━━━━━━━━━\u001b[0m\u001b[37m\u001b[0m \u001b[1m2s\u001b[0m 5ms/step - accuracy: 0.8754 - auc_1: 0.4827 - loss: 0.3884 - val_accuracy: 0.8778 - val_auc_1: 0.5000 - val_loss: 0.3717\n",
            "Epoch 6/50\n",
            "\u001b[1m265/265\u001b[0m \u001b[32m━━━━━━━━━━━━━━━━━━━━\u001b[0m\u001b[37m\u001b[0m \u001b[1m1s\u001b[0m 5ms/step - accuracy: 0.8751 - auc_1: 0.4893 - loss: 0.3894 - val_accuracy: 0.8778 - val_auc_1: 0.5000 - val_loss: 0.3719\n",
            "Epoch 7/50\n",
            "\u001b[1m265/265\u001b[0m \u001b[32m━━━━━━━━━━━━━━━━━━━━\u001b[0m\u001b[37m\u001b[0m \u001b[1m2s\u001b[0m 6ms/step - accuracy: 0.8777 - auc_1: 0.4843 - loss: 0.3835 - val_accuracy: 0.8778 - val_auc_1: 0.5000 - val_loss: 0.3719\n",
            "Epoch 8/50\n",
            "\u001b[1m265/265\u001b[0m \u001b[32m━━━━━━━━━━━━━━━━━━━━\u001b[0m\u001b[37m\u001b[0m \u001b[1m2s\u001b[0m 6ms/step - accuracy: 0.8798 - auc_1: 0.5002 - loss: 0.3778 - val_accuracy: 0.8778 - val_auc_1: 0.5000 - val_loss: 0.3717\n",
            "Epoch 9/50\n",
            "\u001b[1m265/265\u001b[0m \u001b[32m━━━━━━━━━━━━━━━━━━━━\u001b[0m\u001b[37m\u001b[0m \u001b[1m2s\u001b[0m 5ms/step - accuracy: 0.8713 - auc_1: 0.4935 - loss: 0.3944 - val_accuracy: 0.8778 - val_auc_1: 0.5000 - val_loss: 0.3718\n",
            "Epoch 10/50\n",
            "\u001b[1m265/265\u001b[0m \u001b[32m━━━━━━━━━━━━━━━━━━━━\u001b[0m\u001b[37m\u001b[0m \u001b[1m1s\u001b[0m 5ms/step - accuracy: 0.8777 - auc_1: 0.4940 - loss: 0.3822 - val_accuracy: 0.8778 - val_auc_1: 0.5000 - val_loss: 0.3717\n",
            "Epoch 11/50\n",
            "\u001b[1m265/265\u001b[0m \u001b[32m━━━━━━━━━━━━━━━━━━━━\u001b[0m\u001b[37m\u001b[0m \u001b[1m1s\u001b[0m 5ms/step - accuracy: 0.8751 - auc_1: 0.5108 - loss: 0.3836 - val_accuracy: 0.8778 - val_auc_1: 0.5000 - val_loss: 0.3718\n",
            "Epoch 12/50\n",
            "\u001b[1m265/265\u001b[0m \u001b[32m━━━━━━━━━━━━━━━━━━━━\u001b[0m\u001b[37m\u001b[0m \u001b[1m3s\u001b[0m 6ms/step - accuracy: 0.8790 - auc_1: 0.4975 - loss: 0.3777 - val_accuracy: 0.8778 - val_auc_1: 0.5000 - val_loss: 0.3716\n",
            "Epoch 13/50\n",
            "\u001b[1m265/265\u001b[0m \u001b[32m━━━━━━━━━━━━━━━━━━━━\u001b[0m\u001b[37m\u001b[0m \u001b[1m2s\u001b[0m 6ms/step - accuracy: 0.8726 - auc_1: 0.4895 - loss: 0.3918 - val_accuracy: 0.8778 - val_auc_1: 0.5181 - val_loss: 0.3716\n",
            "Epoch 14/50\n",
            "\u001b[1m265/265\u001b[0m \u001b[32m━━━━━━━━━━━━━━━━━━━━\u001b[0m\u001b[37m\u001b[0m \u001b[1m1s\u001b[0m 5ms/step - accuracy: 0.8806 - auc_1: 0.5088 - loss: 0.3728 - val_accuracy: 0.8778 - val_auc_1: 0.5000 - val_loss: 0.3715\n",
            "Epoch 15/50\n",
            "\u001b[1m265/265\u001b[0m \u001b[32m━━━━━━━━━━━━━━━━━━━━\u001b[0m\u001b[37m\u001b[0m \u001b[1m1s\u001b[0m 5ms/step - accuracy: 0.8777 - auc_1: 0.5160 - loss: 0.3768 - val_accuracy: 0.8778 - val_auc_1: 0.5000 - val_loss: 0.3716\n",
            "Epoch 16/50\n",
            "\u001b[1m265/265\u001b[0m \u001b[32m━━━━━━━━━━━━━━━━━━━━\u001b[0m\u001b[37m\u001b[0m \u001b[1m2s\u001b[0m 6ms/step - accuracy: 0.8800 - auc_1: 0.4991 - loss: 0.3746 - val_accuracy: 0.8778 - val_auc_1: 0.5000 - val_loss: 0.3714\n",
            "Epoch 17/50\n",
            "\u001b[1m265/265\u001b[0m \u001b[32m━━━━━━━━━━━━━━━━━━━━\u001b[0m\u001b[37m\u001b[0m \u001b[1m1s\u001b[0m 5ms/step - accuracy: 0.8739 - auc_1: 0.4798 - loss: 0.3888 - val_accuracy: 0.8778 - val_auc_1: 0.5000 - val_loss: 0.3713\n",
            "Epoch 18/50\n",
            "\u001b[1m265/265\u001b[0m \u001b[32m━━━━━━━━━━━━━━━━━━━━\u001b[0m\u001b[37m\u001b[0m \u001b[1m2s\u001b[0m 6ms/step - accuracy: 0.8765 - auc_1: 0.5183 - loss: 0.3791 - val_accuracy: 0.8778 - val_auc_1: 0.5609 - val_loss: 0.3711\n",
            "Epoch 19/50\n",
            "\u001b[1m265/265\u001b[0m \u001b[32m━━━━━━━━━━━━━━━━━━━━\u001b[0m\u001b[37m\u001b[0m \u001b[1m3s\u001b[0m 6ms/step - accuracy: 0.8860 - auc_1: 0.4923 - loss: 0.3628 - val_accuracy: 0.8778 - val_auc_1: 0.6117 - val_loss: 0.3703\n",
            "Epoch 20/50\n",
            "\u001b[1m265/265\u001b[0m \u001b[32m━━━━━━━━━━━━━━━━━━━━\u001b[0m\u001b[37m\u001b[0m \u001b[1m1s\u001b[0m 5ms/step - accuracy: 0.8772 - auc_1: 0.5203 - loss: 0.3766 - val_accuracy: 0.8778 - val_auc_1: 0.6095 - val_loss: 0.3691\n",
            "Epoch 21/50\n",
            "\u001b[1m265/265\u001b[0m \u001b[32m━━━━━━━━━━━━━━━━━━━━\u001b[0m\u001b[37m\u001b[0m \u001b[1m2s\u001b[0m 6ms/step - accuracy: 0.8809 - auc_1: 0.4932 - loss: 0.3724 - val_accuracy: 0.8778 - val_auc_1: 0.7494 - val_loss: 0.3665\n",
            "Epoch 22/50\n",
            "\u001b[1m265/265\u001b[0m \u001b[32m━━━━━━━━━━━━━━━━━━━━\u001b[0m\u001b[37m\u001b[0m \u001b[1m2s\u001b[0m 6ms/step - accuracy: 0.8796 - auc_1: 0.5473 - loss: 0.3686 - val_accuracy: 0.8778 - val_auc_1: 0.9616 - val_loss: 0.3615\n",
            "Epoch 23/50\n",
            "\u001b[1m265/265\u001b[0m \u001b[32m━━━━━━━━━━━━━━━━━━━━\u001b[0m\u001b[37m\u001b[0m \u001b[1m1s\u001b[0m 5ms/step - accuracy: 0.8808 - auc_1: 0.5762 - loss: 0.3613 - val_accuracy: 0.8778 - val_auc_1: 0.9966 - val_loss: 0.3514\n",
            "Epoch 24/50\n",
            "\u001b[1m265/265\u001b[0m \u001b[32m━━━━━━━━━━━━━━━━━━━━\u001b[0m\u001b[37m\u001b[0m \u001b[1m1s\u001b[0m 5ms/step - accuracy: 0.8784 - auc_1: 0.6623 - loss: 0.3546 - val_accuracy: 0.8778 - val_auc_1: 0.9898 - val_loss: 0.3302\n",
            "Epoch 25/50\n",
            "\u001b[1m265/265\u001b[0m \u001b[32m━━━━━━━━━━━━━━━━━━━━\u001b[0m\u001b[37m\u001b[0m \u001b[1m3s\u001b[0m 6ms/step - accuracy: 0.8779 - auc_1: 0.7813 - loss: 0.3308 - val_accuracy: 0.8778 - val_auc_1: 0.9977 - val_loss: 0.2901\n",
            "Epoch 26/50\n",
            "\u001b[1m265/265\u001b[0m \u001b[32m━━━━━━━━━━━━━━━━━━━━\u001b[0m\u001b[37m\u001b[0m \u001b[1m3s\u001b[0m 6ms/step - accuracy: 0.8763 - auc_1: 0.8605 - loss: 0.2999 - val_accuracy: 0.8778 - val_auc_1: 0.9966 - val_loss: 0.2278\n",
            "Epoch 27/50\n",
            "\u001b[1m265/265\u001b[0m \u001b[32m━━━━━━━━━━━━━━━━━━━━\u001b[0m\u001b[37m\u001b[0m \u001b[1m2s\u001b[0m 6ms/step - accuracy: 0.9175 - auc_1: 0.9353 - loss: 0.2255 - val_accuracy: 0.9592 - val_auc_1: 0.9989 - val_loss: 0.1593\n",
            "Epoch 28/50\n",
            "\u001b[1m265/265\u001b[0m \u001b[32m━━━━━━━━━━━━━━━━━━━━\u001b[0m\u001b[37m\u001b[0m \u001b[1m3s\u001b[0m 6ms/step - accuracy: 0.9551 - auc_1: 0.9760 - loss: 0.1609 - val_accuracy: 0.9754 - val_auc_1: 0.9989 - val_loss: 0.1025\n",
            "Epoch 29/50\n",
            "\u001b[1m265/265\u001b[0m \u001b[32m━━━━━━━━━━━━━━━━━━━━\u001b[0m\u001b[37m\u001b[0m \u001b[1m1s\u001b[0m 5ms/step - accuracy: 0.9745 - auc_1: 0.9842 - loss: 0.1163 - val_accuracy: 0.9876 - val_auc_1: 1.0000 - val_loss: 0.0713\n",
            "Epoch 30/50\n",
            "\u001b[1m265/265\u001b[0m \u001b[32m━━━━━━━━━━━━━━━━━━━━\u001b[0m\u001b[37m\u001b[0m \u001b[1m1s\u001b[0m 5ms/step - accuracy: 0.9855 - auc_1: 0.9859 - loss: 0.0845 - val_accuracy: 0.9887 - val_auc_1: 0.9989 - val_loss: 0.0574\n",
            "Epoch 31/50\n",
            "\u001b[1m265/265\u001b[0m \u001b[32m━━━━━━━━━━━━━━━━━━━━\u001b[0m\u001b[37m\u001b[0m \u001b[1m3s\u001b[0m 6ms/step - accuracy: 0.9876 - auc_1: 0.9889 - loss: 0.0674 - val_accuracy: 0.9928 - val_auc_1: 0.9989 - val_loss: 0.0408\n",
            "Epoch 32/50\n",
            "\u001b[1m265/265\u001b[0m \u001b[32m━━━━━━━━━━━━━━━━━━━━\u001b[0m\u001b[37m\u001b[0m \u001b[1m1s\u001b[0m 5ms/step - accuracy: 0.9920 - auc_1: 0.9935 - loss: 0.0517 - val_accuracy: 0.9934 - val_auc_1: 0.9989 - val_loss: 0.0341\n",
            "Epoch 33/50\n",
            "\u001b[1m265/265\u001b[0m \u001b[32m━━━━━━━━━━━━━━━━━━━━\u001b[0m\u001b[37m\u001b[0m \u001b[1m2s\u001b[0m 5ms/step - accuracy: 0.9952 - auc_1: 0.9962 - loss: 0.0376 - val_accuracy: 0.9923 - val_auc_1: 0.9966 - val_loss: 0.0346\n",
            "Epoch 34/50\n",
            "\u001b[1m265/265\u001b[0m \u001b[32m━━━━━━━━━━━━━━━━━━━━\u001b[0m\u001b[37m\u001b[0m \u001b[1m2s\u001b[0m 6ms/step - accuracy: 0.9933 - auc_1: 0.9863 - loss: 0.0410 - val_accuracy: 0.9939 - val_auc_1: 1.0000 - val_loss: 0.0272\n",
            "Epoch 35/50\n",
            "\u001b[1m265/265\u001b[0m \u001b[32m━━━━━━━━━━━━━━━━━━━━\u001b[0m\u001b[37m\u001b[0m \u001b[1m2s\u001b[0m 6ms/step - accuracy: 0.9951 - auc_1: 0.9964 - loss: 0.0302 - val_accuracy: 0.9953 - val_auc_1: 0.9989 - val_loss: 0.0220\n",
            "Epoch 36/50\n",
            "\u001b[1m265/265\u001b[0m \u001b[32m━━━━━━━━━━━━━━━━━━━━\u001b[0m\u001b[37m\u001b[0m \u001b[1m2s\u001b[0m 6ms/step - accuracy: 0.9979 - auc_1: 0.9969 - loss: 0.0221 - val_accuracy: 0.9972 - val_auc_1: 0.9989 - val_loss: 0.0176\n",
            "Epoch 37/50\n",
            "\u001b[1m265/265\u001b[0m \u001b[32m━━━━━━━━━━━━━━━━━━━━\u001b[0m\u001b[37m\u001b[0m \u001b[1m3s\u001b[0m 6ms/step - accuracy: 0.9953 - auc_1: 0.9956 - loss: 0.0254 - val_accuracy: 0.9972 - val_auc_1: 0.9989 - val_loss: 0.0162\n",
            "Epoch 38/50\n",
            "\u001b[1m265/265\u001b[0m \u001b[32m━━━━━━━━━━━━━━━━━━━━\u001b[0m\u001b[37m\u001b[0m \u001b[1m2s\u001b[0m 6ms/step - accuracy: 0.9958 - auc_1: 0.9897 - loss: 0.0284 - val_accuracy: 0.9972 - val_auc_1: 0.9989 - val_loss: 0.0152\n",
            "Epoch 39/50\n",
            "\u001b[1m265/265\u001b[0m \u001b[32m━━━━━━━━━━━━━━━━━━━━\u001b[0m\u001b[37m\u001b[0m \u001b[1m2s\u001b[0m 6ms/step - accuracy: 0.9975 - auc_1: 0.9977 - loss: 0.0185 - val_accuracy: 0.9972 - val_auc_1: 0.9989 - val_loss: 0.0138\n",
            "Epoch 40/50\n",
            "\u001b[1m265/265\u001b[0m \u001b[32m━━━━━━━━━━━━━━━━━━━━\u001b[0m\u001b[37m\u001b[0m \u001b[1m2s\u001b[0m 6ms/step - accuracy: 0.9969 - auc_1: 0.9968 - loss: 0.0174 - val_accuracy: 0.9972 - val_auc_1: 1.0000 - val_loss: 0.0134\n",
            "Epoch 41/50\n",
            "\u001b[1m265/265\u001b[0m \u001b[32m━━━━━━━━━━━━━━━━━━━━\u001b[0m\u001b[37m\u001b[0m \u001b[1m2s\u001b[0m 7ms/step - accuracy: 0.9981 - auc_1: 0.9983 - loss: 0.0149 - val_accuracy: 0.9972 - val_auc_1: 0.9989 - val_loss: 0.0131\n",
            "Epoch 42/50\n"
          ]
        },
        {
          "name": "stdout",
          "output_type": "stream",
          "text": [
            "\u001b[1m265/265\u001b[0m \u001b[32m━━━━━━━━━━━━━━━━━━━━\u001b[0m\u001b[37m\u001b[0m \u001b[1m2s\u001b[0m 6ms/step - accuracy: 0.9974 - auc_1: 0.9973 - loss: 0.0161 - val_accuracy: 0.9959 - val_auc_1: 0.9977 - val_loss: 0.0166\n",
            "Epoch 43/50\n",
            "\u001b[1m265/265\u001b[0m \u001b[32m━━━━━━━━━━━━━━━━━━━━\u001b[0m\u001b[37m\u001b[0m \u001b[1m2s\u001b[0m 6ms/step - accuracy: 0.9976 - auc_1: 0.9973 - loss: 0.0154 - val_accuracy: 0.9972 - val_auc_1: 0.9989 - val_loss: 0.0121\n",
            "Epoch 44/50\n",
            "\u001b[1m265/265\u001b[0m \u001b[32m━━━━━━━━━━━━━━━━━━━━\u001b[0m\u001b[37m\u001b[0m \u001b[1m1s\u001b[0m 5ms/step - accuracy: 0.9969 - auc_1: 0.9932 - loss: 0.0194 - val_accuracy: 0.9978 - val_auc_1: 0.9989 - val_loss: 0.0105\n",
            "Epoch 45/50\n",
            "\u001b[1m265/265\u001b[0m \u001b[32m━━━━━━━━━━━━━━━━━━━━\u001b[0m\u001b[37m\u001b[0m \u001b[1m1s\u001b[0m 5ms/step - accuracy: 0.9978 - auc_1: 0.9962 - loss: 0.0146 - val_accuracy: 0.9967 - val_auc_1: 0.9977 - val_loss: 0.0142\n",
            "Epoch 46/50\n",
            "\u001b[1m265/265\u001b[0m \u001b[32m━━━━━━━━━━━━━━━━━━━━\u001b[0m\u001b[37m\u001b[0m \u001b[1m2s\u001b[0m 6ms/step - accuracy: 0.9976 - auc_1: 0.9965 - loss: 0.0157 - val_accuracy: 0.9967 - val_auc_1: 0.9955 - val_loss: 0.0153\n",
            "Epoch 47/50\n",
            "\u001b[1m265/265\u001b[0m \u001b[32m━━━━━━━━━━━━━━━━━━━━\u001b[0m\u001b[37m\u001b[0m \u001b[1m1s\u001b[0m 5ms/step - accuracy: 0.9977 - auc_1: 0.9963 - loss: 0.0143 - val_accuracy: 0.9967 - val_auc_1: 0.9944 - val_loss: 0.0152\n",
            "Epoch 48/50\n",
            "\u001b[1m265/265\u001b[0m \u001b[32m━━━━━━━━━━━━━━━━━━━━\u001b[0m\u001b[37m\u001b[0m \u001b[1m1s\u001b[0m 5ms/step - accuracy: 0.9975 - auc_1: 0.9967 - loss: 0.0141 - val_accuracy: 0.9986 - val_auc_1: 1.0000 - val_loss: 0.0075\n",
            "Epoch 49/50\n",
            "\u001b[1m265/265\u001b[0m \u001b[32m━━━━━━━━━━━━━━━━━━━━\u001b[0m\u001b[37m\u001b[0m \u001b[1m1s\u001b[0m 5ms/step - accuracy: 0.9978 - auc_1: 0.9966 - loss: 0.0128 - val_accuracy: 0.9978 - val_auc_1: 0.9977 - val_loss: 0.0099\n",
            "Epoch 50/50\n",
            "\u001b[1m265/265\u001b[0m \u001b[32m━━━━━━━━━━━━━━━━━━━━\u001b[0m\u001b[37m\u001b[0m \u001b[1m2s\u001b[0m 6ms/step - accuracy: 0.9983 - auc_1: 0.9971 - loss: 0.0117 - val_accuracy: 0.9983 - val_auc_1: 0.9977 - val_loss: 0.0090\n",
            "\u001b[1m114/114\u001b[0m \u001b[32m━━━━━━━━━━━━━━━━━━━━\u001b[0m\u001b[37m\u001b[0m \u001b[1m1s\u001b[0m 3ms/step\n"
          ]
        },
        {
          "data": {
            "text/plain": [
              "<sklearn.metrics._plot.confusion_matrix.ConfusionMatrixDisplay at 0x2a467f86b90>"
            ]
          },
          "execution_count": 63,
          "metadata": {},
          "output_type": "execute_result"
        },
        {
          "data": {
            "image/png": "[encoded data removed]",
            "text/plain": [
              "<Figure size 640x480 with 2 Axes>"
            ]
          },
          "metadata": {},
          "output_type": "display_data"
        }
      ],
      "source": [
        "\n",
        "\n",
        "X1=scale.fit_transform(X)\n",
        "Y1=df_cleaned['label']\n",
        "X1_train,X1_test,Y1_train,Y1_test = train_test_split(X1,Y1,test_size=0.3,stratify=Y1)\n",
        "model,history=build_and_train_binary_classifier(X1_train, Y1_train, X1_test, Y1_test)\n",
        "\n",
        "\n",
        "# Prédire les probabilités (entre 0 et 1)\n",
        "y_pred_prob = model.predict(X1_test)\n",
        "      # Convertir les probabilités en classes binaires (0 ou 1)\n",
        "y_pred = (y_pred_prob > 0.5).astype(int)\n",
        "      # Calcul de la matrice de confusion\n",
        "cm = confusion_matrix(Y1_test, y_pred)\n",
        "      # Affichage\n",
        "disp = ConfusionMatrixDisplay(confusion_matrix=cm, display_labels=[0, 1])\n",
        "disp.plot(cmap='Blues')\n"
      ]
    },
    {
      "cell_type": "code",
      "execution_count": null,
      "metadata": {
        "colab": {
          "base_uri": "https://localhost:8080/"
        },
        "id": "ADs1e88lReBn",
        "outputId": "ca090261-8b2d-4f65-813a-aed9a028017c"
      },
      "outputs": [
        {
          "name": "stdout",
          "output_type": "stream",
          "text": [
            "kr_product shape: torch.Size([4317144, 1])\n",
            "slice_t shape: torch.Size([1, 4317144])\n",
            "[t=0] ✅ Projection & résidu calculés.\n",
            "Norme relative du résidu : 1.0\n",
            "slice_t shape: torch.Size([1, 4317144])\n",
            "[t=1] ✅ Projection & résidu calculés.\n",
            "Norme relative du résidu : 1.0\n",
            "slice_t shape: torch.Size([1, 4317144])\n",
            "[t=2] ✅ Projection & résidu calculés.\n",
            "Norme relative du résidu : 1.0\n",
            "slice_t shape: torch.Size([1, 4317144])\n",
            "[t=3] ✅ Projection & résidu calculés.\n",
            "Norme relative du résidu : 1.0\n",
            "slice_t shape: torch.Size([1, 4317144])\n",
            "[t=4] ✅ Projection & résidu calculés.\n",
            "Norme relative du résidu : 1.0\n",
            "slice_t shape: torch.Size([1, 4317144])\n",
            "[t=5] ✅ Projection & résidu calculés.\n",
            "Norme relative du résidu : 1.0\n",
            "slice_t shape: torch.Size([1, 4317144])\n",
            "[t=6] ✅ Projection & résidu calculés.\n",
            "Norme relative du résidu : 1.0\n",
            "slice_t shape: torch.Size([1, 4317144])\n",
            "[t=7] ✅ Projection & résidu calculés.\n",
            "Norme relative du résidu : 1.0\n",
            "slice_t shape: torch.Size([1, 4317144])\n",
            "[t=8] ✅ Projection & résidu calculés.\n",
            "Norme relative du résidu : 1.0\n",
            "slice_t shape: torch.Size([1, 4317144])\n",
            "[t=9] ✅ Projection & résidu calculés.\n",
            "Norme relative du résidu : 1.0\n",
            "slice_t shape: torch.Size([1, 4317144])\n",
            "[t=10] ✅ Projection & résidu calculés.\n",
            "Norme relative du résidu : 1.0\n",
            "slice_t shape: torch.Size([1, 4317144])\n",
            "[t=11] ✅ Projection & résidu calculés.\n",
            "Norme relative du résidu : 1.0\n",
            "slice_t shape: torch.Size([1, 4317144])\n",
            "[t=12] ✅ Projection & résidu calculés.\n",
            "Norme relative du résidu : 1.0\n",
            "✅ Residual calculé.\n"
          ]
        }
      ],
      "source": [
        "torch.cuda.empty_cache()\n",
        "residuals_test_9 = normal_space_projection(tensor_test, factors_normal_9)\n",
        "print(\"✅ Residual calculé.\")"
      ]
    },
    {
      "cell_type": "code",
      "execution_count": null,
      "metadata": {
        "id": "iBKesYhiReBo"
      },
      "outputs": [],
      "source": [
        "mappings_test={'Dst_IP':dst_ip_to_idx,'features_names':dict(enumerate(['count','bytes','packets','duration']))}"
      ]
    },
    {
      "cell_type": "code",
      "execution_count": null,
      "metadata": {
        "colab": {
          "base_uri": "https://localhost:8080/"
        },
        "id": "FWEvpZU2VQ6P",
        "outputId": "77033d7d-2f79-44e4-b4d2-9ce4653ee559"
      },
      "outputs": [
        {
          "name": "stdout",
          "output_type": "stream",
          "text": [
            "⏳ Étape 4 : Aggrégation des scores avec labels...\n",
            "✅ Aggrégation des scores + labels terminée.\n",
            "✅ Score calculé.\n"
          ]
        }
      ],
      "source": [
        "df_scores_test=aggregation_scoring_Source(residuals_test_9,mappings, df_test, window_size=300)\n",
        "plt.show()\n",
        "print(\"✅ Score calculé.\")"
      ]
    },
    {
      "cell_type": "code",
      "execution_count": null,
      "metadata": {
        "colab": {
          "base_uri": "https://localhost:8080/"
        },
        "id": "VMOleaBfU_4p",
        "outputId": "ad87763d-c580-4789-b0de-e0c99e5829a4"
      },
      "outputs": [
        {
          "name": "stdout",
          "output_type": "stream",
          "text": [
            "✅ Outliers supprimés.\n"
          ]
        }
      ],
      "source": [
        "\n",
        "removed_test=remove_outliers_iqr(df_scores_test,features)\n",
        "print(\"✅ Outliers supprimés.\")\n",
        "df_cleaned_test=pd.concat([removed_test,df_scores_test[df_scores_test['label']==1]],axis=0)\n"
      ]
    },
    {
      "cell_type": "code",
      "execution_count": null,
      "metadata": {
        "id": "pyv1pCE7VMET"
      },
      "outputs": [],
      "source": [
        "df_cl"
      ]
    },
    {
      "cell_type": "code",
      "execution_count": null,
      "metadata": {
        "colab": {
          "base_uri": "https://localhost:8080/",
          "height": 484
        },
        "id": "nWyiFRwIOvrh",
        "outputId": "d2d8337f-04cc-4a4a-f4b3-1073b2c25792"
      },
      "outputs": [
        {
          "name": "stdout",
          "output_type": "stream",
          "text": [
            "\u001b[1m422/422\u001b[0m \u001b[32m━━━━━━━━━━━━━━━━━━━━\u001b[0m\u001b[37m\u001b[0m \u001b[1m1s\u001b[0m 2ms/step\n"
          ]
        },
        {
          "data": {
            "text/plain": [
              "<sklearn.metrics._plot.confusion_matrix.ConfusionMatrixDisplay at 0x2a409b8c450>"
            ]
          },
          "execution_count": 69,
          "metadata": {},
          "output_type": "execute_result"
        },
        {
          "data": {
            "image/png": "[encoded data removed]",
            "text/plain": [
              "<Figure size 640x480 with 2 Axes>"
            ]
          },
          "metadata": {},
          "output_type": "display_data"
        }
      ],
      "source": [
        "\n",
        "      X=df_cleaned_test.drop(columns=['label','Dst IP','time_windows'])\n",
        "      X_scaled=scale.fit_transform(X)\n",
        "      Y=df_cleaned_test['label']\n",
        "      y_pred_prob = model.predict(X_scaled)\n",
        "      # Convertir les probabilités en classes binaires (0 ou 1)\n",
        "      y_pred = (y_pred_prob > 0.5).astype(int)\n",
        "      # Calcul de la matrice de confusion\n",
        "      cm = confusion_matrix(Y, y_pred)\n",
        "      # Affichage\n",
        "      disp = ConfusionMatrixDisplay(confusion_matrix=cm, display_labels=[0, 1])\n",
        "      disp.plot(cmap='Blues')\n"
      ]
    },
    {
      "cell_type": "code",
      "execution_count": null,
      "metadata": {
        "id": "hoQYHIF8Ovri"
      },
      "outputs": [],
      "source": []
    }
  ],
  "metadata": {
    "colab": {
      "provenance": [],
      "include_colab_link": true
    },
    "kernelspec": {
      "display_name": "Python 3 (ipykernel)",
      "language": "python",
      "name": "python3"
    },
    "language_info": {
      "codemirror_mode": {
        "name": "ipython",
        "version": 3
      },
      "file_extension": ".py",
      "mimetype": "text/x-python",
      "name": "python",
      "nbconvert_exporter": "python",
      "pygments_lexer": "ipython3",
      "version": "3.11.5"
    }
  },
  "nbformat": 4,
  "nbformat_minor": 0
}