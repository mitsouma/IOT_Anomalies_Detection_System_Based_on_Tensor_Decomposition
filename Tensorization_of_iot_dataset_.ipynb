{
  "cells": [
    {
      "cell_type": "markdown",
      "metadata": {
        "id": "view-in-github",
        "colab_type": "text"
      },
      "source": [
        "<a href=\"https://colab.research.google.com/github/mitsouma/IOT_Anomalies_Detection_System_Based_on_Tensor_Decomposition/blob/main/Tensorization_of_iot_dataset_.ipynb\" target=\"_parent\"><img src=\"https://colab.research.google.com/assets/colab-badge.svg\" alt=\"Open In Colab\"/></a>"
      ]
    },
    {
      "cell_type": "code",
      "execution_count": 3,
      "id": "e4a17db6",
      "metadata": {
        "id": "e4a17db6"
      },
      "outputs": [],
      "source": [
        "import numpy as np\n",
        "import pandas as pd\n",
        "import seaborn as sns\n",
        "import matplotlib.pyplot as plt\n",
        "from mpl_toolkits.mplot3d import Axes3D\n",
        "from sklearn.ensemble import RandomForestClassifier,GradientBoostingClassifier\n",
        "from sklearn.preprocessing import StandardScaler, LabelEncoder\n",
        "from sklearn.decomposition import PCA\n",
        "import math\n",
        "import h5py\n",
        "import os\n",
        "import plotly.express as px\n",
        "import plotly.graph_objects as go\n",
        "import plotly.express as px\n",
        "from plotly.subplots import make_subplots\n",
        "from typing import List, Optional, Union, Dict, Tuple\n",
        "from scipy.sparse import dok_matrix, coo_matrix\n",
        "import networkx as nx\n",
        "import tensorly as tl\n",
        "from tensorly.decomposition import parafac"
      ]
    },
    {
      "cell_type": "code",
      "source": [
        "pip install tensorly"
      ],
      "metadata": {
        "colab": {
          "base_uri": "https://localhost:8080/"
        },
        "id": "funD6BQXmv5Q",
        "outputId": "7a1a199a-83fc-4efb-b29f-aced93ef0671"
      },
      "id": "funD6BQXmv5Q",
      "execution_count": 2,
      "outputs": [
        {
          "output_type": "stream",
          "name": "stdout",
          "text": [
            "Collecting tensorly\n",
            "  Downloading tensorly-0.9.0-py3-none-any.whl.metadata (8.6 kB)\n",
            "Requirement already satisfied: numpy in /usr/local/lib/python3.11/dist-packages (from tensorly) (2.0.2)\n",
            "Requirement already satisfied: scipy in /usr/local/lib/python3.11/dist-packages (from tensorly) (1.15.2)\n",
            "Downloading tensorly-0.9.0-py3-none-any.whl (7.4 MB)\n",
            "\u001b[?25l   \u001b[90m━━━━━━━━━━━━━━━━━━━━━━━━━━━━━━━━━━━━━━━━\u001b[0m \u001b[32m0.0/7.4 MB\u001b[0m \u001b[31m?\u001b[0m eta \u001b[36m-:--:--\u001b[0m\r\u001b[2K   \u001b[91m━\u001b[0m\u001b[90m╺\u001b[0m\u001b[90m━━━━━━━━━━━━━━━━━━━━━━━━━━━━━━━━━━━━━━\u001b[0m \u001b[32m0.2/7.4 MB\u001b[0m \u001b[31m6.1 MB/s\u001b[0m eta \u001b[36m0:00:02\u001b[0m\r\u001b[2K   \u001b[91m━━━━━━━━━\u001b[0m\u001b[90m╺\u001b[0m\u001b[90m━━━━━━━━━━━━━━━━━━━━━━━━━━━━━━\u001b[0m \u001b[32m1.7/7.4 MB\u001b[0m \u001b[31m25.6 MB/s\u001b[0m eta \u001b[36m0:00:01\u001b[0m\r\u001b[2K   \u001b[91m━━━━━━━━━━━━━━━━━━━━━━━━━━━━━━━━━━━━━━━\u001b[0m\u001b[91m╸\u001b[0m \u001b[32m7.4/7.4 MB\u001b[0m \u001b[31m72.2 MB/s\u001b[0m eta \u001b[36m0:00:01\u001b[0m\r\u001b[2K   \u001b[90m━━━━━━━━━━━━━━━━━━━━━━━━━━━━━━━━━━━━━━━━\u001b[0m \u001b[32m7.4/7.4 MB\u001b[0m \u001b[31m56.3 MB/s\u001b[0m eta \u001b[36m0:00:00\u001b[0m\n",
            "\u001b[?25hInstalling collected packages: tensorly\n",
            "Successfully installed tensorly-0.9.0\n"
          ]
        }
      ]
    },
    {
      "cell_type": "code",
      "execution_count": 5,
      "id": "mtzpvri3Uz16",
      "metadata": {
        "colab": {
          "base_uri": "https://localhost:8080/"
        },
        "id": "mtzpvri3Uz16",
        "outputId": "c216ee7a-d0c4-4cd0-f231-6ca4605d20c1"
      },
      "outputs": [
        {
          "output_type": "stream",
          "name": "stdout",
          "text": [
            "Mounted at /content/drive\n"
          ]
        }
      ],
      "source": [
        "from google.colab import drive\n",
        "drive.mount('/content/drive')"
      ]
    },
    {
      "cell_type": "markdown",
      "id": "5mgY653dzs5e",
      "metadata": {
        "id": "5mgY653dzs5e"
      },
      "source": [
        "                         **Tensorization of the CIC_IoT2024 Dataset**\n",
        "\n",
        "This work focuses on the tensorization of the CIC_IoT2024 dataset, which was collected at the Canadian Institute for Cybersecurity (CIC). The dataset is specifically designed for two major tasks: IoT device identification and anomaly detection.\n",
        "\n",
        "It consists of two sets of features:\n",
        "\n",
        "Behavior-based features (such as HTTPS handshake information, User-Agent strings)\n",
        "\n",
        "Flow-based features (including stream, channel, and jitter metrics over time intervals)\n",
        "\n",
        "The dataset includes network traffic from 105 IoT devices and simulates 33 types of attacks, grouped into seven categories: DDoS, DoS, Reconnaissance, Web-based, Brute Force, Spoofing, and Mirai. All attacks are launched by malicious IoT devices targeting other IoT devices.\n",
        "\n",
        "Tensorization allows for the transformation of this multi-source data into structured multi-dimensional arrays (tensors), capturing latent patterns and relationships across various dimensions (e.g., time, device, feature type). This approach supports more effective anomaly detection and classification in complex IoT environments."
      ]
    },
    {
      "cell_type": "markdown",
      "id": "zlK1wHkr8FG3",
      "metadata": {
        "id": "zlK1wHkr8FG3"
      },
      "source": [
        "We will construct two different tensors\n",
        "\n",
        "1. Behavior based features tensor\n",
        "2. Flow based tensor\n",
        "The two tensors will be used for anomalies detection. For all class of features, we have taken one benign csv file and three anomalous for different attack in wich have taken a small proportion\n",
        "\n",
        "\n",
        "**Let construct the Behavior based features tensor**\n"
      ]
    },
    {
      "cell_type": "code",
      "execution_count": null,
      "id": "eb050da4",
      "metadata": {
        "colab": {
          "base_uri": "https://localhost:8080/"
        },
        "id": "eb050da4",
        "outputId": "a1d28d80-294d-4a01-9ece-3f99d9457eff"
      },
      "outputs": [
        {
          "output_type": "stream",
          "name": "stderr",
          "text": [
            "<ipython-input-6-225bd171e4f4>:3: DtypeWarning: Columns (16) have mixed types. Specify dtype option on import or set low_memory=False.\n",
            "  df_DDoS=pd.read_csv('/content/drive/MyDrive/Colab Notebooks/Datasets_iot/anomalies_packetbased/DDoS-TCP_Flood.csv') #skip bad lines\n",
            "<ipython-input-6-225bd171e4f4>:4: DtypeWarning: Columns (16) have mixed types. Specify dtype option on import or set low_memory=False.\n",
            "  df_Mirai=pd.read_csv('/content/drive/MyDrive/Colab Notebooks/Datasets_iot/anomalies_packetbased/Mirai-greip_flood.csv') #skip bad lines\n"
          ]
        }
      ],
      "source": [
        "df_b_1 = pd.read_csv('/content/drive/MyDrive/Colab Notebooks/Datasets_iot/Benign_packetbase/BenignTraffic.csv', on_bad_lines='skip', engine='python') #skip bad lines\n",
        "df_b_2=pd.read_csv('/content/drive/MyDrive/Colab Notebooks/Datasets_iot/Benign_packetbase/BenignTraffic1.csv') #skip bad lines\n",
        "df_DDoS=pd.read_csv('/content/drive/MyDrive/Colab Notebooks/Datasets_iot/anomalies_packetbased/DDoS-TCP_Flood.csv') #skip bad lines\n",
        "df_Mirai=pd.read_csv('/content/drive/MyDrive/Colab Notebooks/Datasets_iot/anomalies_packetbased/Mirai-greip_flood.csv') #skip bad lines"
      ]
    },
    {
      "cell_type": "code",
      "source": [
        "df_b_1.head()"
      ],
      "metadata": {
        "colab": {
          "base_uri": "https://localhost:8080/",
          "height": 429
        },
        "id": "xilD-9VthtFo",
        "outputId": "854a4957-ccc2-422f-b421-5ae481b1f9a2"
      },
      "id": "xilD-9VthtFo",
      "execution_count": null,
      "outputs": [
        {
          "output_type": "execute_result",
          "data": {
            "text/plain": [
              "   stream               src_mac            dst_mac           src_ip  \\\n",
              "0       0  Arlo Q Indoor Camera  3c:18:a0:41:c3:a0  192.168.137.175   \n",
              "1       0  Arlo Q Indoor Camera  3c:18:a0:41:c3:a0  192.168.137.175   \n",
              "2       0  Arlo Q Indoor Camera  3c:18:a0:41:c3:a0  192.168.137.175   \n",
              "3       0  Arlo Q Indoor Camera  3c:18:a0:41:c3:a0  192.168.137.175   \n",
              "4       0  Arlo Q Indoor Camera  3c:18:a0:41:c3:a0  192.168.137.175   \n",
              "\n",
              "         dst_ip  src_port  dst_port  inter_arrival_time  \\\n",
              "0  99.81.244.93     56891       443            0.000000   \n",
              "1  99.81.244.93     56891       443            0.000164   \n",
              "2  99.81.244.93     56891       443            0.000269   \n",
              "3  99.81.244.93     56891       443            0.000414   \n",
              "4  99.81.244.93     56891       443            0.001800   \n",
              "\n",
              "   time_since_previously_displayed_frame  port_class_dst  ...    sum_p  \\\n",
              "0                               0.000000               1  ...  58160.0   \n",
              "1                               0.000164               1  ...  58160.0   \n",
              "2                               0.000105               1  ...  56712.0   \n",
              "3                               0.000145               1  ...  55264.0   \n",
              "4                               0.001386               1  ...  53816.0   \n",
              "\n",
              "    min_p   max_p   med_p  average_p          var_p    q3_p    q1_p  iqr_p  \\\n",
              "0  2908.0  2908.0  2908.0     2908.0       0.000000  2908.0  2908.0    0.0   \n",
              "1  2908.0  2908.0  2908.0     2908.0       0.000000  2908.0  2908.0    0.0   \n",
              "2  1460.0  2908.0  2908.0     2835.6  104835.200000  2908.0  2908.0    0.0   \n",
              "3  1460.0  2908.0  2908.0     2763.2  198635.115789  2908.0  2908.0    0.0   \n",
              "4  1460.0  2908.0  2908.0     2690.8  281399.747368  2908.0  2908.0    0.0   \n",
              "\n",
              "   l3_ip_dst_count  \n",
              "0              1.0  \n",
              "1              1.0  \n",
              "2              1.0  \n",
              "3              1.0  \n",
              "4              1.0  \n",
              "\n",
              "[5 rows x 135 columns]"
            ],
            "text/html": [
              "\n",
              "  <div id=\"df-9e67300c-966d-4b57-a81b-f6955fa94b89\" class=\"colab-df-container\">\n",
              "    <div>\n",
              "<style scoped>\n",
              "    .dataframe tbody tr th:only-of-type {\n",
              "        vertical-align: middle;\n",
              "    }\n",
              "\n",
              "    .dataframe tbody tr th {\n",
              "        vertical-align: top;\n",
              "    }\n",
              "\n",
              "    .dataframe thead th {\n",
              "        text-align: right;\n",
              "    }\n",
              "</style>\n",
              "<table border=\"1\" class=\"dataframe\">\n",
              "  <thead>\n",
              "    <tr style=\"text-align: right;\">\n",
              "      <th></th>\n",
              "      <th>stream</th>\n",
              "      <th>src_mac</th>\n",
              "      <th>dst_mac</th>\n",
              "      <th>src_ip</th>\n",
              "      <th>dst_ip</th>\n",
              "      <th>src_port</th>\n",
              "      <th>dst_port</th>\n",
              "      <th>inter_arrival_time</th>\n",
              "      <th>time_since_previously_displayed_frame</th>\n",
              "      <th>port_class_dst</th>\n",
              "      <th>...</th>\n",
              "      <th>sum_p</th>\n",
              "      <th>min_p</th>\n",
              "      <th>max_p</th>\n",
              "      <th>med_p</th>\n",
              "      <th>average_p</th>\n",
              "      <th>var_p</th>\n",
              "      <th>q3_p</th>\n",
              "      <th>q1_p</th>\n",
              "      <th>iqr_p</th>\n",
              "      <th>l3_ip_dst_count</th>\n",
              "    </tr>\n",
              "  </thead>\n",
              "  <tbody>\n",
              "    <tr>\n",
              "      <th>0</th>\n",
              "      <td>0</td>\n",
              "      <td>Arlo Q Indoor Camera</td>\n",
              "      <td>3c:18:a0:41:c3:a0</td>\n",
              "      <td>192.168.137.175</td>\n",
              "      <td>99.81.244.93</td>\n",
              "      <td>56891</td>\n",
              "      <td>443</td>\n",
              "      <td>0.000000</td>\n",
              "      <td>0.000000</td>\n",
              "      <td>1</td>\n",
              "      <td>...</td>\n",
              "      <td>58160.0</td>\n",
              "      <td>2908.0</td>\n",
              "      <td>2908.0</td>\n",
              "      <td>2908.0</td>\n",
              "      <td>2908.0</td>\n",
              "      <td>0.000000</td>\n",
              "      <td>2908.0</td>\n",
              "      <td>2908.0</td>\n",
              "      <td>0.0</td>\n",
              "      <td>1.0</td>\n",
              "    </tr>\n",
              "    <tr>\n",
              "      <th>1</th>\n",
              "      <td>0</td>\n",
              "      <td>Arlo Q Indoor Camera</td>\n",
              "      <td>3c:18:a0:41:c3:a0</td>\n",
              "      <td>192.168.137.175</td>\n",
              "      <td>99.81.244.93</td>\n",
              "      <td>56891</td>\n",
              "      <td>443</td>\n",
              "      <td>0.000164</td>\n",
              "      <td>0.000164</td>\n",
              "      <td>1</td>\n",
              "      <td>...</td>\n",
              "      <td>58160.0</td>\n",
              "      <td>2908.0</td>\n",
              "      <td>2908.0</td>\n",
              "      <td>2908.0</td>\n",
              "      <td>2908.0</td>\n",
              "      <td>0.000000</td>\n",
              "      <td>2908.0</td>\n",
              "      <td>2908.0</td>\n",
              "      <td>0.0</td>\n",
              "      <td>1.0</td>\n",
              "    </tr>\n",
              "    <tr>\n",
              "      <th>2</th>\n",
              "      <td>0</td>\n",
              "      <td>Arlo Q Indoor Camera</td>\n",
              "      <td>3c:18:a0:41:c3:a0</td>\n",
              "      <td>192.168.137.175</td>\n",
              "      <td>99.81.244.93</td>\n",
              "      <td>56891</td>\n",
              "      <td>443</td>\n",
              "      <td>0.000269</td>\n",
              "      <td>0.000105</td>\n",
              "      <td>1</td>\n",
              "      <td>...</td>\n",
              "      <td>56712.0</td>\n",
              "      <td>1460.0</td>\n",
              "      <td>2908.0</td>\n",
              "      <td>2908.0</td>\n",
              "      <td>2835.6</td>\n",
              "      <td>104835.200000</td>\n",
              "      <td>2908.0</td>\n",
              "      <td>2908.0</td>\n",
              "      <td>0.0</td>\n",
              "      <td>1.0</td>\n",
              "    </tr>\n",
              "    <tr>\n",
              "      <th>3</th>\n",
              "      <td>0</td>\n",
              "      <td>Arlo Q Indoor Camera</td>\n",
              "      <td>3c:18:a0:41:c3:a0</td>\n",
              "      <td>192.168.137.175</td>\n",
              "      <td>99.81.244.93</td>\n",
              "      <td>56891</td>\n",
              "      <td>443</td>\n",
              "      <td>0.000414</td>\n",
              "      <td>0.000145</td>\n",
              "      <td>1</td>\n",
              "      <td>...</td>\n",
              "      <td>55264.0</td>\n",
              "      <td>1460.0</td>\n",
              "      <td>2908.0</td>\n",
              "      <td>2908.0</td>\n",
              "      <td>2763.2</td>\n",
              "      <td>198635.115789</td>\n",
              "      <td>2908.0</td>\n",
              "      <td>2908.0</td>\n",
              "      <td>0.0</td>\n",
              "      <td>1.0</td>\n",
              "    </tr>\n",
              "    <tr>\n",
              "      <th>4</th>\n",
              "      <td>0</td>\n",
              "      <td>Arlo Q Indoor Camera</td>\n",
              "      <td>3c:18:a0:41:c3:a0</td>\n",
              "      <td>192.168.137.175</td>\n",
              "      <td>99.81.244.93</td>\n",
              "      <td>56891</td>\n",
              "      <td>443</td>\n",
              "      <td>0.001800</td>\n",
              "      <td>0.001386</td>\n",
              "      <td>1</td>\n",
              "      <td>...</td>\n",
              "      <td>53816.0</td>\n",
              "      <td>1460.0</td>\n",
              "      <td>2908.0</td>\n",
              "      <td>2908.0</td>\n",
              "      <td>2690.8</td>\n",
              "      <td>281399.747368</td>\n",
              "      <td>2908.0</td>\n",
              "      <td>2908.0</td>\n",
              "      <td>0.0</td>\n",
              "      <td>1.0</td>\n",
              "    </tr>\n",
              "  </tbody>\n",
              "</table>\n",
              "<p>5 rows × 135 columns</p>\n",
              "</div>\n",
              "    <div class=\"colab-df-buttons\">\n",
              "\n",
              "  <div class=\"colab-df-container\">\n",
              "    <button class=\"colab-df-convert\" onclick=\"convertToInteractive('df-9e67300c-966d-4b57-a81b-f6955fa94b89')\"\n",
              "            title=\"Convert this dataframe to an interactive table.\"\n",
              "            style=\"display:none;\">\n",
              "\n",
              "  <svg xmlns=\"http://www.w3.org/2000/svg\" height=\"24px\" viewBox=\"0 -960 960 960\">\n",
              "    <path d=\"M120-120v-720h720v720H120Zm60-500h600v-160H180v160Zm220 220h160v-160H400v160Zm0 220h160v-160H400v160ZM180-400h160v-160H180v160Zm440 0h160v-160H620v160ZM180-180h160v-160H180v160Zm440 0h160v-160H620v160Z\"/>\n",
              "  </svg>\n",
              "    </button>\n",
              "\n",
              "  <style>\n",
              "    .colab-df-container {\n",
              "      display:flex;\n",
              "      gap: 12px;\n",
              "    }\n",
              "\n",
              "    .colab-df-convert {\n",
              "      background-color: #E8F0FE;\n",
              "      border: none;\n",
              "      border-radius: 50%;\n",
              "      cursor: pointer;\n",
              "      display: none;\n",
              "      fill: #1967D2;\n",
              "      height: 32px;\n",
              "      padding: 0 0 0 0;\n",
              "      width: 32px;\n",
              "    }\n",
              "\n",
              "    .colab-df-convert:hover {\n",
              "      background-color: #E2EBFA;\n",
              "      box-shadow: 0px 1px 2px rgba(60, 64, 67, 0.3), 0px 1px 3px 1px rgba(60, 64, 67, 0.15);\n",
              "      fill: #174EA6;\n",
              "    }\n",
              "\n",
              "    .colab-df-buttons div {\n",
              "      margin-bottom: 4px;\n",
              "    }\n",
              "\n",
              "    [theme=dark] .colab-df-convert {\n",
              "      background-color: #3B4455;\n",
              "      fill: #D2E3FC;\n",
              "    }\n",
              "\n",
              "    [theme=dark] .colab-df-convert:hover {\n",
              "      background-color: #434B5C;\n",
              "      box-shadow: 0px 1px 3px 1px rgba(0, 0, 0, 0.15);\n",
              "      filter: drop-shadow(0px 1px 2px rgba(0, 0, 0, 0.3));\n",
              "      fill: #FFFFFF;\n",
              "    }\n",
              "  </style>\n",
              "\n",
              "    <script>\n",
              "      const buttonEl =\n",
              "        document.querySelector('#df-9e67300c-966d-4b57-a81b-f6955fa94b89 button.colab-df-convert');\n",
              "      buttonEl.style.display =\n",
              "        google.colab.kernel.accessAllowed ? 'block' : 'none';\n",
              "\n",
              "      async function convertToInteractive(key) {\n",
              "        const element = document.querySelector('#df-9e67300c-966d-4b57-a81b-f6955fa94b89');\n",
              "        const dataTable =\n",
              "          await google.colab.kernel.invokeFunction('convertToInteractive',\n",
              "                                                    [key], {});\n",
              "        if (!dataTable) return;\n",
              "\n",
              "        const docLinkHtml = 'Like what you see? Visit the ' +\n",
              "          '<a target=\"_blank\" href=https://colab.research.google.com/notebooks/data_table.ipynb>data table notebook</a>'\n",
              "          + ' to learn more about interactive tables.';\n",
              "        element.innerHTML = '';\n",
              "        dataTable['output_type'] = 'display_data';\n",
              "        await google.colab.output.renderOutput(dataTable, element);\n",
              "        const docLink = document.createElement('div');\n",
              "        docLink.innerHTML = docLinkHtml;\n",
              "        element.appendChild(docLink);\n",
              "      }\n",
              "    </script>\n",
              "  </div>\n",
              "\n",
              "\n",
              "<div id=\"df-5b910f61-5655-4461-a72f-46a8a07fc87f\">\n",
              "  <button class=\"colab-df-quickchart\" onclick=\"quickchart('df-5b910f61-5655-4461-a72f-46a8a07fc87f')\"\n",
              "            title=\"Suggest charts\"\n",
              "            style=\"display:none;\">\n",
              "\n",
              "<svg xmlns=\"http://www.w3.org/2000/svg\" height=\"24px\"viewBox=\"0 0 24 24\"\n",
              "     width=\"24px\">\n",
              "    <g>\n",
              "        <path d=\"M19 3H5c-1.1 0-2 .9-2 2v14c0 1.1.9 2 2 2h14c1.1 0 2-.9 2-2V5c0-1.1-.9-2-2-2zM9 17H7v-7h2v7zm4 0h-2V7h2v10zm4 0h-2v-4h2v4z\"/>\n",
              "    </g>\n",
              "</svg>\n",
              "  </button>\n",
              "\n",
              "<style>\n",
              "  .colab-df-quickchart {\n",
              "      --bg-color: #E8F0FE;\n",
              "      --fill-color: #1967D2;\n",
              "      --hover-bg-color: #E2EBFA;\n",
              "      --hover-fill-color: #174EA6;\n",
              "      --disabled-fill-color: #AAA;\n",
              "      --disabled-bg-color: #DDD;\n",
              "  }\n",
              "\n",
              "  [theme=dark] .colab-df-quickchart {\n",
              "      --bg-color: #3B4455;\n",
              "      --fill-color: #D2E3FC;\n",
              "      --hover-bg-color: #434B5C;\n",
              "      --hover-fill-color: #FFFFFF;\n",
              "      --disabled-bg-color: #3B4455;\n",
              "      --disabled-fill-color: #666;\n",
              "  }\n",
              "\n",
              "  .colab-df-quickchart {\n",
              "    background-color: var(--bg-color);\n",
              "    border: none;\n",
              "    border-radius: 50%;\n",
              "    cursor: pointer;\n",
              "    display: none;\n",
              "    fill: var(--fill-color);\n",
              "    height: 32px;\n",
              "    padding: 0;\n",
              "    width: 32px;\n",
              "  }\n",
              "\n",
              "  .colab-df-quickchart:hover {\n",
              "    background-color: var(--hover-bg-color);\n",
              "    box-shadow: 0 1px 2px rgba(60, 64, 67, 0.3), 0 1px 3px 1px rgba(60, 64, 67, 0.15);\n",
              "    fill: var(--button-hover-fill-color);\n",
              "  }\n",
              "\n",
              "  .colab-df-quickchart-complete:disabled,\n",
              "  .colab-df-quickchart-complete:disabled:hover {\n",
              "    background-color: var(--disabled-bg-color);\n",
              "    fill: var(--disabled-fill-color);\n",
              "    box-shadow: none;\n",
              "  }\n",
              "\n",
              "  .colab-df-spinner {\n",
              "    border: 2px solid var(--fill-color);\n",
              "    border-color: transparent;\n",
              "    border-bottom-color: var(--fill-color);\n",
              "    animation:\n",
              "      spin 1s steps(1) infinite;\n",
              "  }\n",
              "\n",
              "  @keyframes spin {\n",
              "    0% {\n",
              "      border-color: transparent;\n",
              "      border-bottom-color: var(--fill-color);\n",
              "      border-left-color: var(--fill-color);\n",
              "    }\n",
              "    20% {\n",
              "      border-color: transparent;\n",
              "      border-left-color: var(--fill-color);\n",
              "      border-top-color: var(--fill-color);\n",
              "    }\n",
              "    30% {\n",
              "      border-color: transparent;\n",
              "      border-left-color: var(--fill-color);\n",
              "      border-top-color: var(--fill-color);\n",
              "      border-right-color: var(--fill-color);\n",
              "    }\n",
              "    40% {\n",
              "      border-color: transparent;\n",
              "      border-right-color: var(--fill-color);\n",
              "      border-top-color: var(--fill-color);\n",
              "    }\n",
              "    60% {\n",
              "      border-color: transparent;\n",
              "      border-right-color: var(--fill-color);\n",
              "    }\n",
              "    80% {\n",
              "      border-color: transparent;\n",
              "      border-right-color: var(--fill-color);\n",
              "      border-bottom-color: var(--fill-color);\n",
              "    }\n",
              "    90% {\n",
              "      border-color: transparent;\n",
              "      border-bottom-color: var(--fill-color);\n",
              "    }\n",
              "  }\n",
              "</style>\n",
              "\n",
              "  <script>\n",
              "    async function quickchart(key) {\n",
              "      const quickchartButtonEl =\n",
              "        document.querySelector('#' + key + ' button');\n",
              "      quickchartButtonEl.disabled = true;  // To prevent multiple clicks.\n",
              "      quickchartButtonEl.classList.add('colab-df-spinner');\n",
              "      try {\n",
              "        const charts = await google.colab.kernel.invokeFunction(\n",
              "            'suggestCharts', [key], {});\n",
              "      } catch (error) {\n",
              "        console.error('Error during call to suggestCharts:', error);\n",
              "      }\n",
              "      quickchartButtonEl.classList.remove('colab-df-spinner');\n",
              "      quickchartButtonEl.classList.add('colab-df-quickchart-complete');\n",
              "    }\n",
              "    (() => {\n",
              "      let quickchartButtonEl =\n",
              "        document.querySelector('#df-5b910f61-5655-4461-a72f-46a8a07fc87f button');\n",
              "      quickchartButtonEl.style.display =\n",
              "        google.colab.kernel.accessAllowed ? 'block' : 'none';\n",
              "    })();\n",
              "  </script>\n",
              "</div>\n",
              "\n",
              "    </div>\n",
              "  </div>\n"
            ],
            "application/vnd.google.colaboratory.intrinsic+json": {
              "type": "dataframe",
              "variable_name": "df_b_1"
            }
          },
          "metadata": {},
          "execution_count": 16
        }
      ]
    },
    {
      "cell_type": "code",
      "execution_count": null,
      "id": "xfRRDTwYz0FW",
      "metadata": {
        "id": "xfRRDTwYz0FW"
      },
      "outputs": [],
      "source": [
        "df_b_1['label']=0\n",
        "df_b_2['label']=0\n",
        "df_DDoS['label']=1\n",
        "df_Mirai['label']=2"
      ]
    },
    {
      "cell_type": "code",
      "source": [
        "# Shape of each dataset\n",
        "print(\"Shape of df_b_1:\", df_b_1.shape)\n",
        "print(\"Shape of df_b_2:\", df_b_2.shape)\n",
        "print(\"Shape of df_DDoS:\", df_DDoS.shape)\n",
        "print(\"Shape of df_Mirai:\", df_Mirai.shape)"
      ],
      "metadata": {
        "colab": {
          "base_uri": "https://localhost:8080/"
        },
        "id": "bOz77ZO1n24F",
        "outputId": "34f46812-eb59-492b-d3e1-1f12675dd883"
      },
      "id": "bOz77ZO1n24F",
      "execution_count": null,
      "outputs": [
        {
          "output_type": "stream",
          "name": "stdout",
          "text": [
            "Shape of df_b_1: (142862, 136)\n",
            "Shape of df_b_2: (128853, 136)\n",
            "Shape of df_DDoS: (85423, 136)\n",
            "Shape of df_Mirai: (213030, 136)\n"
          ]
        }
      ]
    },
    {
      "cell_type": "code",
      "source": [
        "# Infos of each dataset\n",
        "print('for ben_1','*'*20,df_b_1.info())\n",
        "print(''*40)\n",
        "print('for ben_2','*'*20,df_b_2.info())\n",
        "print(''*40)\n",
        "print(''*40)\n",
        "print('for DDoS','*'*20,df_DDoS.info())\n",
        "print(''*40)\n",
        "print('for Mirai','*'*20,df_Mirai.info())"
      ],
      "metadata": {
        "colab": {
          "base_uri": "https://localhost:8080/"
        },
        "id": "xsGcmBKniBmK",
        "outputId": "fb400e93-b407-4a00-cba5-fd9503773e72"
      },
      "id": "xsGcmBKniBmK",
      "execution_count": null,
      "outputs": [
        {
          "output_type": "stream",
          "name": "stdout",
          "text": [
            "<class 'pandas.core.frame.DataFrame'>\n",
            "RangeIndex: 142862 entries, 0 to 142861\n",
            "Columns: 136 entries, stream to label\n",
            "dtypes: float64(98), int64(22), object(16)\n",
            "memory usage: 148.2+ MB\n",
            "for ben_1 ******************** None\n",
            "\n",
            "<class 'pandas.core.frame.DataFrame'>\n",
            "RangeIndex: 128853 entries, 0 to 128852\n",
            "Columns: 136 entries, stream to label\n",
            "dtypes: float64(118), int64(2), object(16)\n",
            "memory usage: 133.7+ MB\n",
            "for ben_2 ******************** None\n",
            "\n",
            "\n",
            "<class 'pandas.core.frame.DataFrame'>\n",
            "RangeIndex: 85423 entries, 0 to 85422\n",
            "Columns: 136 entries, stream to label\n",
            "dtypes: float64(97), int64(23), object(16)\n",
            "memory usage: 88.6+ MB\n",
            "for DDoS ******************** None\n",
            "\n",
            "<class 'pandas.core.frame.DataFrame'>\n",
            "RangeIndex: 213030 entries, 0 to 213029\n",
            "Columns: 136 entries, stream to label\n",
            "dtypes: float64(97), int64(23), object(16)\n",
            "memory usage: 221.0+ MB\n",
            "for Mirai ******************** None\n"
          ]
        }
      ]
    },
    {
      "cell_type": "code",
      "execution_count": null,
      "id": "HT_qRcNH7fsZ",
      "metadata": {
        "id": "HT_qRcNH7fsZ"
      },
      "outputs": [],
      "source": [
        "#we drop the na values in src_ip,dst_ip\n",
        "df_b_1.dropna(subset=['src_ip','dst_ip'],inplace=True)\n",
        "df_b_2.dropna(subset=['src_ip','dst_ip'],inplace=True)\n",
        "df_DDoS.dropna(subset=['src_ip','dst_ip'],inplace=True)\n",
        "df_Mirai.dropna(subset=['src_ip','dst_ip'],inplace=True)"
      ]
    },
    {
      "cell_type": "code",
      "execution_count": null,
      "id": "iOO2C3GD-5o9",
      "metadata": {
        "id": "iOO2C3GD-5o9"
      },
      "outputs": [],
      "source": [
        "#we drop the duplicated samples\n",
        "df_b_1.drop_duplicates(inplace=True)\n",
        "df_b_2.drop_duplicates(inplace=True)\n",
        "df_DDoS.drop_duplicates(inplace=True)\n",
        "df_Mirai.drop_duplicates(inplace=True)"
      ]
    },
    {
      "cell_type": "code",
      "source": [
        "df_Mirai['src_ip'].value_counts().head(30)"
      ],
      "metadata": {
        "colab": {
          "base_uri": "https://localhost:8080/",
          "height": 1000
        },
        "id": "bFT0UFZLtI45",
        "outputId": "fb786517-3fc9-4454-d3e7-8902ab97a73c"
      },
      "id": "bFT0UFZLtI45",
      "execution_count": null,
      "outputs": [
        {
          "output_type": "execute_result",
          "data": {
            "text/plain": [
              "src_ip\n",
              "192.168.137.189    44225\n",
              "192.168.137.131    40478\n",
              "192.168.137.227    31227\n",
              "192.168.137.177    30713\n",
              "192.168.137.220    28816\n",
              "192.168.137.81     12991\n",
              "192.168.137.242    12733\n",
              "192.168.137.123      787\n",
              "192.168.137.138      621\n",
              "54.230.48.19         524\n",
              "192.168.137.1        521\n",
              "192.168.137.41       467\n",
              "192.168.137.96       443\n",
              "192.168.137.148      340\n",
              "192.168.137.118      279\n",
              "51.145.143.28        266\n",
              "8.8.8.8              255\n",
              "192.168.137.125      249\n",
              "34.158.253.218       213\n",
              "13.225.189.112       208\n",
              "192.168.137.135      158\n",
              "3.217.147.217        156\n",
              "192.168.137.122      155\n",
              "192.168.137.208      128\n",
              "192.168.137.14       122\n",
              "192.168.137.3        112\n",
              "192.168.137.91       109\n",
              "192.168.137.185      103\n",
              "35.162.13.26          97\n",
              "172.217.13.170        92\n",
              "Name: count, dtype: int64"
            ],
            "text/html": [
              "<div>\n",
              "<style scoped>\n",
              "    .dataframe tbody tr th:only-of-type {\n",
              "        vertical-align: middle;\n",
              "    }\n",
              "\n",
              "    .dataframe tbody tr th {\n",
              "        vertical-align: top;\n",
              "    }\n",
              "\n",
              "    .dataframe thead th {\n",
              "        text-align: right;\n",
              "    }\n",
              "</style>\n",
              "<table border=\"1\" class=\"dataframe\">\n",
              "  <thead>\n",
              "    <tr style=\"text-align: right;\">\n",
              "      <th></th>\n",
              "      <th>count</th>\n",
              "    </tr>\n",
              "    <tr>\n",
              "      <th>src_ip</th>\n",
              "      <th></th>\n",
              "    </tr>\n",
              "  </thead>\n",
              "  <tbody>\n",
              "    <tr>\n",
              "      <th>192.168.137.189</th>\n",
              "      <td>44225</td>\n",
              "    </tr>\n",
              "    <tr>\n",
              "      <th>192.168.137.131</th>\n",
              "      <td>40478</td>\n",
              "    </tr>\n",
              "    <tr>\n",
              "      <th>192.168.137.227</th>\n",
              "      <td>31227</td>\n",
              "    </tr>\n",
              "    <tr>\n",
              "      <th>192.168.137.177</th>\n",
              "      <td>30713</td>\n",
              "    </tr>\n",
              "    <tr>\n",
              "      <th>192.168.137.220</th>\n",
              "      <td>28816</td>\n",
              "    </tr>\n",
              "    <tr>\n",
              "      <th>192.168.137.81</th>\n",
              "      <td>12991</td>\n",
              "    </tr>\n",
              "    <tr>\n",
              "      <th>192.168.137.242</th>\n",
              "      <td>12733</td>\n",
              "    </tr>\n",
              "    <tr>\n",
              "      <th>192.168.137.123</th>\n",
              "      <td>787</td>\n",
              "    </tr>\n",
              "    <tr>\n",
              "      <th>192.168.137.138</th>\n",
              "      <td>621</td>\n",
              "    </tr>\n",
              "    <tr>\n",
              "      <th>54.230.48.19</th>\n",
              "      <td>524</td>\n",
              "    </tr>\n",
              "    <tr>\n",
              "      <th>192.168.137.1</th>\n",
              "      <td>521</td>\n",
              "    </tr>\n",
              "    <tr>\n",
              "      <th>192.168.137.41</th>\n",
              "      <td>467</td>\n",
              "    </tr>\n",
              "    <tr>\n",
              "      <th>192.168.137.96</th>\n",
              "      <td>443</td>\n",
              "    </tr>\n",
              "    <tr>\n",
              "      <th>192.168.137.148</th>\n",
              "      <td>340</td>\n",
              "    </tr>\n",
              "    <tr>\n",
              "      <th>192.168.137.118</th>\n",
              "      <td>279</td>\n",
              "    </tr>\n",
              "    <tr>\n",
              "      <th>51.145.143.28</th>\n",
              "      <td>266</td>\n",
              "    </tr>\n",
              "    <tr>\n",
              "      <th>8.8.8.8</th>\n",
              "      <td>255</td>\n",
              "    </tr>\n",
              "    <tr>\n",
              "      <th>192.168.137.125</th>\n",
              "      <td>249</td>\n",
              "    </tr>\n",
              "    <tr>\n",
              "      <th>34.158.253.218</th>\n",
              "      <td>213</td>\n",
              "    </tr>\n",
              "    <tr>\n",
              "      <th>13.225.189.112</th>\n",
              "      <td>208</td>\n",
              "    </tr>\n",
              "    <tr>\n",
              "      <th>192.168.137.135</th>\n",
              "      <td>158</td>\n",
              "    </tr>\n",
              "    <tr>\n",
              "      <th>3.217.147.217</th>\n",
              "      <td>156</td>\n",
              "    </tr>\n",
              "    <tr>\n",
              "      <th>192.168.137.122</th>\n",
              "      <td>155</td>\n",
              "    </tr>\n",
              "    <tr>\n",
              "      <th>192.168.137.208</th>\n",
              "      <td>128</td>\n",
              "    </tr>\n",
              "    <tr>\n",
              "      <th>192.168.137.14</th>\n",
              "      <td>122</td>\n",
              "    </tr>\n",
              "    <tr>\n",
              "      <th>192.168.137.3</th>\n",
              "      <td>112</td>\n",
              "    </tr>\n",
              "    <tr>\n",
              "      <th>192.168.137.91</th>\n",
              "      <td>109</td>\n",
              "    </tr>\n",
              "    <tr>\n",
              "      <th>192.168.137.185</th>\n",
              "      <td>103</td>\n",
              "    </tr>\n",
              "    <tr>\n",
              "      <th>35.162.13.26</th>\n",
              "      <td>97</td>\n",
              "    </tr>\n",
              "    <tr>\n",
              "      <th>172.217.13.170</th>\n",
              "      <td>92</td>\n",
              "    </tr>\n",
              "  </tbody>\n",
              "</table>\n",
              "</div><br><label><b>dtype:</b> int64</label>"
            ]
          },
          "metadata": {},
          "execution_count": 8
        }
      ]
    },
    {
      "cell_type": "code",
      "source": [
        "L_DDoS=['192.168.137.123',\n",
        "       '157.249.81.141',\n",
        "'192.168.137.224',\n",
        "'255.255.255.255',\n",
        "'192.168.137.1',\n",
        "       ]\n",
        "L_Mirai=['192.168.137.242', # The indent here was incorrect\n",
        "'192.168.137.123',\n",
        "'192.168.137.138',\n",
        "'54.230.48.19',\n",
        "'192.168.137.41']"
      ],
      "metadata": {
        "id": "vgKR4YyHqYhK"
      },
      "id": "vgKR4YyHqYhK",
      "execution_count": null,
      "outputs": []
    },
    {
      "cell_type": "code",
      "source": [
        "#We select some dst_ip in D and DDoS and some Src_ip in Mirai datasets to corrupt the benign\n",
        "df_DDoS[df_DDoS['dst_ip'].isin(L_DDoS)]['src_ip'].value_counts()"
      ],
      "metadata": {
        "colab": {
          "base_uri": "https://localhost:8080/",
          "height": 1000
        },
        "id": "rBdIte4mmu1R",
        "outputId": "d4e8d675-6c80-4399-a0dc-6c9b41fbbf62"
      },
      "id": "rBdIte4mmu1R",
      "execution_count": null,
      "outputs": [
        {
          "output_type": "execute_result",
          "data": {
            "text/plain": [
              "src_ip\n",
              "192.168.137.17     23837\n",
              "192.168.137.195    23389\n",
              "192.168.137.134    17186\n",
              "192.168.137.156    13121\n",
              "192.168.137.15      5485\n",
              "192.168.137.109     1665\n",
              "192.168.137.224      112\n",
              "13.225.210.183        56\n",
              "157.249.81.141        55\n",
              "192.168.137.1         17\n",
              "192.168.137.65         4\n",
              "192.168.137.206        4\n",
              "192.168.137.187        4\n",
              "192.168.137.229        3\n",
              "192.168.137.105        3\n",
              "192.168.137.7          3\n",
              "192.168.137.75         3\n",
              "192.168.137.158        3\n",
              "192.168.137.59         3\n",
              "192.168.137.250        3\n",
              "192.168.137.83         3\n",
              "192.168.137.189        3\n",
              "192.168.137.46         3\n",
              "192.168.137.48         3\n",
              "192.168.137.191        3\n",
              "192.168.137.169        3\n",
              "192.168.137.254        3\n",
              "192.168.137.69         2\n",
              "192.168.137.179        2\n",
              "192.168.137.122        2\n",
              "195.88.50.104          1\n",
              "192.168.137.138        1\n",
              "Name: count, dtype: int64"
            ],
            "text/html": [
              "<div>\n",
              "<style scoped>\n",
              "    .dataframe tbody tr th:only-of-type {\n",
              "        vertical-align: middle;\n",
              "    }\n",
              "\n",
              "    .dataframe tbody tr th {\n",
              "        vertical-align: top;\n",
              "    }\n",
              "\n",
              "    .dataframe thead th {\n",
              "        text-align: right;\n",
              "    }\n",
              "</style>\n",
              "<table border=\"1\" class=\"dataframe\">\n",
              "  <thead>\n",
              "    <tr style=\"text-align: right;\">\n",
              "      <th></th>\n",
              "      <th>count</th>\n",
              "    </tr>\n",
              "    <tr>\n",
              "      <th>src_ip</th>\n",
              "      <th></th>\n",
              "    </tr>\n",
              "  </thead>\n",
              "  <tbody>\n",
              "    <tr>\n",
              "      <th>192.168.137.17</th>\n",
              "      <td>23837</td>\n",
              "    </tr>\n",
              "    <tr>\n",
              "      <th>192.168.137.195</th>\n",
              "      <td>23389</td>\n",
              "    </tr>\n",
              "    <tr>\n",
              "      <th>192.168.137.134</th>\n",
              "      <td>17186</td>\n",
              "    </tr>\n",
              "    <tr>\n",
              "      <th>192.168.137.156</th>\n",
              "      <td>13121</td>\n",
              "    </tr>\n",
              "    <tr>\n",
              "      <th>192.168.137.15</th>\n",
              "      <td>5485</td>\n",
              "    </tr>\n",
              "    <tr>\n",
              "      <th>192.168.137.109</th>\n",
              "      <td>1665</td>\n",
              "    </tr>\n",
              "    <tr>\n",
              "      <th>192.168.137.224</th>\n",
              "      <td>112</td>\n",
              "    </tr>\n",
              "    <tr>\n",
              "      <th>13.225.210.183</th>\n",
              "      <td>56</td>\n",
              "    </tr>\n",
              "    <tr>\n",
              "      <th>157.249.81.141</th>\n",
              "      <td>55</td>\n",
              "    </tr>\n",
              "    <tr>\n",
              "      <th>192.168.137.1</th>\n",
              "      <td>17</td>\n",
              "    </tr>\n",
              "    <tr>\n",
              "      <th>192.168.137.65</th>\n",
              "      <td>4</td>\n",
              "    </tr>\n",
              "    <tr>\n",
              "      <th>192.168.137.206</th>\n",
              "      <td>4</td>\n",
              "    </tr>\n",
              "    <tr>\n",
              "      <th>192.168.137.187</th>\n",
              "      <td>4</td>\n",
              "    </tr>\n",
              "    <tr>\n",
              "      <th>192.168.137.229</th>\n",
              "      <td>3</td>\n",
              "    </tr>\n",
              "    <tr>\n",
              "      <th>192.168.137.105</th>\n",
              "      <td>3</td>\n",
              "    </tr>\n",
              "    <tr>\n",
              "      <th>192.168.137.7</th>\n",
              "      <td>3</td>\n",
              "    </tr>\n",
              "    <tr>\n",
              "      <th>192.168.137.75</th>\n",
              "      <td>3</td>\n",
              "    </tr>\n",
              "    <tr>\n",
              "      <th>192.168.137.158</th>\n",
              "      <td>3</td>\n",
              "    </tr>\n",
              "    <tr>\n",
              "      <th>192.168.137.59</th>\n",
              "      <td>3</td>\n",
              "    </tr>\n",
              "    <tr>\n",
              "      <th>192.168.137.250</th>\n",
              "      <td>3</td>\n",
              "    </tr>\n",
              "    <tr>\n",
              "      <th>192.168.137.83</th>\n",
              "      <td>3</td>\n",
              "    </tr>\n",
              "    <tr>\n",
              "      <th>192.168.137.189</th>\n",
              "      <td>3</td>\n",
              "    </tr>\n",
              "    <tr>\n",
              "      <th>192.168.137.46</th>\n",
              "      <td>3</td>\n",
              "    </tr>\n",
              "    <tr>\n",
              "      <th>192.168.137.48</th>\n",
              "      <td>3</td>\n",
              "    </tr>\n",
              "    <tr>\n",
              "      <th>192.168.137.191</th>\n",
              "      <td>3</td>\n",
              "    </tr>\n",
              "    <tr>\n",
              "      <th>192.168.137.169</th>\n",
              "      <td>3</td>\n",
              "    </tr>\n",
              "    <tr>\n",
              "      <th>192.168.137.254</th>\n",
              "      <td>3</td>\n",
              "    </tr>\n",
              "    <tr>\n",
              "      <th>192.168.137.69</th>\n",
              "      <td>2</td>\n",
              "    </tr>\n",
              "    <tr>\n",
              "      <th>192.168.137.179</th>\n",
              "      <td>2</td>\n",
              "    </tr>\n",
              "    <tr>\n",
              "      <th>192.168.137.122</th>\n",
              "      <td>2</td>\n",
              "    </tr>\n",
              "    <tr>\n",
              "      <th>195.88.50.104</th>\n",
              "      <td>1</td>\n",
              "    </tr>\n",
              "    <tr>\n",
              "      <th>192.168.137.138</th>\n",
              "      <td>1</td>\n",
              "    </tr>\n",
              "  </tbody>\n",
              "</table>\n",
              "</div><br><label><b>dtype:</b> int64</label>"
            ]
          },
          "metadata": {},
          "execution_count": 10
        }
      ]
    },
    {
      "cell_type": "code",
      "source": [
        "df_Mirai[df_Mirai['src_ip'].isin(L_Mirai)]['dst_ip'].shape"
      ],
      "metadata": {
        "colab": {
          "base_uri": "https://localhost:8080/"
        },
        "id": "UgTERVjMrIIP",
        "outputId": "209b9e56-5862-493f-b24e-90771ff0e04c"
      },
      "id": "UgTERVjMrIIP",
      "execution_count": null,
      "outputs": [
        {
          "output_type": "execute_result",
          "data": {
            "text/plain": [
              "(15132,)"
            ]
          },
          "metadata": {},
          "execution_count": 11
        }
      ]
    },
    {
      "cell_type": "markdown",
      "id": "stog2mEE8-Tb",
      "metadata": {
        "id": "stog2mEE8-Tb"
      },
      "source": [
        "Each stream represents a different kind of communication between two IOT devices, so we just consider the stream which are common"
      ]
    },
    {
      "cell_type": "code",
      "execution_count": null,
      "id": "ipyL1vnBedFc",
      "metadata": {
        "id": "ipyL1vnBedFc"
      },
      "outputs": [],
      "source": [
        "df=pd.concat([df_b_1,df_b_2,df_DDoS[df_DDoS['dst_ip'].isin(L_DDoS)],df_Mirai[df_Mirai['src_ip'].isin(L_Mirai)]],axis=0)"
      ]
    },
    {
      "cell_type": "code",
      "execution_count": null,
      "id": "Js7ZSfhlzbC3",
      "metadata": {
        "colab": {
          "base_uri": "https://localhost:8080/"
        },
        "id": "Js7ZSfhlzbC3",
        "outputId": "ccf0cda5-3862-464c-edac-03d86053fb6b"
      },
      "outputs": [
        {
          "output_type": "execute_result",
          "data": {
            "text/plain": [
              "(356967, 135)"
            ]
          },
          "metadata": {},
          "execution_count": 12
        }
      ],
      "source": [
        "  df.shape"
      ]
    },
    {
      "cell_type": "code",
      "execution_count": null,
      "id": "I6fByzYAecCv",
      "metadata": {
        "colab": {
          "base_uri": "https://localhost:8080/",
          "height": 349
        },
        "id": "I6fByzYAecCv",
        "outputId": "301a7061-0550-42cd-88b0-9e41fd90f67c"
      },
      "outputs": [
        {
          "output_type": "execute_result",
          "data": {
            "text/plain": [
              "              stream       src_port       dst_port  inter_arrival_time  \\\n",
              "count  356967.000000  356967.000000  356967.000000       356967.000000   \n",
              "mean    31731.890082   27958.052921   19318.972180          618.166012   \n",
              "std     65424.687820   22380.564928   22280.789322          658.014443   \n",
              "min        -1.000000       0.000000       0.000000            0.000000   \n",
              "25%        55.000000     443.000000     443.000000           15.348582   \n",
              "50%       457.000000   33255.000000    4070.000000          420.725526   \n",
              "75%     11267.500000   49154.000000   41487.000000         1010.355973   \n",
              "max    264076.000000   65533.000000   65535.000000         2402.628016   \n",
              "\n",
              "       time_since_previously_displayed_frame  port_class_dst         l4_tcp  \\\n",
              "count                          356967.000000   356967.000000  356967.000000   \n",
              "mean                                0.009287        1.871439       0.768396   \n",
              "std                                 0.019591        0.712457       0.421858   \n",
              "min                                 0.000000        0.000000       0.000000   \n",
              "25%                                 0.000003        1.000000       1.000000   \n",
              "50%                                 0.000929        2.000000       1.000000   \n",
              "75%                                 0.009622        2.000000       1.000000   \n",
              "max                                 0.484137        3.000000       1.000000   \n",
              "\n",
              "              l4_udp            ttl       eth_size  ...          min_p  \\\n",
              "count  356967.000000  356967.000000  356967.000000  ...  356966.000000   \n",
              "mean        0.215082      96.922155     345.967563  ...      57.173145   \n",
              "std         0.410879      68.922093     739.619610  ...     228.842944   \n",
              "min         0.000000       1.000000      50.000000  ...       0.000000   \n",
              "25%         0.000000      64.000000      60.000000  ...       6.000000   \n",
              "50%         0.000000      64.000000      66.000000  ...      12.000000   \n",
              "75%         0.000000      64.000000     206.000000  ...      12.000000   \n",
              "max         1.000000     255.000000   30474.000000  ...    4356.000000   \n",
              "\n",
              "               max_p          med_p      average_p         var_p  \\\n",
              "count  356966.000000  356966.000000  356966.000000  3.569660e+05   \n",
              "mean     1063.044060     221.180932     290.835941  3.247544e+05   \n",
              "std      1929.487166     473.042213     488.756972  1.065605e+06   \n",
              "min         0.000000       0.000000       0.000000  0.000000e+00   \n",
              "25%        12.000000       6.000000      12.000000  0.000000e+00   \n",
              "50%       210.000000      18.000000      57.800000  4.127566e+03   \n",
              "75%      1310.000000      65.000000     313.500000  9.523094e+04   \n",
              "max     30420.000000    4356.000000    4356.000000  4.387091e+07   \n",
              "\n",
              "                q3_p           q1_p          iqr_p  l3_ip_dst_count  \\\n",
              "count  356966.000000  356966.000000  356966.000000    356966.000000   \n",
              "mean      356.746503     121.428979     235.317525        14.016738   \n",
              "std       630.722476     349.737559     511.214674        17.581483   \n",
              "min         0.000000       0.000000       0.000000         1.000000   \n",
              "25%        12.000000       6.000000       0.000000         3.000000   \n",
              "50%        48.750000      12.000000      16.000000         8.000000   \n",
              "75%       204.250000      12.000000      96.000000        17.000000   \n",
              "max      5804.000000    4356.000000    4374.000000        93.000000   \n",
              "\n",
              "               label  \n",
              "count  356967.000000  \n",
              "mean        0.322856  \n",
              "std         0.550819  \n",
              "min         0.000000  \n",
              "25%         0.000000  \n",
              "50%         0.000000  \n",
              "75%         1.000000  \n",
              "max         2.000000  \n",
              "\n",
              "[8 rows x 120 columns]"
            ],
            "text/html": [
              "\n",
              "  <div id=\"df-2d6da87a-bd23-4121-aee7-5a00f3de3d15\" class=\"colab-df-container\">\n",
              "    <div>\n",
              "<style scoped>\n",
              "    .dataframe tbody tr th:only-of-type {\n",
              "        vertical-align: middle;\n",
              "    }\n",
              "\n",
              "    .dataframe tbody tr th {\n",
              "        vertical-align: top;\n",
              "    }\n",
              "\n",
              "    .dataframe thead th {\n",
              "        text-align: right;\n",
              "    }\n",
              "</style>\n",
              "<table border=\"1\" class=\"dataframe\">\n",
              "  <thead>\n",
              "    <tr style=\"text-align: right;\">\n",
              "      <th></th>\n",
              "      <th>stream</th>\n",
              "      <th>src_port</th>\n",
              "      <th>dst_port</th>\n",
              "      <th>inter_arrival_time</th>\n",
              "      <th>time_since_previously_displayed_frame</th>\n",
              "      <th>port_class_dst</th>\n",
              "      <th>l4_tcp</th>\n",
              "      <th>l4_udp</th>\n",
              "      <th>ttl</th>\n",
              "      <th>eth_size</th>\n",
              "      <th>...</th>\n",
              "      <th>min_p</th>\n",
              "      <th>max_p</th>\n",
              "      <th>med_p</th>\n",
              "      <th>average_p</th>\n",
              "      <th>var_p</th>\n",
              "      <th>q3_p</th>\n",
              "      <th>q1_p</th>\n",
              "      <th>iqr_p</th>\n",
              "      <th>l3_ip_dst_count</th>\n",
              "      <th>label</th>\n",
              "    </tr>\n",
              "  </thead>\n",
              "  <tbody>\n",
              "    <tr>\n",
              "      <th>count</th>\n",
              "      <td>356967.000000</td>\n",
              "      <td>356967.000000</td>\n",
              "      <td>356967.000000</td>\n",
              "      <td>356967.000000</td>\n",
              "      <td>356967.000000</td>\n",
              "      <td>356967.000000</td>\n",
              "      <td>356967.000000</td>\n",
              "      <td>356967.000000</td>\n",
              "      <td>356967.000000</td>\n",
              "      <td>356967.000000</td>\n",
              "      <td>...</td>\n",
              "      <td>356966.000000</td>\n",
              "      <td>356966.000000</td>\n",
              "      <td>356966.000000</td>\n",
              "      <td>356966.000000</td>\n",
              "      <td>3.569660e+05</td>\n",
              "      <td>356966.000000</td>\n",
              "      <td>356966.000000</td>\n",
              "      <td>356966.000000</td>\n",
              "      <td>356966.000000</td>\n",
              "      <td>356967.000000</td>\n",
              "    </tr>\n",
              "    <tr>\n",
              "      <th>mean</th>\n",
              "      <td>31731.890082</td>\n",
              "      <td>27958.052921</td>\n",
              "      <td>19318.972180</td>\n",
              "      <td>618.166012</td>\n",
              "      <td>0.009287</td>\n",
              "      <td>1.871439</td>\n",
              "      <td>0.768396</td>\n",
              "      <td>0.215082</td>\n",
              "      <td>96.922155</td>\n",
              "      <td>345.967563</td>\n",
              "      <td>...</td>\n",
              "      <td>57.173145</td>\n",
              "      <td>1063.044060</td>\n",
              "      <td>221.180932</td>\n",
              "      <td>290.835941</td>\n",
              "      <td>3.247544e+05</td>\n",
              "      <td>356.746503</td>\n",
              "      <td>121.428979</td>\n",
              "      <td>235.317525</td>\n",
              "      <td>14.016738</td>\n",
              "      <td>0.322856</td>\n",
              "    </tr>\n",
              "    <tr>\n",
              "      <th>std</th>\n",
              "      <td>65424.687820</td>\n",
              "      <td>22380.564928</td>\n",
              "      <td>22280.789322</td>\n",
              "      <td>658.014443</td>\n",
              "      <td>0.019591</td>\n",
              "      <td>0.712457</td>\n",
              "      <td>0.421858</td>\n",
              "      <td>0.410879</td>\n",
              "      <td>68.922093</td>\n",
              "      <td>739.619610</td>\n",
              "      <td>...</td>\n",
              "      <td>228.842944</td>\n",
              "      <td>1929.487166</td>\n",
              "      <td>473.042213</td>\n",
              "      <td>488.756972</td>\n",
              "      <td>1.065605e+06</td>\n",
              "      <td>630.722476</td>\n",
              "      <td>349.737559</td>\n",
              "      <td>511.214674</td>\n",
              "      <td>17.581483</td>\n",
              "      <td>0.550819</td>\n",
              "    </tr>\n",
              "    <tr>\n",
              "      <th>min</th>\n",
              "      <td>-1.000000</td>\n",
              "      <td>0.000000</td>\n",
              "      <td>0.000000</td>\n",
              "      <td>0.000000</td>\n",
              "      <td>0.000000</td>\n",
              "      <td>0.000000</td>\n",
              "      <td>0.000000</td>\n",
              "      <td>0.000000</td>\n",
              "      <td>1.000000</td>\n",
              "      <td>50.000000</td>\n",
              "      <td>...</td>\n",
              "      <td>0.000000</td>\n",
              "      <td>0.000000</td>\n",
              "      <td>0.000000</td>\n",
              "      <td>0.000000</td>\n",
              "      <td>0.000000e+00</td>\n",
              "      <td>0.000000</td>\n",
              "      <td>0.000000</td>\n",
              "      <td>0.000000</td>\n",
              "      <td>1.000000</td>\n",
              "      <td>0.000000</td>\n",
              "    </tr>\n",
              "    <tr>\n",
              "      <th>25%</th>\n",
              "      <td>55.000000</td>\n",
              "      <td>443.000000</td>\n",
              "      <td>443.000000</td>\n",
              "      <td>15.348582</td>\n",
              "      <td>0.000003</td>\n",
              "      <td>1.000000</td>\n",
              "      <td>1.000000</td>\n",
              "      <td>0.000000</td>\n",
              "      <td>64.000000</td>\n",
              "      <td>60.000000</td>\n",
              "      <td>...</td>\n",
              "      <td>6.000000</td>\n",
              "      <td>12.000000</td>\n",
              "      <td>6.000000</td>\n",
              "      <td>12.000000</td>\n",
              "      <td>0.000000e+00</td>\n",
              "      <td>12.000000</td>\n",
              "      <td>6.000000</td>\n",
              "      <td>0.000000</td>\n",
              "      <td>3.000000</td>\n",
              "      <td>0.000000</td>\n",
              "    </tr>\n",
              "    <tr>\n",
              "      <th>50%</th>\n",
              "      <td>457.000000</td>\n",
              "      <td>33255.000000</td>\n",
              "      <td>4070.000000</td>\n",
              "      <td>420.725526</td>\n",
              "      <td>0.000929</td>\n",
              "      <td>2.000000</td>\n",
              "      <td>1.000000</td>\n",
              "      <td>0.000000</td>\n",
              "      <td>64.000000</td>\n",
              "      <td>66.000000</td>\n",
              "      <td>...</td>\n",
              "      <td>12.000000</td>\n",
              "      <td>210.000000</td>\n",
              "      <td>18.000000</td>\n",
              "      <td>57.800000</td>\n",
              "      <td>4.127566e+03</td>\n",
              "      <td>48.750000</td>\n",
              "      <td>12.000000</td>\n",
              "      <td>16.000000</td>\n",
              "      <td>8.000000</td>\n",
              "      <td>0.000000</td>\n",
              "    </tr>\n",
              "    <tr>\n",
              "      <th>75%</th>\n",
              "      <td>11267.500000</td>\n",
              "      <td>49154.000000</td>\n",
              "      <td>41487.000000</td>\n",
              "      <td>1010.355973</td>\n",
              "      <td>0.009622</td>\n",
              "      <td>2.000000</td>\n",
              "      <td>1.000000</td>\n",
              "      <td>0.000000</td>\n",
              "      <td>64.000000</td>\n",
              "      <td>206.000000</td>\n",
              "      <td>...</td>\n",
              "      <td>12.000000</td>\n",
              "      <td>1310.000000</td>\n",
              "      <td>65.000000</td>\n",
              "      <td>313.500000</td>\n",
              "      <td>9.523094e+04</td>\n",
              "      <td>204.250000</td>\n",
              "      <td>12.000000</td>\n",
              "      <td>96.000000</td>\n",
              "      <td>17.000000</td>\n",
              "      <td>1.000000</td>\n",
              "    </tr>\n",
              "    <tr>\n",
              "      <th>max</th>\n",
              "      <td>264076.000000</td>\n",
              "      <td>65533.000000</td>\n",
              "      <td>65535.000000</td>\n",
              "      <td>2402.628016</td>\n",
              "      <td>0.484137</td>\n",
              "      <td>3.000000</td>\n",
              "      <td>1.000000</td>\n",
              "      <td>1.000000</td>\n",
              "      <td>255.000000</td>\n",
              "      <td>30474.000000</td>\n",
              "      <td>...</td>\n",
              "      <td>4356.000000</td>\n",
              "      <td>30420.000000</td>\n",
              "      <td>4356.000000</td>\n",
              "      <td>4356.000000</td>\n",
              "      <td>4.387091e+07</td>\n",
              "      <td>5804.000000</td>\n",
              "      <td>4356.000000</td>\n",
              "      <td>4374.000000</td>\n",
              "      <td>93.000000</td>\n",
              "      <td>2.000000</td>\n",
              "    </tr>\n",
              "  </tbody>\n",
              "</table>\n",
              "<p>8 rows × 120 columns</p>\n",
              "</div>\n",
              "    <div class=\"colab-df-buttons\">\n",
              "\n",
              "  <div class=\"colab-df-container\">\n",
              "    <button class=\"colab-df-convert\" onclick=\"convertToInteractive('df-2d6da87a-bd23-4121-aee7-5a00f3de3d15')\"\n",
              "            title=\"Convert this dataframe to an interactive table.\"\n",
              "            style=\"display:none;\">\n",
              "\n",
              "  <svg xmlns=\"http://www.w3.org/2000/svg\" height=\"24px\" viewBox=\"0 -960 960 960\">\n",
              "    <path d=\"M120-120v-720h720v720H120Zm60-500h600v-160H180v160Zm220 220h160v-160H400v160Zm0 220h160v-160H400v160ZM180-400h160v-160H180v160Zm440 0h160v-160H620v160ZM180-180h160v-160H180v160Zm440 0h160v-160H620v160Z\"/>\n",
              "  </svg>\n",
              "    </button>\n",
              "\n",
              "  <style>\n",
              "    .colab-df-container {\n",
              "      display:flex;\n",
              "      gap: 12px;\n",
              "    }\n",
              "\n",
              "    .colab-df-convert {\n",
              "      background-color: #E8F0FE;\n",
              "      border: none;\n",
              "      border-radius: 50%;\n",
              "      cursor: pointer;\n",
              "      display: none;\n",
              "      fill: #1967D2;\n",
              "      height: 32px;\n",
              "      padding: 0 0 0 0;\n",
              "      width: 32px;\n",
              "    }\n",
              "\n",
              "    .colab-df-convert:hover {\n",
              "      background-color: #E2EBFA;\n",
              "      box-shadow: 0px 1px 2px rgba(60, 64, 67, 0.3), 0px 1px 3px 1px rgba(60, 64, 67, 0.15);\n",
              "      fill: #174EA6;\n",
              "    }\n",
              "\n",
              "    .colab-df-buttons div {\n",
              "      margin-bottom: 4px;\n",
              "    }\n",
              "\n",
              "    [theme=dark] .colab-df-convert {\n",
              "      background-color: #3B4455;\n",
              "      fill: #D2E3FC;\n",
              "    }\n",
              "\n",
              "    [theme=dark] .colab-df-convert:hover {\n",
              "      background-color: #434B5C;\n",
              "      box-shadow: 0px 1px 3px 1px rgba(0, 0, 0, 0.15);\n",
              "      filter: drop-shadow(0px 1px 2px rgba(0, 0, 0, 0.3));\n",
              "      fill: #FFFFFF;\n",
              "    }\n",
              "  </style>\n",
              "\n",
              "    <script>\n",
              "      const buttonEl =\n",
              "        document.querySelector('#df-2d6da87a-bd23-4121-aee7-5a00f3de3d15 button.colab-df-convert');\n",
              "      buttonEl.style.display =\n",
              "        google.colab.kernel.accessAllowed ? 'block' : 'none';\n",
              "\n",
              "      async function convertToInteractive(key) {\n",
              "        const element = document.querySelector('#df-2d6da87a-bd23-4121-aee7-5a00f3de3d15');\n",
              "        const dataTable =\n",
              "          await google.colab.kernel.invokeFunction('convertToInteractive',\n",
              "                                                    [key], {});\n",
              "        if (!dataTable) return;\n",
              "\n",
              "        const docLinkHtml = 'Like what you see? Visit the ' +\n",
              "          '<a target=\"_blank\" href=https://colab.research.google.com/notebooks/data_table.ipynb>data table notebook</a>'\n",
              "          + ' to learn more about interactive tables.';\n",
              "        element.innerHTML = '';\n",
              "        dataTable['output_type'] = 'display_data';\n",
              "        await google.colab.output.renderOutput(dataTable, element);\n",
              "        const docLink = document.createElement('div');\n",
              "        docLink.innerHTML = docLinkHtml;\n",
              "        element.appendChild(docLink);\n",
              "      }\n",
              "    </script>\n",
              "  </div>\n",
              "\n",
              "\n",
              "<div id=\"df-90d44e60-07fb-4f07-8827-b2625dfd4163\">\n",
              "  <button class=\"colab-df-quickchart\" onclick=\"quickchart('df-90d44e60-07fb-4f07-8827-b2625dfd4163')\"\n",
              "            title=\"Suggest charts\"\n",
              "            style=\"display:none;\">\n",
              "\n",
              "<svg xmlns=\"http://www.w3.org/2000/svg\" height=\"24px\"viewBox=\"0 0 24 24\"\n",
              "     width=\"24px\">\n",
              "    <g>\n",
              "        <path d=\"M19 3H5c-1.1 0-2 .9-2 2v14c0 1.1.9 2 2 2h14c1.1 0 2-.9 2-2V5c0-1.1-.9-2-2-2zM9 17H7v-7h2v7zm4 0h-2V7h2v10zm4 0h-2v-4h2v4z\"/>\n",
              "    </g>\n",
              "</svg>\n",
              "  </button>\n",
              "\n",
              "<style>\n",
              "  .colab-df-quickchart {\n",
              "      --bg-color: #E8F0FE;\n",
              "      --fill-color: #1967D2;\n",
              "      --hover-bg-color: #E2EBFA;\n",
              "      --hover-fill-color: #174EA6;\n",
              "      --disabled-fill-color: #AAA;\n",
              "      --disabled-bg-color: #DDD;\n",
              "  }\n",
              "\n",
              "  [theme=dark] .colab-df-quickchart {\n",
              "      --bg-color: #3B4455;\n",
              "      --fill-color: #D2E3FC;\n",
              "      --hover-bg-color: #434B5C;\n",
              "      --hover-fill-color: #FFFFFF;\n",
              "      --disabled-bg-color: #3B4455;\n",
              "      --disabled-fill-color: #666;\n",
              "  }\n",
              "\n",
              "  .colab-df-quickchart {\n",
              "    background-color: var(--bg-color);\n",
              "    border: none;\n",
              "    border-radius: 50%;\n",
              "    cursor: pointer;\n",
              "    display: none;\n",
              "    fill: var(--fill-color);\n",
              "    height: 32px;\n",
              "    padding: 0;\n",
              "    width: 32px;\n",
              "  }\n",
              "\n",
              "  .colab-df-quickchart:hover {\n",
              "    background-color: var(--hover-bg-color);\n",
              "    box-shadow: 0 1px 2px rgba(60, 64, 67, 0.3), 0 1px 3px 1px rgba(60, 64, 67, 0.15);\n",
              "    fill: var(--button-hover-fill-color);\n",
              "  }\n",
              "\n",
              "  .colab-df-quickchart-complete:disabled,\n",
              "  .colab-df-quickchart-complete:disabled:hover {\n",
              "    background-color: var(--disabled-bg-color);\n",
              "    fill: var(--disabled-fill-color);\n",
              "    box-shadow: none;\n",
              "  }\n",
              "\n",
              "  .colab-df-spinner {\n",
              "    border: 2px solid var(--fill-color);\n",
              "    border-color: transparent;\n",
              "    border-bottom-color: var(--fill-color);\n",
              "    animation:\n",
              "      spin 1s steps(1) infinite;\n",
              "  }\n",
              "\n",
              "  @keyframes spin {\n",
              "    0% {\n",
              "      border-color: transparent;\n",
              "      border-bottom-color: var(--fill-color);\n",
              "      border-left-color: var(--fill-color);\n",
              "    }\n",
              "    20% {\n",
              "      border-color: transparent;\n",
              "      border-left-color: var(--fill-color);\n",
              "      border-top-color: var(--fill-color);\n",
              "    }\n",
              "    30% {\n",
              "      border-color: transparent;\n",
              "      border-left-color: var(--fill-color);\n",
              "      border-top-color: var(--fill-color);\n",
              "      border-right-color: var(--fill-color);\n",
              "    }\n",
              "    40% {\n",
              "      border-color: transparent;\n",
              "      border-right-color: var(--fill-color);\n",
              "      border-top-color: var(--fill-color);\n",
              "    }\n",
              "    60% {\n",
              "      border-color: transparent;\n",
              "      border-right-color: var(--fill-color);\n",
              "    }\n",
              "    80% {\n",
              "      border-color: transparent;\n",
              "      border-right-color: var(--fill-color);\n",
              "      border-bottom-color: var(--fill-color);\n",
              "    }\n",
              "    90% {\n",
              "      border-color: transparent;\n",
              "      border-bottom-color: var(--fill-color);\n",
              "    }\n",
              "  }\n",
              "</style>\n",
              "\n",
              "  <script>\n",
              "    async function quickchart(key) {\n",
              "      const quickchartButtonEl =\n",
              "        document.querySelector('#' + key + ' button');\n",
              "      quickchartButtonEl.disabled = true;  // To prevent multiple clicks.\n",
              "      quickchartButtonEl.classList.add('colab-df-spinner');\n",
              "      try {\n",
              "        const charts = await google.colab.kernel.invokeFunction(\n",
              "            'suggestCharts', [key], {});\n",
              "      } catch (error) {\n",
              "        console.error('Error during call to suggestCharts:', error);\n",
              "      }\n",
              "      quickchartButtonEl.classList.remove('colab-df-spinner');\n",
              "      quickchartButtonEl.classList.add('colab-df-quickchart-complete');\n",
              "    }\n",
              "    (() => {\n",
              "      let quickchartButtonEl =\n",
              "        document.querySelector('#df-90d44e60-07fb-4f07-8827-b2625dfd4163 button');\n",
              "      quickchartButtonEl.style.display =\n",
              "        google.colab.kernel.accessAllowed ? 'block' : 'none';\n",
              "    })();\n",
              "  </script>\n",
              "</div>\n",
              "\n",
              "    </div>\n",
              "  </div>\n"
            ],
            "application/vnd.google.colaboratory.intrinsic+json": {
              "type": "dataframe"
            }
          },
          "metadata": {},
          "execution_count": 146
        }
      ],
      "source": [
        "df.describe()"
      ]
    },
    {
      "cell_type": "code",
      "execution_count": null,
      "id": "56a008a9",
      "metadata": {
        "colab": {
          "base_uri": "https://localhost:8080/",
          "height": 1000
        },
        "id": "56a008a9",
        "outputId": "cf4aa40e-d998-47e8-840b-6a082ffa4b70"
      },
      "outputs": [
        {
          "output_type": "execute_result",
          "data": {
            "text/plain": [
              "    stream                       src_mac            dst_mac           src_ip  \\\n",
              "0        0          Arlo Q Indoor Camera  3c:18:a0:41:c3:a0  192.168.137.175   \n",
              "1        0          Arlo Q Indoor Camera  3c:18:a0:41:c3:a0  192.168.137.175   \n",
              "2        0          Arlo Q Indoor Camera  3c:18:a0:41:c3:a0  192.168.137.175   \n",
              "3        0          Arlo Q Indoor Camera  3c:18:a0:41:c3:a0  192.168.137.175   \n",
              "4        0          Arlo Q Indoor Camera  3c:18:a0:41:c3:a0  192.168.137.175   \n",
              "5        0          Arlo Q Indoor Camera  3c:18:a0:41:c3:a0  192.168.137.175   \n",
              "6        0          Arlo Q Indoor Camera  3c:18:a0:41:c3:a0  192.168.137.175   \n",
              "7        0          Arlo Q Indoor Camera  3c:18:a0:41:c3:a0  192.168.137.175   \n",
              "8        0          Arlo Q Indoor Camera  3c:18:a0:41:c3:a0  192.168.137.175   \n",
              "9        0          Arlo Q Indoor Camera  3c:18:a0:41:c3:a0  192.168.137.175   \n",
              "10       0  HeimVision Smart WiFi Camera  01:00:5e:7f:ff:fa   192.168.137.90   \n",
              "11       0          Arlo Q Indoor Camera  3c:18:a0:41:c3:a0  192.168.137.175   \n",
              "12       0          Arlo Q Indoor Camera  3c:18:a0:41:c3:a0  192.168.137.175   \n",
              "13       0          Arlo Q Indoor Camera  3c:18:a0:41:c3:a0  192.168.137.175   \n",
              "14       1            Nest Indoor Camera  3c:18:a0:41:c3:a0   192.168.137.46   \n",
              "15       0          Arlo Q Indoor Camera  3c:18:a0:41:c3:a0  192.168.137.175   \n",
              "16       2             ac:17:02:05:34:27  3c:18:a0:41:c3:a0   192.168.137.41   \n",
              "17       2             ac:17:02:05:34:27  3c:18:a0:41:c3:a0   192.168.137.41   \n",
              "18       0          Arlo Q Indoor Camera  3c:18:a0:41:c3:a0  192.168.137.175   \n",
              "19       1                 Teckin Plug 2  ff:ff:ff:ff:ff:ff   192.168.137.82   \n",
              "\n",
              "             dst_ip  src_port  dst_port  inter_arrival_time  \\\n",
              "0      99.81.244.93   56891.0     443.0            0.000000   \n",
              "1      99.81.244.93   56891.0     443.0            0.000164   \n",
              "2      99.81.244.93   56891.0     443.0            0.000269   \n",
              "3      99.81.244.93   56891.0     443.0            0.000414   \n",
              "4      99.81.244.93   56891.0     443.0            0.001800   \n",
              "5      99.81.244.93   56891.0     443.0            0.001961   \n",
              "6      99.81.244.93   56891.0     443.0            0.002129   \n",
              "7      99.81.244.93   56891.0     443.0            0.008073   \n",
              "8      99.81.244.93   56891.0     443.0            0.008075   \n",
              "9      99.81.244.93   56891.0     443.0            0.008173   \n",
              "10  239.255.255.250   37020.0   37000.0            0.018635   \n",
              "11     99.81.244.93   56891.0     443.0            0.019483   \n",
              "12     99.81.244.93   56891.0     443.0            0.019489   \n",
              "13     99.81.244.93   56891.0     443.0            0.020079   \n",
              "14    35.185.101.66   48335.0     443.0            0.020436   \n",
              "15     99.81.244.93   56891.0     443.0            0.020438   \n",
              "16   157.249.81.141   50093.0     443.0            0.117614   \n",
              "17   157.249.81.141   50093.0     443.0            0.118276   \n",
              "18     99.81.244.93   56891.0     443.0            0.119668   \n",
              "19  255.255.255.255   49236.0    6667.0            0.122046   \n",
              "\n",
              "    time_since_previously_displayed_frame  port_class_dst  ...   min_p  \\\n",
              "0                                0.000000             1.0  ...  2908.0   \n",
              "1                                0.000164             1.0  ...  2908.0   \n",
              "2                                0.000105             1.0  ...  1460.0   \n",
              "3                                0.000145             1.0  ...  1460.0   \n",
              "4                                0.001386             1.0  ...  1460.0   \n",
              "5                                0.000161             1.0  ...  1460.0   \n",
              "6                                0.000168             1.0  ...  1460.0   \n",
              "7                                0.005944             1.0  ...   497.0   \n",
              "8                                0.000002             1.0  ...   497.0   \n",
              "9                                0.000098             1.0  ...   497.0   \n",
              "10                               0.010462             2.0  ...   176.0   \n",
              "11                               0.000848             1.0  ...   497.0   \n",
              "12                               0.000006             1.0  ...   497.0   \n",
              "13                               0.000590             1.0  ...   497.0   \n",
              "14                               0.000357             1.0  ...   102.0   \n",
              "15                               0.000002             1.0  ...   497.0   \n",
              "16                               0.097176             1.0  ...    12.0   \n",
              "17                               0.000662             1.0  ...    12.0   \n",
              "18                               0.001392             1.0  ...   497.0   \n",
              "19                               0.002378             2.0  ...   172.0   \n",
              "\n",
              "     max_p   med_p  average_p         var_p    q3_p    q1_p   iqr_p  \\\n",
              "0   2908.0  2908.0    2908.00  0.000000e+00  2908.0  2908.0     0.0   \n",
              "1   2908.0  2908.0    2908.00  0.000000e+00  2908.0  2908.0     0.0   \n",
              "2   2908.0  2908.0    2835.60  1.048352e+05  2908.0  2908.0     0.0   \n",
              "3   2908.0  2908.0    2763.20  1.986351e+05  2908.0  2908.0     0.0   \n",
              "4   2908.0  2908.0    2690.80  2.813997e+05  2908.0  2908.0     0.0   \n",
              "5   4356.0  2908.0    2763.20  4.193408e+05  2908.0  2908.0     0.0   \n",
              "6   4356.0  2908.0    2690.80  5.021054e+05  2908.0  2908.0     0.0   \n",
              "7   4356.0  2908.0    2570.25  7.376284e+05  2908.0  2546.0   362.0   \n",
              "8   4356.0  2908.0    2497.85  7.909834e+05  2908.0  1460.0  1448.0   \n",
              "9   4356.0  2908.0    2497.85  7.909834e+05  2908.0  1460.0  1448.0   \n",
              "10   176.0   176.0     176.00  0.000000e+00   176.0   176.0     0.0   \n",
              "11  4356.0  2908.0    2570.25  9.583341e+05  2908.0  1460.0  1448.0   \n",
              "12  7252.0  2908.0    2787.45  2.056292e+06  2908.0  1460.0  1448.0   \n",
              "13  7252.0  2908.0    2715.05  2.142752e+06  2908.0  1460.0  1448.0   \n",
              "14   102.0   102.0     102.00  0.000000e+00   102.0   102.0     0.0   \n",
              "15  7252.0  2908.0    2642.65  2.218178e+06  2908.0  1460.0  1448.0   \n",
              "16    12.0    12.0      12.00  0.000000e+00    12.0    12.0     0.0   \n",
              "17   263.0    12.0      24.55  3.150050e+03    12.0    12.0     0.0   \n",
              "18  7252.0  2908.0    2543.70  2.358723e+06  2908.0  1460.0  1448.0   \n",
              "19   172.0   172.0     172.00  0.000000e+00   172.0   172.0     0.0   \n",
              "\n",
              "    l3_ip_dst_count  label  \n",
              "0               1.0      0  \n",
              "1               1.0      0  \n",
              "2               1.0      0  \n",
              "3               1.0      0  \n",
              "4               1.0      0  \n",
              "5               1.0      0  \n",
              "6               1.0      0  \n",
              "7               1.0      0  \n",
              "8               1.0      0  \n",
              "9               1.0      0  \n",
              "10              1.0      0  \n",
              "11              1.0      0  \n",
              "12              1.0      0  \n",
              "13              1.0      0  \n",
              "14              1.0      0  \n",
              "15              1.0      0  \n",
              "16              1.0      0  \n",
              "17              1.0      0  \n",
              "18              1.0      0  \n",
              "19              1.0      0  \n",
              "\n",
              "[20 rows x 136 columns]"
            ],
            "text/html": [
              "\n",
              "  <div id=\"df-c4b730ec-7168-40e8-9ebb-389d2f48a66b\" class=\"colab-df-container\">\n",
              "    <div>\n",
              "<style scoped>\n",
              "    .dataframe tbody tr th:only-of-type {\n",
              "        vertical-align: middle;\n",
              "    }\n",
              "\n",
              "    .dataframe tbody tr th {\n",
              "        vertical-align: top;\n",
              "    }\n",
              "\n",
              "    .dataframe thead th {\n",
              "        text-align: right;\n",
              "    }\n",
              "</style>\n",
              "<table border=\"1\" class=\"dataframe\">\n",
              "  <thead>\n",
              "    <tr style=\"text-align: right;\">\n",
              "      <th></th>\n",
              "      <th>stream</th>\n",
              "      <th>src_mac</th>\n",
              "      <th>dst_mac</th>\n",
              "      <th>src_ip</th>\n",
              "      <th>dst_ip</th>\n",
              "      <th>src_port</th>\n",
              "      <th>dst_port</th>\n",
              "      <th>inter_arrival_time</th>\n",
              "      <th>time_since_previously_displayed_frame</th>\n",
              "      <th>port_class_dst</th>\n",
              "      <th>...</th>\n",
              "      <th>min_p</th>\n",
              "      <th>max_p</th>\n",
              "      <th>med_p</th>\n",
              "      <th>average_p</th>\n",
              "      <th>var_p</th>\n",
              "      <th>q3_p</th>\n",
              "      <th>q1_p</th>\n",
              "      <th>iqr_p</th>\n",
              "      <th>l3_ip_dst_count</th>\n",
              "      <th>label</th>\n",
              "    </tr>\n",
              "  </thead>\n",
              "  <tbody>\n",
              "    <tr>\n",
              "      <th>0</th>\n",
              "      <td>0</td>\n",
              "      <td>Arlo Q Indoor Camera</td>\n",
              "      <td>3c:18:a0:41:c3:a0</td>\n",
              "      <td>192.168.137.175</td>\n",
              "      <td>99.81.244.93</td>\n",
              "      <td>56891.0</td>\n",
              "      <td>443.0</td>\n",
              "      <td>0.000000</td>\n",
              "      <td>0.000000</td>\n",
              "      <td>1.0</td>\n",
              "      <td>...</td>\n",
              "      <td>2908.0</td>\n",
              "      <td>2908.0</td>\n",
              "      <td>2908.0</td>\n",
              "      <td>2908.00</td>\n",
              "      <td>0.000000e+00</td>\n",
              "      <td>2908.0</td>\n",
              "      <td>2908.0</td>\n",
              "      <td>0.0</td>\n",
              "      <td>1.0</td>\n",
              "      <td>0</td>\n",
              "    </tr>\n",
              "    <tr>\n",
              "      <th>1</th>\n",
              "      <td>0</td>\n",
              "      <td>Arlo Q Indoor Camera</td>\n",
              "      <td>3c:18:a0:41:c3:a0</td>\n",
              "      <td>192.168.137.175</td>\n",
              "      <td>99.81.244.93</td>\n",
              "      <td>56891.0</td>\n",
              "      <td>443.0</td>\n",
              "      <td>0.000164</td>\n",
              "      <td>0.000164</td>\n",
              "      <td>1.0</td>\n",
              "      <td>...</td>\n",
              "      <td>2908.0</td>\n",
              "      <td>2908.0</td>\n",
              "      <td>2908.0</td>\n",
              "      <td>2908.00</td>\n",
              "      <td>0.000000e+00</td>\n",
              "      <td>2908.0</td>\n",
              "      <td>2908.0</td>\n",
              "      <td>0.0</td>\n",
              "      <td>1.0</td>\n",
              "      <td>0</td>\n",
              "    </tr>\n",
              "    <tr>\n",
              "      <th>2</th>\n",
              "      <td>0</td>\n",
              "      <td>Arlo Q Indoor Camera</td>\n",
              "      <td>3c:18:a0:41:c3:a0</td>\n",
              "      <td>192.168.137.175</td>\n",
              "      <td>99.81.244.93</td>\n",
              "      <td>56891.0</td>\n",
              "      <td>443.0</td>\n",
              "      <td>0.000269</td>\n",
              "      <td>0.000105</td>\n",
              "      <td>1.0</td>\n",
              "      <td>...</td>\n",
              "      <td>1460.0</td>\n",
              "      <td>2908.0</td>\n",
              "      <td>2908.0</td>\n",
              "      <td>2835.60</td>\n",
              "      <td>1.048352e+05</td>\n",
              "      <td>2908.0</td>\n",
              "      <td>2908.0</td>\n",
              "      <td>0.0</td>\n",
              "      <td>1.0</td>\n",
              "      <td>0</td>\n",
              "    </tr>\n",
              "    <tr>\n",
              "      <th>3</th>\n",
              "      <td>0</td>\n",
              "      <td>Arlo Q Indoor Camera</td>\n",
              "      <td>3c:18:a0:41:c3:a0</td>\n",
              "      <td>192.168.137.175</td>\n",
              "      <td>99.81.244.93</td>\n",
              "      <td>56891.0</td>\n",
              "      <td>443.0</td>\n",
              "      <td>0.000414</td>\n",
              "      <td>0.000145</td>\n",
              "      <td>1.0</td>\n",
              "      <td>...</td>\n",
              "      <td>1460.0</td>\n",
              "      <td>2908.0</td>\n",
              "      <td>2908.0</td>\n",
              "      <td>2763.20</td>\n",
              "      <td>1.986351e+05</td>\n",
              "      <td>2908.0</td>\n",
              "      <td>2908.0</td>\n",
              "      <td>0.0</td>\n",
              "      <td>1.0</td>\n",
              "      <td>0</td>\n",
              "    </tr>\n",
              "    <tr>\n",
              "      <th>4</th>\n",
              "      <td>0</td>\n",
              "      <td>Arlo Q Indoor Camera</td>\n",
              "      <td>3c:18:a0:41:c3:a0</td>\n",
              "      <td>192.168.137.175</td>\n",
              "      <td>99.81.244.93</td>\n",
              "      <td>56891.0</td>\n",
              "      <td>443.0</td>\n",
              "      <td>0.001800</td>\n",
              "      <td>0.001386</td>\n",
              "      <td>1.0</td>\n",
              "      <td>...</td>\n",
              "      <td>1460.0</td>\n",
              "      <td>2908.0</td>\n",
              "      <td>2908.0</td>\n",
              "      <td>2690.80</td>\n",
              "      <td>2.813997e+05</td>\n",
              "      <td>2908.0</td>\n",
              "      <td>2908.0</td>\n",
              "      <td>0.0</td>\n",
              "      <td>1.0</td>\n",
              "      <td>0</td>\n",
              "    </tr>\n",
              "    <tr>\n",
              "      <th>5</th>\n",
              "      <td>0</td>\n",
              "      <td>Arlo Q Indoor Camera</td>\n",
              "      <td>3c:18:a0:41:c3:a0</td>\n",
              "      <td>192.168.137.175</td>\n",
              "      <td>99.81.244.93</td>\n",
              "      <td>56891.0</td>\n",
              "      <td>443.0</td>\n",
              "      <td>0.001961</td>\n",
              "      <td>0.000161</td>\n",
              "      <td>1.0</td>\n",
              "      <td>...</td>\n",
              "      <td>1460.0</td>\n",
              "      <td>4356.0</td>\n",
              "      <td>2908.0</td>\n",
              "      <td>2763.20</td>\n",
              "      <td>4.193408e+05</td>\n",
              "      <td>2908.0</td>\n",
              "      <td>2908.0</td>\n",
              "      <td>0.0</td>\n",
              "      <td>1.0</td>\n",
              "      <td>0</td>\n",
              "    </tr>\n",
              "    <tr>\n",
              "      <th>6</th>\n",
              "      <td>0</td>\n",
              "      <td>Arlo Q Indoor Camera</td>\n",
              "      <td>3c:18:a0:41:c3:a0</td>\n",
              "      <td>192.168.137.175</td>\n",
              "      <td>99.81.244.93</td>\n",
              "      <td>56891.0</td>\n",
              "      <td>443.0</td>\n",
              "      <td>0.002129</td>\n",
              "      <td>0.000168</td>\n",
              "      <td>1.0</td>\n",
              "      <td>...</td>\n",
              "      <td>1460.0</td>\n",
              "      <td>4356.0</td>\n",
              "      <td>2908.0</td>\n",
              "      <td>2690.80</td>\n",
              "      <td>5.021054e+05</td>\n",
              "      <td>2908.0</td>\n",
              "      <td>2908.0</td>\n",
              "      <td>0.0</td>\n",
              "      <td>1.0</td>\n",
              "      <td>0</td>\n",
              "    </tr>\n",
              "    <tr>\n",
              "      <th>7</th>\n",
              "      <td>0</td>\n",
              "      <td>Arlo Q Indoor Camera</td>\n",
              "      <td>3c:18:a0:41:c3:a0</td>\n",
              "      <td>192.168.137.175</td>\n",
              "      <td>99.81.244.93</td>\n",
              "      <td>56891.0</td>\n",
              "      <td>443.0</td>\n",
              "      <td>0.008073</td>\n",
              "      <td>0.005944</td>\n",
              "      <td>1.0</td>\n",
              "      <td>...</td>\n",
              "      <td>497.0</td>\n",
              "      <td>4356.0</td>\n",
              "      <td>2908.0</td>\n",
              "      <td>2570.25</td>\n",
              "      <td>7.376284e+05</td>\n",
              "      <td>2908.0</td>\n",
              "      <td>2546.0</td>\n",
              "      <td>362.0</td>\n",
              "      <td>1.0</td>\n",
              "      <td>0</td>\n",
              "    </tr>\n",
              "    <tr>\n",
              "      <th>8</th>\n",
              "      <td>0</td>\n",
              "      <td>Arlo Q Indoor Camera</td>\n",
              "      <td>3c:18:a0:41:c3:a0</td>\n",
              "      <td>192.168.137.175</td>\n",
              "      <td>99.81.244.93</td>\n",
              "      <td>56891.0</td>\n",
              "      <td>443.0</td>\n",
              "      <td>0.008075</td>\n",
              "      <td>0.000002</td>\n",
              "      <td>1.0</td>\n",
              "      <td>...</td>\n",
              "      <td>497.0</td>\n",
              "      <td>4356.0</td>\n",
              "      <td>2908.0</td>\n",
              "      <td>2497.85</td>\n",
              "      <td>7.909834e+05</td>\n",
              "      <td>2908.0</td>\n",
              "      <td>1460.0</td>\n",
              "      <td>1448.0</td>\n",
              "      <td>1.0</td>\n",
              "      <td>0</td>\n",
              "    </tr>\n",
              "    <tr>\n",
              "      <th>9</th>\n",
              "      <td>0</td>\n",
              "      <td>Arlo Q Indoor Camera</td>\n",
              "      <td>3c:18:a0:41:c3:a0</td>\n",
              "      <td>192.168.137.175</td>\n",
              "      <td>99.81.244.93</td>\n",
              "      <td>56891.0</td>\n",
              "      <td>443.0</td>\n",
              "      <td>0.008173</td>\n",
              "      <td>0.000098</td>\n",
              "      <td>1.0</td>\n",
              "      <td>...</td>\n",
              "      <td>497.0</td>\n",
              "      <td>4356.0</td>\n",
              "      <td>2908.0</td>\n",
              "      <td>2497.85</td>\n",
              "      <td>7.909834e+05</td>\n",
              "      <td>2908.0</td>\n",
              "      <td>1460.0</td>\n",
              "      <td>1448.0</td>\n",
              "      <td>1.0</td>\n",
              "      <td>0</td>\n",
              "    </tr>\n",
              "    <tr>\n",
              "      <th>10</th>\n",
              "      <td>0</td>\n",
              "      <td>HeimVision Smart WiFi Camera</td>\n",
              "      <td>01:00:5e:7f:ff:fa</td>\n",
              "      <td>192.168.137.90</td>\n",
              "      <td>239.255.255.250</td>\n",
              "      <td>37020.0</td>\n",
              "      <td>37000.0</td>\n",
              "      <td>0.018635</td>\n",
              "      <td>0.010462</td>\n",
              "      <td>2.0</td>\n",
              "      <td>...</td>\n",
              "      <td>176.0</td>\n",
              "      <td>176.0</td>\n",
              "      <td>176.0</td>\n",
              "      <td>176.00</td>\n",
              "      <td>0.000000e+00</td>\n",
              "      <td>176.0</td>\n",
              "      <td>176.0</td>\n",
              "      <td>0.0</td>\n",
              "      <td>1.0</td>\n",
              "      <td>0</td>\n",
              "    </tr>\n",
              "    <tr>\n",
              "      <th>11</th>\n",
              "      <td>0</td>\n",
              "      <td>Arlo Q Indoor Camera</td>\n",
              "      <td>3c:18:a0:41:c3:a0</td>\n",
              "      <td>192.168.137.175</td>\n",
              "      <td>99.81.244.93</td>\n",
              "      <td>56891.0</td>\n",
              "      <td>443.0</td>\n",
              "      <td>0.019483</td>\n",
              "      <td>0.000848</td>\n",
              "      <td>1.0</td>\n",
              "      <td>...</td>\n",
              "      <td>497.0</td>\n",
              "      <td>4356.0</td>\n",
              "      <td>2908.0</td>\n",
              "      <td>2570.25</td>\n",
              "      <td>9.583341e+05</td>\n",
              "      <td>2908.0</td>\n",
              "      <td>1460.0</td>\n",
              "      <td>1448.0</td>\n",
              "      <td>1.0</td>\n",
              "      <td>0</td>\n",
              "    </tr>\n",
              "    <tr>\n",
              "      <th>12</th>\n",
              "      <td>0</td>\n",
              "      <td>Arlo Q Indoor Camera</td>\n",
              "      <td>3c:18:a0:41:c3:a0</td>\n",
              "      <td>192.168.137.175</td>\n",
              "      <td>99.81.244.93</td>\n",
              "      <td>56891.0</td>\n",
              "      <td>443.0</td>\n",
              "      <td>0.019489</td>\n",
              "      <td>0.000006</td>\n",
              "      <td>1.0</td>\n",
              "      <td>...</td>\n",
              "      <td>497.0</td>\n",
              "      <td>7252.0</td>\n",
              "      <td>2908.0</td>\n",
              "      <td>2787.45</td>\n",
              "      <td>2.056292e+06</td>\n",
              "      <td>2908.0</td>\n",
              "      <td>1460.0</td>\n",
              "      <td>1448.0</td>\n",
              "      <td>1.0</td>\n",
              "      <td>0</td>\n",
              "    </tr>\n",
              "    <tr>\n",
              "      <th>13</th>\n",
              "      <td>0</td>\n",
              "      <td>Arlo Q Indoor Camera</td>\n",
              "      <td>3c:18:a0:41:c3:a0</td>\n",
              "      <td>192.168.137.175</td>\n",
              "      <td>99.81.244.93</td>\n",
              "      <td>56891.0</td>\n",
              "      <td>443.0</td>\n",
              "      <td>0.020079</td>\n",
              "      <td>0.000590</td>\n",
              "      <td>1.0</td>\n",
              "      <td>...</td>\n",
              "      <td>497.0</td>\n",
              "      <td>7252.0</td>\n",
              "      <td>2908.0</td>\n",
              "      <td>2715.05</td>\n",
              "      <td>2.142752e+06</td>\n",
              "      <td>2908.0</td>\n",
              "      <td>1460.0</td>\n",
              "      <td>1448.0</td>\n",
              "      <td>1.0</td>\n",
              "      <td>0</td>\n",
              "    </tr>\n",
              "    <tr>\n",
              "      <th>14</th>\n",
              "      <td>1</td>\n",
              "      <td>Nest Indoor Camera</td>\n",
              "      <td>3c:18:a0:41:c3:a0</td>\n",
              "      <td>192.168.137.46</td>\n",
              "      <td>35.185.101.66</td>\n",
              "      <td>48335.0</td>\n",
              "      <td>443.0</td>\n",
              "      <td>0.020436</td>\n",
              "      <td>0.000357</td>\n",
              "      <td>1.0</td>\n",
              "      <td>...</td>\n",
              "      <td>102.0</td>\n",
              "      <td>102.0</td>\n",
              "      <td>102.0</td>\n",
              "      <td>102.00</td>\n",
              "      <td>0.000000e+00</td>\n",
              "      <td>102.0</td>\n",
              "      <td>102.0</td>\n",
              "      <td>0.0</td>\n",
              "      <td>1.0</td>\n",
              "      <td>0</td>\n",
              "    </tr>\n",
              "    <tr>\n",
              "      <th>15</th>\n",
              "      <td>0</td>\n",
              "      <td>Arlo Q Indoor Camera</td>\n",
              "      <td>3c:18:a0:41:c3:a0</td>\n",
              "      <td>192.168.137.175</td>\n",
              "      <td>99.81.244.93</td>\n",
              "      <td>56891.0</td>\n",
              "      <td>443.0</td>\n",
              "      <td>0.020438</td>\n",
              "      <td>0.000002</td>\n",
              "      <td>1.0</td>\n",
              "      <td>...</td>\n",
              "      <td>497.0</td>\n",
              "      <td>7252.0</td>\n",
              "      <td>2908.0</td>\n",
              "      <td>2642.65</td>\n",
              "      <td>2.218178e+06</td>\n",
              "      <td>2908.0</td>\n",
              "      <td>1460.0</td>\n",
              "      <td>1448.0</td>\n",
              "      <td>1.0</td>\n",
              "      <td>0</td>\n",
              "    </tr>\n",
              "    <tr>\n",
              "      <th>16</th>\n",
              "      <td>2</td>\n",
              "      <td>ac:17:02:05:34:27</td>\n",
              "      <td>3c:18:a0:41:c3:a0</td>\n",
              "      <td>192.168.137.41</td>\n",
              "      <td>157.249.81.141</td>\n",
              "      <td>50093.0</td>\n",
              "      <td>443.0</td>\n",
              "      <td>0.117614</td>\n",
              "      <td>0.097176</td>\n",
              "      <td>1.0</td>\n",
              "      <td>...</td>\n",
              "      <td>12.0</td>\n",
              "      <td>12.0</td>\n",
              "      <td>12.0</td>\n",
              "      <td>12.00</td>\n",
              "      <td>0.000000e+00</td>\n",
              "      <td>12.0</td>\n",
              "      <td>12.0</td>\n",
              "      <td>0.0</td>\n",
              "      <td>1.0</td>\n",
              "      <td>0</td>\n",
              "    </tr>\n",
              "    <tr>\n",
              "      <th>17</th>\n",
              "      <td>2</td>\n",
              "      <td>ac:17:02:05:34:27</td>\n",
              "      <td>3c:18:a0:41:c3:a0</td>\n",
              "      <td>192.168.137.41</td>\n",
              "      <td>157.249.81.141</td>\n",
              "      <td>50093.0</td>\n",
              "      <td>443.0</td>\n",
              "      <td>0.118276</td>\n",
              "      <td>0.000662</td>\n",
              "      <td>1.0</td>\n",
              "      <td>...</td>\n",
              "      <td>12.0</td>\n",
              "      <td>263.0</td>\n",
              "      <td>12.0</td>\n",
              "      <td>24.55</td>\n",
              "      <td>3.150050e+03</td>\n",
              "      <td>12.0</td>\n",
              "      <td>12.0</td>\n",
              "      <td>0.0</td>\n",
              "      <td>1.0</td>\n",
              "      <td>0</td>\n",
              "    </tr>\n",
              "    <tr>\n",
              "      <th>18</th>\n",
              "      <td>0</td>\n",
              "      <td>Arlo Q Indoor Camera</td>\n",
              "      <td>3c:18:a0:41:c3:a0</td>\n",
              "      <td>192.168.137.175</td>\n",
              "      <td>99.81.244.93</td>\n",
              "      <td>56891.0</td>\n",
              "      <td>443.0</td>\n",
              "      <td>0.119668</td>\n",
              "      <td>0.001392</td>\n",
              "      <td>1.0</td>\n",
              "      <td>...</td>\n",
              "      <td>497.0</td>\n",
              "      <td>7252.0</td>\n",
              "      <td>2908.0</td>\n",
              "      <td>2543.70</td>\n",
              "      <td>2.358723e+06</td>\n",
              "      <td>2908.0</td>\n",
              "      <td>1460.0</td>\n",
              "      <td>1448.0</td>\n",
              "      <td>1.0</td>\n",
              "      <td>0</td>\n",
              "    </tr>\n",
              "    <tr>\n",
              "      <th>19</th>\n",
              "      <td>1</td>\n",
              "      <td>Teckin Plug 2</td>\n",
              "      <td>ff:ff:ff:ff:ff:ff</td>\n",
              "      <td>192.168.137.82</td>\n",
              "      <td>255.255.255.255</td>\n",
              "      <td>49236.0</td>\n",
              "      <td>6667.0</td>\n",
              "      <td>0.122046</td>\n",
              "      <td>0.002378</td>\n",
              "      <td>2.0</td>\n",
              "      <td>...</td>\n",
              "      <td>172.0</td>\n",
              "      <td>172.0</td>\n",
              "      <td>172.0</td>\n",
              "      <td>172.00</td>\n",
              "      <td>0.000000e+00</td>\n",
              "      <td>172.0</td>\n",
              "      <td>172.0</td>\n",
              "      <td>0.0</td>\n",
              "      <td>1.0</td>\n",
              "      <td>0</td>\n",
              "    </tr>\n",
              "  </tbody>\n",
              "</table>\n",
              "<p>20 rows × 136 columns</p>\n",
              "</div>\n",
              "    <div class=\"colab-df-buttons\">\n",
              "\n",
              "  <div class=\"colab-df-container\">\n",
              "    <button class=\"colab-df-convert\" onclick=\"convertToInteractive('df-c4b730ec-7168-40e8-9ebb-389d2f48a66b')\"\n",
              "            title=\"Convert this dataframe to an interactive table.\"\n",
              "            style=\"display:none;\">\n",
              "\n",
              "  <svg xmlns=\"http://www.w3.org/2000/svg\" height=\"24px\" viewBox=\"0 -960 960 960\">\n",
              "    <path d=\"M120-120v-720h720v720H120Zm60-500h600v-160H180v160Zm220 220h160v-160H400v160Zm0 220h160v-160H400v160ZM180-400h160v-160H180v160Zm440 0h160v-160H620v160ZM180-180h160v-160H180v160Zm440 0h160v-160H620v160Z\"/>\n",
              "  </svg>\n",
              "    </button>\n",
              "\n",
              "  <style>\n",
              "    .colab-df-container {\n",
              "      display:flex;\n",
              "      gap: 12px;\n",
              "    }\n",
              "\n",
              "    .colab-df-convert {\n",
              "      background-color: #E8F0FE;\n",
              "      border: none;\n",
              "      border-radius: 50%;\n",
              "      cursor: pointer;\n",
              "      display: none;\n",
              "      fill: #1967D2;\n",
              "      height: 32px;\n",
              "      padding: 0 0 0 0;\n",
              "      width: 32px;\n",
              "    }\n",
              "\n",
              "    .colab-df-convert:hover {\n",
              "      background-color: #E2EBFA;\n",
              "      box-shadow: 0px 1px 2px rgba(60, 64, 67, 0.3), 0px 1px 3px 1px rgba(60, 64, 67, 0.15);\n",
              "      fill: #174EA6;\n",
              "    }\n",
              "\n",
              "    .colab-df-buttons div {\n",
              "      margin-bottom: 4px;\n",
              "    }\n",
              "\n",
              "    [theme=dark] .colab-df-convert {\n",
              "      background-color: #3B4455;\n",
              "      fill: #D2E3FC;\n",
              "    }\n",
              "\n",
              "    [theme=dark] .colab-df-convert:hover {\n",
              "      background-color: #434B5C;\n",
              "      box-shadow: 0px 1px 3px 1px rgba(0, 0, 0, 0.15);\n",
              "      filter: drop-shadow(0px 1px 2px rgba(0, 0, 0, 0.3));\n",
              "      fill: #FFFFFF;\n",
              "    }\n",
              "  </style>\n",
              "\n",
              "    <script>\n",
              "      const buttonEl =\n",
              "        document.querySelector('#df-c4b730ec-7168-40e8-9ebb-389d2f48a66b button.colab-df-convert');\n",
              "      buttonEl.style.display =\n",
              "        google.colab.kernel.accessAllowed ? 'block' : 'none';\n",
              "\n",
              "      async function convertToInteractive(key) {\n",
              "        const element = document.querySelector('#df-c4b730ec-7168-40e8-9ebb-389d2f48a66b');\n",
              "        const dataTable =\n",
              "          await google.colab.kernel.invokeFunction('convertToInteractive',\n",
              "                                                    [key], {});\n",
              "        if (!dataTable) return;\n",
              "\n",
              "        const docLinkHtml = 'Like what you see? Visit the ' +\n",
              "          '<a target=\"_blank\" href=https://colab.research.google.com/notebooks/data_table.ipynb>data table notebook</a>'\n",
              "          + ' to learn more about interactive tables.';\n",
              "        element.innerHTML = '';\n",
              "        dataTable['output_type'] = 'display_data';\n",
              "        await google.colab.output.renderOutput(dataTable, element);\n",
              "        const docLink = document.createElement('div');\n",
              "        docLink.innerHTML = docLinkHtml;\n",
              "        element.appendChild(docLink);\n",
              "      }\n",
              "    </script>\n",
              "  </div>\n",
              "\n",
              "\n",
              "<div id=\"df-d04fed4f-1d46-4ce4-8444-ad3ddced5e34\">\n",
              "  <button class=\"colab-df-quickchart\" onclick=\"quickchart('df-d04fed4f-1d46-4ce4-8444-ad3ddced5e34')\"\n",
              "            title=\"Suggest charts\"\n",
              "            style=\"display:none;\">\n",
              "\n",
              "<svg xmlns=\"http://www.w3.org/2000/svg\" height=\"24px\"viewBox=\"0 0 24 24\"\n",
              "     width=\"24px\">\n",
              "    <g>\n",
              "        <path d=\"M19 3H5c-1.1 0-2 .9-2 2v14c0 1.1.9 2 2 2h14c1.1 0 2-.9 2-2V5c0-1.1-.9-2-2-2zM9 17H7v-7h2v7zm4 0h-2V7h2v10zm4 0h-2v-4h2v4z\"/>\n",
              "    </g>\n",
              "</svg>\n",
              "  </button>\n",
              "\n",
              "<style>\n",
              "  .colab-df-quickchart {\n",
              "      --bg-color: #E8F0FE;\n",
              "      --fill-color: #1967D2;\n",
              "      --hover-bg-color: #E2EBFA;\n",
              "      --hover-fill-color: #174EA6;\n",
              "      --disabled-fill-color: #AAA;\n",
              "      --disabled-bg-color: #DDD;\n",
              "  }\n",
              "\n",
              "  [theme=dark] .colab-df-quickchart {\n",
              "      --bg-color: #3B4455;\n",
              "      --fill-color: #D2E3FC;\n",
              "      --hover-bg-color: #434B5C;\n",
              "      --hover-fill-color: #FFFFFF;\n",
              "      --disabled-bg-color: #3B4455;\n",
              "      --disabled-fill-color: #666;\n",
              "  }\n",
              "\n",
              "  .colab-df-quickchart {\n",
              "    background-color: var(--bg-color);\n",
              "    border: none;\n",
              "    border-radius: 50%;\n",
              "    cursor: pointer;\n",
              "    display: none;\n",
              "    fill: var(--fill-color);\n",
              "    height: 32px;\n",
              "    padding: 0;\n",
              "    width: 32px;\n",
              "  }\n",
              "\n",
              "  .colab-df-quickchart:hover {\n",
              "    background-color: var(--hover-bg-color);\n",
              "    box-shadow: 0 1px 2px rgba(60, 64, 67, 0.3), 0 1px 3px 1px rgba(60, 64, 67, 0.15);\n",
              "    fill: var(--button-hover-fill-color);\n",
              "  }\n",
              "\n",
              "  .colab-df-quickchart-complete:disabled,\n",
              "  .colab-df-quickchart-complete:disabled:hover {\n",
              "    background-color: var(--disabled-bg-color);\n",
              "    fill: var(--disabled-fill-color);\n",
              "    box-shadow: none;\n",
              "  }\n",
              "\n",
              "  .colab-df-spinner {\n",
              "    border: 2px solid var(--fill-color);\n",
              "    border-color: transparent;\n",
              "    border-bottom-color: var(--fill-color);\n",
              "    animation:\n",
              "      spin 1s steps(1) infinite;\n",
              "  }\n",
              "\n",
              "  @keyframes spin {\n",
              "    0% {\n",
              "      border-color: transparent;\n",
              "      border-bottom-color: var(--fill-color);\n",
              "      border-left-color: var(--fill-color);\n",
              "    }\n",
              "    20% {\n",
              "      border-color: transparent;\n",
              "      border-left-color: var(--fill-color);\n",
              "      border-top-color: var(--fill-color);\n",
              "    }\n",
              "    30% {\n",
              "      border-color: transparent;\n",
              "      border-left-color: var(--fill-color);\n",
              "      border-top-color: var(--fill-color);\n",
              "      border-right-color: var(--fill-color);\n",
              "    }\n",
              "    40% {\n",
              "      border-color: transparent;\n",
              "      border-right-color: var(--fill-color);\n",
              "      border-top-color: var(--fill-color);\n",
              "    }\n",
              "    60% {\n",
              "      border-color: transparent;\n",
              "      border-right-color: var(--fill-color);\n",
              "    }\n",
              "    80% {\n",
              "      border-color: transparent;\n",
              "      border-right-color: var(--fill-color);\n",
              "      border-bottom-color: var(--fill-color);\n",
              "    }\n",
              "    90% {\n",
              "      border-color: transparent;\n",
              "      border-bottom-color: var(--fill-color);\n",
              "    }\n",
              "  }\n",
              "</style>\n",
              "\n",
              "  <script>\n",
              "    async function quickchart(key) {\n",
              "      const quickchartButtonEl =\n",
              "        document.querySelector('#' + key + ' button');\n",
              "      quickchartButtonEl.disabled = true;  // To prevent multiple clicks.\n",
              "      quickchartButtonEl.classList.add('colab-df-spinner');\n",
              "      try {\n",
              "        const charts = await google.colab.kernel.invokeFunction(\n",
              "            'suggestCharts', [key], {});\n",
              "      } catch (error) {\n",
              "        console.error('Error during call to suggestCharts:', error);\n",
              "      }\n",
              "      quickchartButtonEl.classList.remove('colab-df-spinner');\n",
              "      quickchartButtonEl.classList.add('colab-df-quickchart-complete');\n",
              "    }\n",
              "    (() => {\n",
              "      let quickchartButtonEl =\n",
              "        document.querySelector('#df-d04fed4f-1d46-4ce4-8444-ad3ddced5e34 button');\n",
              "      quickchartButtonEl.style.display =\n",
              "        google.colab.kernel.accessAllowed ? 'block' : 'none';\n",
              "    })();\n",
              "  </script>\n",
              "</div>\n",
              "\n",
              "    </div>\n",
              "  </div>\n"
            ],
            "application/vnd.google.colaboratory.intrinsic+json": {
              "type": "dataframe",
              "variable_name": "df"
            }
          },
          "metadata": {},
          "execution_count": 143
        }
      ],
      "source": [
        "#Data Description\n",
        "df.head(20)"
      ]
    },
    {
      "cell_type": "code",
      "source": [
        "df.drop_duplicates(inplace=True)"
      ],
      "metadata": {
        "id": "MRnfMh_N6XFw"
      },
      "id": "MRnfMh_N6XFw",
      "execution_count": null,
      "outputs": []
    },
    {
      "cell_type": "code",
      "source": [
        "data=df[['src_ip','dst_ip','sum_p','inter_arrival_time','jitter']].dropna()"
      ],
      "metadata": {
        "id": "fCSLAaCL6SJ_"
      },
      "id": "fCSLAaCL6SJ_",
      "execution_count": null,
      "outputs": []
    },
    {
      "cell_type": "code",
      "source": [
        "data.shape"
      ],
      "metadata": {
        "colab": {
          "base_uri": "https://localhost:8080/"
        },
        "id": "R1Y4dafg6oMm",
        "outputId": "a475ffc4-8a71-4b38-8bc7-be6eea28be97"
      },
      "id": "R1Y4dafg6oMm",
      "execution_count": null,
      "outputs": [
        {
          "output_type": "execute_result",
          "data": {
            "text/plain": [
              "(252541, 5)"
            ]
          },
          "metadata": {},
          "execution_count": 14
        }
      ]
    },
    {
      "cell_type": "markdown",
      "source": [
        "**First suggestion of the tensor**"
      ],
      "metadata": {
        "id": "AGbi-Qfg9UOU"
      },
      "id": "AGbi-Qfg9UOU"
    },
    {
      "cell_type": "code",
      "source": [
        "# Tensor=[Src IP, Dst IP, features] where features:{count,time_inter_arrival,sum_p}\n"
      ],
      "metadata": {
        "id": "4cxPj0kX8uUt"
      },
      "id": "4cxPj0kX8uUt",
      "execution_count": null,
      "outputs": []
    },
    {
      "cell_type": "code",
      "source": [
        "def create_tensor(df):\n",
        "    # Extract unique source and destination IPs\n",
        "    src_ips = df['src_ip'].unique()\n",
        "    dst_ips = df['dst_ip'].unique()\n",
        "\n",
        "    # Create mappings for src_ip and dst_ip to indices\n",
        "    src_ip_to_idx = {ip: idx for idx, ip in enumerate(src_ips)}\n",
        "    dst_ip_to_idx = {ip: idx for idx, ip in enumerate(dst_ips)}\n",
        "\n",
        "    # Initialize adjacency tensor [Src IP, Dst IP, features]\n",
        "    tensor = np.zeros((len(src_ips), len(dst_ips), 4))  # 3 features (count, bytes, duration)\n",
        "\n",
        "    # Group by source and destination IPs\n",
        "    grouped = df.groupby(['src_ip', 'dst_ip'])\n",
        "\n",
        "    for (src_ip, dst_ip), group in grouped:\n",
        "        src_idx = src_ip_to_idx[src_ip]\n",
        "        dst_idx = dst_ip_to_idx[dst_ip]\n",
        "\n",
        "        # Aggregated features\n",
        "        tensor[src_idx, dst_idx, 0] = len(group)  # count\n",
        "        tensor[src_idx, dst_idx, 1] = group['sum_p'].sum()  # bytes (sum over group)\n",
        "        tensor[src_idx, dst_idx, 2] = group['inter_arrival_time'].mean()\n",
        "        tensor[src_idx, dst_idx, 3]=  group['jitter'].mean() # duration (average)\n",
        "\n",
        "    return tensor, src_ip_to_idx, dst_ip_to_idx"
      ],
      "metadata": {
        "id": "rMZiN_gR11Ip"
      },
      "id": "rMZiN_gR11Ip",
      "execution_count": null,
      "outputs": []
    },
    {
      "cell_type": "code",
      "source": [
        "tensor, src_ip_to_idx, dst_ip_to_idx=create_tensor(data)"
      ],
      "metadata": {
        "id": "etZ1E8ZM6N22"
      },
      "id": "etZ1E8ZM6N22",
      "execution_count": null,
      "outputs": []
    },
    {
      "cell_type": "code",
      "source": [
        "tensor.shape"
      ],
      "metadata": {
        "colab": {
          "base_uri": "https://localhost:8080/"
        },
        "id": "mkOf_hj-6gNF",
        "outputId": "75c29bc2-2d5c-4930-9d3c-30d35df78551"
      },
      "id": "mkOf_hj-6gNF",
      "execution_count": null,
      "outputs": [
        {
          "output_type": "execute_result",
          "data": {
            "text/plain": [
              "(414, 397, 4)"
            ]
          },
          "metadata": {},
          "execution_count": 19
        }
      ]
    },
    {
      "cell_type": "code",
      "source": [
        "tensor.size"
      ],
      "metadata": {
        "colab": {
          "base_uri": "https://localhost:8080/"
        },
        "id": "TO4g7N0Z7iBP",
        "outputId": "fd602283-52d6-4782-da59-4c28ec41b49f"
      },
      "id": "TO4g7N0Z7iBP",
      "execution_count": null,
      "outputs": [
        {
          "output_type": "execute_result",
          "data": {
            "text/plain": [
              "657432"
            ]
          },
          "metadata": {},
          "execution_count": 20
        }
      ]
    },
    {
      "cell_type": "code",
      "source": [
        "np.count_nonzero(tensor)"
      ],
      "metadata": {
        "colab": {
          "base_uri": "https://localhost:8080/"
        },
        "id": "T2NvBu1v7k6x",
        "outputId": "687654fe-a1e9-4263-9ebb-d08728c07644"
      },
      "id": "T2NvBu1v7k6x",
      "execution_count": null,
      "outputs": [
        {
          "output_type": "execute_result",
          "data": {
            "text/plain": [
              "4017"
            ]
          },
          "metadata": {},
          "execution_count": 21
        }
      ]
    },
    {
      "cell_type": "code",
      "source": [
        "nonzero_elements = np.count_nonzero(tensor)\n",
        "total_elements = tensor.size\n",
        "sparsity_ratio = 1 - (nonzero_elements / total_elements)\n",
        "print(\"Sparsity Ratio:\", sparsity_ratio)"
      ],
      "metadata": {
        "colab": {
          "base_uri": "https://localhost:8080/"
        },
        "id": "PP7UqBEb7Rkh",
        "outputId": "d204188b-5bca-4990-9b2c-49ca8980d6ba"
      },
      "id": "PP7UqBEb7Rkh",
      "execution_count": null,
      "outputs": [
        {
          "output_type": "stream",
          "name": "stdout",
          "text": [
            "Sparsity Ratio: 0.9938898623735991\n"
          ]
        }
      ]
    },
    {
      "cell_type": "code",
      "source": [
        "#Normalization of the tensor\n",
        "tensor_normalized=tensor/tl.norm(tensor)"
      ],
      "metadata": {
        "id": "HW2vl7pW7bVR"
      },
      "id": "HW2vl7pW7bVR",
      "execution_count": null,
      "outputs": []
    },
    {
      "cell_type": "code",
      "source": [
        "#Find the rank of the CP and the rank of the rensor\n",
        "Factors_list=[]\n",
        "errors=[]\n",
        "for rank in range(1, 50):\n",
        "    factors = parafac(tensor_normalized, rank=rank, init='random')\n",
        "    Factors_list.append(factors)\n",
        "    tensor_reconstructed = tl.cp_to_tensor(factors)\n",
        "    reconstruction_error = np.linalg.norm(tensor_normalized - tensor_reconstructed)\n",
        "    errors.append(reconstruction_error)"
      ],
      "metadata": {
        "id": "6UNLCcm67oFv"
      },
      "id": "6UNLCcm67oFv",
      "execution_count": null,
      "outputs": []
    },
    {
      "cell_type": "code",
      "source": [
        "errors"
      ],
      "metadata": {
        "colab": {
          "base_uri": "https://localhost:8080/"
        },
        "id": "CVtqgLcD8v9T",
        "outputId": "aa6ba5cf-b011-4fb1-f2e5-671c0c1cfeb0"
      },
      "id": "CVtqgLcD8v9T",
      "execution_count": null,
      "outputs": [
        {
          "output_type": "execute_result",
          "data": {
            "text/plain": [
              "[np.float64(0.5342919746635175),\n",
              " np.float64(0.21677619245882032),\n",
              " np.float64(0.2001344912712151),\n",
              " np.float64(0.182326267188525),\n",
              " np.float64(0.16867617862997933),\n",
              " np.float64(0.15488853897153373),\n",
              " np.float64(0.1412789222665309),\n",
              " np.float64(0.12722187190861092),\n",
              " np.float64(0.11352144074766543),\n",
              " np.float64(0.0994489408427728),\n",
              " np.float64(0.08544837494223002),\n",
              " np.float64(0.0785910558115986),\n",
              " np.float64(0.07240275576304284),\n",
              " np.float64(0.06588972639266345),\n",
              " np.float64(0.058967313056050574),\n",
              " np.float64(0.05149742190931927),\n",
              " np.float64(0.04485191442277998),\n",
              " np.float64(0.0417356517081249),\n",
              " np.float64(0.03872149288841718),\n",
              " np.float64(0.03631611724128039),\n",
              " np.float64(0.03419953542792261),\n",
              " np.float64(0.032304700016671586),\n",
              " np.float64(0.03034823457954339),\n",
              " np.float64(0.02854964089289282),\n",
              " np.float64(0.026775869807890425),\n",
              " np.float64(0.025057520655923725),\n",
              " np.float64(0.02334326705524162),\n",
              " np.float64(0.021606908309725423),\n",
              " np.float64(0.02006407944451555),\n",
              " np.float64(0.01888655729721705),\n",
              " np.float64(0.01771744498978423),\n",
              " np.float64(0.016764387468839154),\n",
              " np.float64(0.015959772295555674),\n",
              " np.float64(0.015216051985375288),\n",
              " np.float64(0.014497853844691728),\n",
              " np.float64(0.013724827009564877),\n",
              " np.float64(0.012989200377094931),\n",
              " np.float64(0.01220192249984881),\n",
              " np.float64(0.011487977145748866),\n",
              " np.float64(0.010795548805601754),\n",
              " np.float64(0.010259198100956607),\n",
              " np.float64(0.009747346802064686),\n",
              " np.float64(0.009330706077172062),\n",
              " np.float64(0.00890984121037259),\n",
              " np.float64(0.008540495284863826),\n",
              " np.float64(0.008239607813897678),\n",
              " np.float64(0.00795339302379571),\n",
              " np.float64(0.007663697157996294),\n",
              " np.float64(0.0073616949946875825)]"
            ]
          },
          "metadata": {},
          "execution_count": 31
        }
      ]
    },
    {
      "cell_type": "code",
      "source": [
        "#Compression graph of each rank\n"
      ],
      "metadata": {
        "id": "FbEUdejw-pRD"
      },
      "id": "FbEUdejw-pRD",
      "execution_count": null,
      "outputs": []
    },
    {
      "cell_type": "code",
      "source": [
        "plt.plot(errors)\n",
        "plt.xlabel('Rank')\n",
        "plt.ylabel('Reconstruction Error')\n",
        "plt.title('Reconstruction Error vs Rank')\n",
        "plt.show()"
      ],
      "metadata": {
        "colab": {
          "base_uri": "https://localhost:8080/",
          "height": 472
        },
        "id": "aq8Bmd_R9B45",
        "outputId": "5e64751a-de5b-4dc6-da1e-ed62d4964c41"
      },
      "id": "aq8Bmd_R9B45",
      "execution_count": null,
      "outputs": [
        {
          "output_type": "display_data",
          "data": {
            "text/plain": [
              "<Figure size 640x480 with 1 Axes>"
            ],
            "image/png": "[encoded data removed]"
          },
          "metadata": {}
        }
      ]
    },
    {
      "cell_type": "markdown",
      "source": [
        "Second Proposition\n",
        "In this proposition, the tensor will be constructed using 4 modes: n_sample x (stream,chanel,jitter,src_ip,src_ip_mac) x (count,var,mean) x time"
      ],
      "metadata": {
        "id": "uhuefvZ5kSIO"
      },
      "id": "uhuefvZ5kSIO"
    },
    {
      "cell_type": "code",
      "source": [
        "L=['stream_1_count',\n",
        "'stream_1_mean',\n",
        "'stream_1_var',\n",
        "'src_ip_1_count',\n",
        "'src_ip_1_mean',\n",
        "'src_ip_1_var',\n",
        "'src_ip_mac_1_count',\n",
        "'src_ip_mac_1_mean',\n",
        "'src_ip_mac_1_var',\n",
        "'channel_1_count',\n",
        "'channel_1_mean',\n",
        "'channel_1_var',\n",
        "'stream_jitter_1_sum',\n",
        "'stream_jitter_1_mean',\n",
        "'stream_jitter_1_var',\n",
        "'stream_5_count',\n",
        "'stream_5_mean',\n",
        "'stream_5_var',\n",
        "'src_ip_5_count',\n",
        "'src_ip_5_mean',\n",
        "'src_ip_5_var',\n",
        "'src_ip_mac_5_count',\n",
        "'src_ip_mac_5_mean',\n",
        "'src_ip_mac_5_var',\n",
        "'channel_5_count',\n",
        "'channel_5_mean',\n",
        "'channel_5_var',\n",
        "'stream_jitter_5_sum',\n",
        "'stream_jitter_5_mean',\n",
        "'stream_jitter_5_var',\n",
        "'stream_10_count',\n",
        "'stream_10_mean',\n",
        "'stream_10_var',\n",
        "'src_ip_10_count',\n",
        "'src_ip_10_mean',\n",
        "'src_ip_10_var',\n",
        "'src_ip_mac_10_count',\n",
        "'src_ip_mac_10_mean',\n",
        "'src_ip_mac_10_var',\n",
        "'channel_10_count',\n",
        "'channel_10_mean',\n",
        "'channel_10_var',\n",
        "'stream_jitter_10_sum',\n",
        "'stream_jitter_10_mean',\n",
        "'stream_jitter_10_var',\n",
        "'stream_30_count',\n",
        "'stream_30_mean',\n",
        "'stream_30_var',\n",
        "'src_ip_30_count',\n",
        "'src_ip_30_mean',\n",
        "'src_ip_30_var',\n",
        "'src_ip_mac_30_count',\n",
        "'src_ip_mac_30_mean',\n",
        "'src_ip_mac_30_var',\n",
        "'channel_30_count',\n",
        "'channel_30_mean',\n",
        "'channel_30_var',\n",
        "'stream_jitter_30_sum',\n",
        "'stream_jitter_30_mean',\n",
        "'stream_jitter_30_var',\n",
        "'stream_60_count',\n",
        "'stream_60_mean',\n",
        "'stream_60_var',\n",
        "'src_ip_60_count',\n",
        "'src_ip_60_mean',\n",
        "'src_ip_60_var',\n",
        "'src_ip_mac_60_count',\n",
        "'src_ip_mac_60_mean',\n",
        "'src_ip_mac_60_var',\n",
        "'channel_60_count',\n",
        "'channel_60_mean',\n",
        "'channel_60_var',\n",
        "'stream_jitter_60_sum',\n",
        "'stream_jitter_60_mean',\n",
        "'stream_jitter_60_var']"
      ],
      "metadata": {
        "id": "aD8yO7Q4lAQn"
      },
      "id": "aD8yO7Q4lAQn",
      "execution_count": null,
      "outputs": []
    },
    {
      "cell_type": "code",
      "source": [
        "df_b_1.dropna(subset=L, inplace=True)\n",
        "df_b_2.dropna(subset=L, inplace=True)\n",
        "df_DDoS.dropna(subset=L, inplace=True)\n",
        "df_Mirai.dropna(subset=L, inplace=True)"
      ],
      "metadata": {
        "id": "aK13WfzZ3HIC"
      },
      "id": "aK13WfzZ3HIC",
      "execution_count": null,
      "outputs": []
    },
    {
      "cell_type": "code",
      "source": [
        "data_2=df[L]"
      ],
      "metadata": {
        "id": "KQA6fcco6-tb"
      },
      "id": "KQA6fcco6-tb",
      "execution_count": null,
      "outputs": []
    },
    {
      "cell_type": "code",
      "source": [
        "data_2.shape"
      ],
      "metadata": {
        "colab": {
          "base_uri": "https://localhost:8080/"
        },
        "id": "F-C42dEj-RGG",
        "outputId": "2bbc6147-7d3d-4461-e45f-4c6da58f4f16"
      },
      "id": "F-C42dEj-RGG",
      "execution_count": null,
      "outputs": [
        {
          "output_type": "execute_result",
          "data": {
            "text/plain": [
              "(356967, 75)"
            ]
          },
          "metadata": {},
          "execution_count": 41
        }
      ]
    },
    {
      "cell_type": "code",
      "source": [
        "def create_4d_tensor(df):\n",
        "    # Dimensions\n",
        "    features = ['stream', 'src_ip', 'src_ip_mac', 'channel', 'stream_jitter']\n",
        "    metrics = ['count', 'mean', 'var']\n",
        "    time_windows = [1, 5, 10, 30, 60]\n",
        "\n",
        "    n_samples = df.shape[0]\n",
        "    tensor = np.zeros((n_samples, len(features), len(metrics), len(time_windows)))\n",
        "\n",
        "    for i, feature in enumerate(features):\n",
        "        for j, metric in enumerate(metrics):\n",
        "            for k, t in enumerate(time_windows):\n",
        "                # Correction : pour stream_jitter, remplacer \"count\" par \"sum\"\n",
        "                metric_name = \"sum\" if feature == \"stream_jitter\" and metric == \"count\" else metric\n",
        "                col = f\"{feature}_{t}_{metric_name}\"\n",
        "                tensor[:, i, j, k] = df[col].values\n",
        "\n",
        "    return tensor\n"
      ],
      "metadata": {
        "id": "Xra6px3d7INt"
      },
      "id": "Xra6px3d7INt",
      "execution_count": null,
      "outputs": []
    },
    {
      "cell_type": "code",
      "source": [
        "tensor_2=create_4d_tensor(data_2)"
      ],
      "metadata": {
        "id": "eLFbp8PSFEOg"
      },
      "id": "eLFbp8PSFEOg",
      "execution_count": null,
      "outputs": []
    },
    {
      "cell_type": "code",
      "source": [
        "tensor_2.size"
      ],
      "metadata": {
        "colab": {
          "base_uri": "https://localhost:8080/"
        },
        "id": "wnS77iboFTDm",
        "outputId": "5cc27a7a-2954-4f6f-a672-37d3a3669397"
      },
      "id": "wnS77iboFTDm",
      "execution_count": null,
      "outputs": [
        {
          "output_type": "execute_result",
          "data": {
            "text/plain": [
              "26772525"
            ]
          },
          "metadata": {},
          "execution_count": 44
        }
      ]
    },
    {
      "cell_type": "code",
      "source": [
        "tensor_2.shape"
      ],
      "metadata": {
        "colab": {
          "base_uri": "https://localhost:8080/"
        },
        "id": "cvyXCspFFWYD",
        "outputId": "71aa61f2-1ace-4cfb-ab94-4f6e49407653"
      },
      "id": "cvyXCspFFWYD",
      "execution_count": null,
      "outputs": [
        {
          "output_type": "execute_result",
          "data": {
            "text/plain": [
              "(356967, 5, 3, 5)"
            ]
          },
          "metadata": {},
          "execution_count": 45
        }
      ]
    },
    {
      "cell_type": "code",
      "source": [
        "#sparsity ratio\n",
        "nonzero_elements = np.count_nonzero(tensor_2)\n",
        "total_elements = tensor_2.size\n",
        "sparsity_ratio = 1 - (nonzero_elements / total_elements)\n",
        "print(\"Sparsity Ratio:\", sparsity_ratio)"
      ],
      "metadata": {
        "colab": {
          "base_uri": "https://localhost:8080/"
        },
        "id": "dKgoPSfJFb0h",
        "outputId": "c6af224f-16aa-42d1-b187-8dcf621c0b1d"
      },
      "id": "dKgoPSfJFb0h",
      "execution_count": null,
      "outputs": [
        {
          "output_type": "stream",
          "name": "stdout",
          "text": [
            "Sparsity Ratio: 0.07672671890305449\n"
          ]
        }
      ]
    },
    {
      "cell_type": "code",
      "source": [
        "#normalize the tensor\n",
        "tensor_2_normalized=tensor_2/tl.norm(tensor_2)"
      ],
      "metadata": {
        "id": "hPQu0A4oFmeC"
      },
      "id": "hPQu0A4oFmeC",
      "execution_count": null,
      "outputs": []
    },
    {
      "cell_type": "code",
      "source": [
        "#CP and rank\n",
        "Factors_list_2=[]\n",
        "errors_2=[]\n",
        "for rank in range(1, 50):\n",
        "    factors_2 = parafac(tensor_2_normalized, rank=rank, init='random')\n",
        "    Factors_list_2.append(factors)\n",
        "    tensor_reconstructed_2 = tl.cp_to_tensor(factors_2)\n",
        "    reconstruction_error_2 = np.linalg.norm(tensor_2_normalized - tensor_reconstructed_2)\n",
        "    errors_2.append(reconstruction_error_2)"
      ],
      "metadata": {
        "colab": {
          "base_uri": "https://localhost:8080/",
          "height": 356
        },
        "id": "ojwGRHfvFsxo",
        "outputId": "90383ab5-39b3-4820-f877-b31c73a6abf4"
      },
      "id": "ojwGRHfvFsxo",
      "execution_count": null,
      "outputs": [
        {
          "output_type": "error",
          "ename": "KeyboardInterrupt",
          "evalue": "",
          "traceback": [
            "\u001b[0;31m---------------------------------------------------------------------------\u001b[0m",
            "\u001b[0;31mKeyboardInterrupt\u001b[0m                         Traceback (most recent call last)",
            "\u001b[0;32m<ipython-input-48-9758122bd379>\u001b[0m in \u001b[0;36m<cell line: 0>\u001b[0;34m()\u001b[0m\n\u001b[1;32m      3\u001b[0m \u001b[0merrors_2\u001b[0m\u001b[0;34m=\u001b[0m\u001b[0;34m[\u001b[0m\u001b[0;34m]\u001b[0m\u001b[0;34m\u001b[0m\u001b[0;34m\u001b[0m\u001b[0m\n\u001b[1;32m      4\u001b[0m \u001b[0;32mfor\u001b[0m \u001b[0mrank\u001b[0m \u001b[0;32min\u001b[0m \u001b[0mrange\u001b[0m\u001b[0;34m(\u001b[0m\u001b[0;36m1\u001b[0m\u001b[0;34m,\u001b[0m \u001b[0;36m50\u001b[0m\u001b[0;34m)\u001b[0m\u001b[0;34m:\u001b[0m\u001b[0;34m\u001b[0m\u001b[0;34m\u001b[0m\u001b[0m\n\u001b[0;32m----> 5\u001b[0;31m     \u001b[0mfactors_2\u001b[0m \u001b[0;34m=\u001b[0m \u001b[0mparafac\u001b[0m\u001b[0;34m(\u001b[0m\u001b[0mtensor_2_normalized\u001b[0m\u001b[0;34m,\u001b[0m \u001b[0mrank\u001b[0m\u001b[0;34m=\u001b[0m\u001b[0mrank\u001b[0m\u001b[0;34m,\u001b[0m \u001b[0minit\u001b[0m\u001b[0;34m=\u001b[0m\u001b[0;34m'random'\u001b[0m\u001b[0;34m)\u001b[0m\u001b[0;34m\u001b[0m\u001b[0;34m\u001b[0m\u001b[0m\n\u001b[0m\u001b[1;32m      6\u001b[0m     \u001b[0mFactors_list_2\u001b[0m\u001b[0;34m.\u001b[0m\u001b[0mappend\u001b[0m\u001b[0;34m(\u001b[0m\u001b[0mfactors\u001b[0m\u001b[0;34m)\u001b[0m\u001b[0;34m\u001b[0m\u001b[0;34m\u001b[0m\u001b[0m\n\u001b[1;32m      7\u001b[0m     \u001b[0mtensor_reconstructed_2\u001b[0m \u001b[0;34m=\u001b[0m \u001b[0mtl\u001b[0m\u001b[0;34m.\u001b[0m\u001b[0mcp_to_tensor\u001b[0m\u001b[0;34m(\u001b[0m\u001b[0mfactors_2\u001b[0m\u001b[0;34m)\u001b[0m\u001b[0;34m\u001b[0m\u001b[0;34m\u001b[0m\u001b[0m\n",
            "\u001b[0;32m/usr/local/lib/python3.11/dist-packages/tensorly/decomposition/_cp.py\u001b[0m in \u001b[0;36mparafac\u001b[0;34m(tensor, rank, n_iter_max, init, svd, normalize_factors, orthogonalise, tol, random_state, verbose, return_errors, sparsity, l2_reg, mask, cvg_criterion, fixed_modes, svd_mask_repeats, linesearch, callback)\u001b[0m\n\u001b[1;32m    421\u001b[0m                 \u001b[0;34m*\u001b[0m \u001b[0mtl\u001b[0m\u001b[0;34m.\u001b[0m\u001b[0mreshape\u001b[0m\u001b[0;34m(\u001b[0m\u001b[0mweights\u001b[0m\u001b[0;34m,\u001b[0m \u001b[0;34m(\u001b[0m\u001b[0;36m1\u001b[0m\u001b[0;34m,\u001b[0m \u001b[0;34m-\u001b[0m\u001b[0;36m1\u001b[0m\u001b[0;34m)\u001b[0m\u001b[0;34m)\u001b[0m\u001b[0;34m\u001b[0m\u001b[0;34m\u001b[0m\u001b[0m\n\u001b[1;32m    422\u001b[0m             )\n\u001b[0;32m--> 423\u001b[0;31m             \u001b[0mmttkrp\u001b[0m \u001b[0;34m=\u001b[0m \u001b[0munfolding_dot_khatri_rao\u001b[0m\u001b[0;34m(\u001b[0m\u001b[0mtensor\u001b[0m\u001b[0;34m,\u001b[0m \u001b[0;34m(\u001b[0m\u001b[0mweights\u001b[0m\u001b[0;34m,\u001b[0m \u001b[0mfactors\u001b[0m\u001b[0;34m)\u001b[0m\u001b[0;34m,\u001b[0m \u001b[0mmode\u001b[0m\u001b[0;34m)\u001b[0m\u001b[0;34m\u001b[0m\u001b[0;34m\u001b[0m\u001b[0m\n\u001b[0m\u001b[1;32m    424\u001b[0m \u001b[0;34m\u001b[0m\u001b[0m\n\u001b[1;32m    425\u001b[0m             factor = tl.transpose(\n",
            "\u001b[0;32m/usr/local/lib/python3.11/dist-packages/tensorly/backend/__init__.py\u001b[0m in \u001b[0;36mwrapped_backend_method\u001b[0;34m(*args, **kwargs)\u001b[0m\n\u001b[1;32m    200\u001b[0m \u001b[0;34m\u001b[0m\u001b[0m\n\u001b[1;32m    201\u001b[0m             Returns the queried method from the currently set backend\"\"\"\n\u001b[0;32m--> 202\u001b[0;31m             return getattr(\n\u001b[0m\u001b[1;32m    203\u001b[0m                 \u001b[0mcls\u001b[0m\u001b[0;34m.\u001b[0m\u001b[0m_THREAD_LOCAL_DATA\u001b[0m\u001b[0;34m.\u001b[0m\u001b[0m__dict__\u001b[0m\u001b[0;34m.\u001b[0m\u001b[0mget\u001b[0m\u001b[0;34m(\u001b[0m\u001b[0;34m\"backend\"\u001b[0m\u001b[0;34m,\u001b[0m \u001b[0mcls\u001b[0m\u001b[0;34m.\u001b[0m\u001b[0m_backend\u001b[0m\u001b[0;34m)\u001b[0m\u001b[0;34m,\u001b[0m \u001b[0mname\u001b[0m\u001b[0;34m\u001b[0m\u001b[0;34m\u001b[0m\u001b[0m\n\u001b[1;32m    204\u001b[0m             )(*args, **kwargs)\n",
            "\u001b[0;32m/usr/local/lib/python3.11/dist-packages/tensorly/tenalg/core_tenalg/mttkrp.py\u001b[0m in \u001b[0;36munfolding_dot_khatri_rao\u001b[0;34m(tensor, cp_tensor, mode)\u001b[0m\n\u001b[1;32m     47\u001b[0m     \u001b[0mweights\u001b[0m\u001b[0;34m,\u001b[0m \u001b[0mfactors\u001b[0m \u001b[0;34m=\u001b[0m \u001b[0mcp_tensor\u001b[0m\u001b[0;34m\u001b[0m\u001b[0;34m\u001b[0m\u001b[0m\n\u001b[1;32m     48\u001b[0m     \u001b[0mkr_factors\u001b[0m \u001b[0;34m=\u001b[0m \u001b[0mkhatri_rao\u001b[0m\u001b[0;34m(\u001b[0m\u001b[0mfactors\u001b[0m\u001b[0;34m,\u001b[0m \u001b[0mweights\u001b[0m\u001b[0;34m=\u001b[0m\u001b[0mweights\u001b[0m\u001b[0;34m,\u001b[0m \u001b[0mskip_matrix\u001b[0m\u001b[0;34m=\u001b[0m\u001b[0mmode\u001b[0m\u001b[0;34m)\u001b[0m\u001b[0;34m\u001b[0m\u001b[0;34m\u001b[0m\u001b[0m\n\u001b[0;32m---> 49\u001b[0;31m     \u001b[0mmttkrp\u001b[0m \u001b[0;34m=\u001b[0m \u001b[0mT\u001b[0m\u001b[0;34m.\u001b[0m\u001b[0mdot\u001b[0m\u001b[0;34m(\u001b[0m\u001b[0munfold\u001b[0m\u001b[0;34m(\u001b[0m\u001b[0mtensor\u001b[0m\u001b[0;34m,\u001b[0m \u001b[0mmode\u001b[0m\u001b[0;34m)\u001b[0m\u001b[0;34m,\u001b[0m \u001b[0mT\u001b[0m\u001b[0;34m.\u001b[0m\u001b[0mconj\u001b[0m\u001b[0;34m(\u001b[0m\u001b[0mkr_factors\u001b[0m\u001b[0;34m)\u001b[0m\u001b[0;34m)\u001b[0m\u001b[0;34m\u001b[0m\u001b[0;34m\u001b[0m\u001b[0m\n\u001b[0m\u001b[1;32m     50\u001b[0m     \u001b[0;32mreturn\u001b[0m \u001b[0mmttkrp\u001b[0m\u001b[0;34m\u001b[0m\u001b[0;34m\u001b[0m\u001b[0m\n\u001b[1;32m     51\u001b[0m \u001b[0;34m\u001b[0m\u001b[0m\n",
            "\u001b[0;32m/usr/local/lib/python3.11/dist-packages/tensorly/backend/__init__.py\u001b[0m in \u001b[0;36mwrapped_backend_method\u001b[0;34m(*args, **kwargs)\u001b[0m\n\u001b[1;32m    200\u001b[0m \u001b[0;34m\u001b[0m\u001b[0m\n\u001b[1;32m    201\u001b[0m             Returns the queried method from the currently set backend\"\"\"\n\u001b[0;32m--> 202\u001b[0;31m             return getattr(\n\u001b[0m\u001b[1;32m    203\u001b[0m                 \u001b[0mcls\u001b[0m\u001b[0;34m.\u001b[0m\u001b[0m_THREAD_LOCAL_DATA\u001b[0m\u001b[0;34m.\u001b[0m\u001b[0m__dict__\u001b[0m\u001b[0;34m.\u001b[0m\u001b[0mget\u001b[0m\u001b[0;34m(\u001b[0m\u001b[0;34m\"backend\"\u001b[0m\u001b[0;34m,\u001b[0m \u001b[0mcls\u001b[0m\u001b[0;34m.\u001b[0m\u001b[0m_backend\u001b[0m\u001b[0;34m)\u001b[0m\u001b[0;34m,\u001b[0m \u001b[0mname\u001b[0m\u001b[0;34m\u001b[0m\u001b[0;34m\u001b[0m\u001b[0m\n\u001b[1;32m    204\u001b[0m             )(*args, **kwargs)\n",
            "\u001b[0;31mKeyboardInterrupt\u001b[0m: "
          ]
        }
      ]
    },
    {
      "cell_type": "code",
      "source": [
        "errors"
      ],
      "metadata": {
        "colab": {
          "base_uri": "https://localhost:8080/"
        },
        "id": "HfITuPrUyvlw",
        "outputId": "3c4edafa-c81b-4ec9-aa78-00ccd3da15d5"
      },
      "id": "HfITuPrUyvlw",
      "execution_count": null,
      "outputs": [
        {
          "output_type": "execute_result",
          "data": {
            "text/plain": [
              "[np.float64(0.5342919746635175),\n",
              " np.float64(0.21677619245882032),\n",
              " np.float64(0.2001344912712151),\n",
              " np.float64(0.182326267188525),\n",
              " np.float64(0.16867617862997933),\n",
              " np.float64(0.15488853897153373),\n",
              " np.float64(0.1412789222665309),\n",
              " np.float64(0.12722187190861092),\n",
              " np.float64(0.11352144074766543),\n",
              " np.float64(0.0994489408427728),\n",
              " np.float64(0.08544837494223002),\n",
              " np.float64(0.0785910558115986),\n",
              " np.float64(0.07240275576304284),\n",
              " np.float64(0.06588972639266345),\n",
              " np.float64(0.058967313056050574),\n",
              " np.float64(0.05149742190931927),\n",
              " np.float64(0.04485191442277998),\n",
              " np.float64(0.0417356517081249),\n",
              " np.float64(0.03872149288841718),\n",
              " np.float64(0.03631611724128039),\n",
              " np.float64(0.03419953542792261),\n",
              " np.float64(0.032304700016671586),\n",
              " np.float64(0.03034823457954339),\n",
              " np.float64(0.02854964089289282),\n",
              " np.float64(0.026775869807890425),\n",
              " np.float64(0.025057520655923725),\n",
              " np.float64(0.02334326705524162),\n",
              " np.float64(0.021606908309725423),\n",
              " np.float64(0.02006407944451555),\n",
              " np.float64(0.01888655729721705),\n",
              " np.float64(0.01771744498978423),\n",
              " np.float64(0.016764387468839154),\n",
              " np.float64(0.015959772295555674),\n",
              " np.float64(0.015216051985375288),\n",
              " np.float64(0.014497853844691728),\n",
              " np.float64(0.013724827009564877),\n",
              " np.float64(0.012989200377094931),\n",
              " np.float64(0.01220192249984881),\n",
              " np.float64(0.011487977145748866),\n",
              " np.float64(0.010795548805601754),\n",
              " np.float64(0.010259198100956607),\n",
              " np.float64(0.009747346802064686),\n",
              " np.float64(0.009330706077172062),\n",
              " np.float64(0.00890984121037259),\n",
              " np.float64(0.008540495284863826),\n",
              " np.float64(0.008239607813897678),\n",
              " np.float64(0.00795339302379571),\n",
              " np.float64(0.007663697157996294),\n",
              " np.float64(0.0073616949946875825)]"
            ]
          },
          "metadata": {},
          "execution_count": 51
        }
      ]
    },
    {
      "cell_type": "markdown",
      "id": "SFz8wOAyJXqf",
      "metadata": {
        "id": "SFz8wOAyJXqf"
      },
      "source": [
        "**Construction of the Flow based tensor**"
      ]
    },
    {
      "cell_type": "code",
      "execution_count": 6,
      "id": "mBSX-aIjWs6t",
      "metadata": {
        "id": "mBSX-aIjWs6t"
      },
      "outputs": [],
      "source": [
        "#Tensor construction for flowbased_features\n",
        "df1=pd.read_csv('/content/drive/MyDrive/Colab Notebooks/Datasets_iot/Benign_flowbased/BenignTraffic.pcap_Flow.csv') #skip bad lines\n",
        "df2=pd.read_csv('/content/drive/MyDrive/Colab Notebooks/Datasets_iot/Benign_flowbased/BenignTraffic1.pcap_Flow.csv') #skip bad lines\n",
        "df3=pd.read_csv('/content/drive/MyDrive/Colab Notebooks/Datasets_iot/Benign_flowbased/BenignTraffic2.pcap_Flow.csv')\n",
        "df4=pd.read_csv('/content/drive/MyDrive/Colab Notebooks/Datasets_iot/Benign_flowbased/BenignTraffic3.pcap_Flow.csv')\n",
        "df5=pd.read_csv('/content/drive/MyDrive/Colab Notebooks/Datasets_iot/Anomalies_fbased/DDoS-HTTP_Flood-.pcap_Flow.csv')\n",
        "df6=pd.read_csv('/content/drive/MyDrive/Colab Notebooks/Datasets_iot/Anomalies_fbased/DoS-HTTP_Flood.pcap_Flow.csv') #skip bad lines\n",
        " #skip bad lines"
      ]
    },
    {
      "cell_type": "code",
      "source": [
        "df1['Timestamp']=pd.to_datetime(df1['Timestamp'])\n",
        "df2['Timestamp']=pd.to_datetime(df2['Timestamp'])\n",
        "df3['Timestamp']=pd.to_datetime(df3['Timestamp'])\n",
        "df4['Timestamp']=pd.to_datetime(df4['Timestamp'])\n",
        "df5['Timestamp']=pd.to_datetime(df5['Timestamp'])\n",
        "df6['Timestamp']=pd.to_datetime(df6['Timestamp'])"
      ],
      "metadata": {
        "colab": {
          "base_uri": "https://localhost:8080/"
        },
        "id": "NhyQUqaQbAch",
        "outputId": "1e471ac1-6a29-442c-9c4e-95a3cd19e640"
      },
      "id": "NhyQUqaQbAch",
      "execution_count": 7,
      "outputs": [
        {
          "output_type": "stream",
          "name": "stderr",
          "text": [
            "<ipython-input-7-784bfd6b29cb>:1: UserWarning: Could not infer format, so each element will be parsed individually, falling back to `dateutil`. To ensure parsing is consistent and as-expected, please specify a format.\n",
            "  df1['Timestamp']=pd.to_datetime(df1['Timestamp'])\n",
            "<ipython-input-7-784bfd6b29cb>:2: UserWarning: Could not infer format, so each element will be parsed individually, falling back to `dateutil`. To ensure parsing is consistent and as-expected, please specify a format.\n",
            "  df2['Timestamp']=pd.to_datetime(df2['Timestamp'])\n",
            "<ipython-input-7-784bfd6b29cb>:4: UserWarning: Could not infer format, so each element will be parsed individually, falling back to `dateutil`. To ensure parsing is consistent and as-expected, please specify a format.\n",
            "  df4['Timestamp']=pd.to_datetime(df4['Timestamp'])\n",
            "<ipython-input-7-784bfd6b29cb>:5: UserWarning: Parsing dates in %d/%m/%Y %I:%M:%S %p format when dayfirst=False (the default) was specified. Pass `dayfirst=True` or specify a format to silence this warning.\n",
            "  df5['Timestamp']=pd.to_datetime(df5['Timestamp'])\n",
            "<ipython-input-7-784bfd6b29cb>:6: UserWarning: Could not infer format, so each element will be parsed individually, falling back to `dateutil`. To ensure parsing is consistent and as-expected, please specify a format.\n",
            "  df6['Timestamp']=pd.to_datetime(df6['Timestamp'])\n"
          ]
        }
      ]
    },
    {
      "cell_type": "code",
      "source": [
        "df1['Jour']=df1['Timestamp'].dt.date\n",
        "df2['Jour']=df2['Timestamp'].dt.date\n",
        "df3['Jour']=df3['Timestamp'].dt.date\n",
        "df4['Jour']=df4['Timestamp'].dt.date\n",
        "df5['Jour']=df5['Timestamp'].dt.date\n",
        "df6['Jour']=df6['Timestamp'].dt.date"
      ],
      "metadata": {
        "id": "Kx5r67KTbf7Q"
      },
      "id": "Kx5r67KTbf7Q",
      "execution_count": 8,
      "outputs": []
    },
    {
      "cell_type": "code",
      "source": [
        "df1['Jour']=pd.to_datetime(df1['Jour'])\n",
        "df2['Jour']=pd.to_datetime(df2['Jour'])\n",
        "df3['Jour']=pd.to_datetime(df3['Jour'])\n",
        "df4['Jour']=pd.to_datetime(df4['Jour'])\n",
        "df5['Jour']=pd.to_datetime(df5['Jour'])\n",
        "df6['Jour']=pd.to_datetime(df6['Jour'])"
      ],
      "metadata": {
        "id": "yhkpwhnneHy4"
      },
      "id": "yhkpwhnneHy4",
      "execution_count": 9,
      "outputs": []
    },
    {
      "cell_type": "code",
      "source": [
        "# Création d'un sous-dataset pour le jour 2022-07-10 à partir de df1 et df2\n",
        "df_ben_day_1 = pd.concat([\n",
        "    df1[df1['Jour'] == '2022-07-10'],\n",
        "    df2[df2['Jour'] == '2022-07-10']\n",
        "], axis=0)\n",
        "\n",
        "# Création d'un sous-dataset pour le jour 2022-08-10 à partir de df2, df3 et df4\n",
        "df_ben_day_2 = pd.concat([\n",
        "    df2[df2['Jour'] == '2022-08-10'],\n",
        "    df3[df3['Jour'] == '2022-08-10'],\n",
        "    df4[df4['Jour'] == '2022-08-10']\n",
        "], axis=0)\n",
        "df5_day_1 = df5[df5['Jour'] == '2022-09-14']\n",
        "df5_day_2 = df5[df5['Jour'] == '2022-11-07']\n",
        "df6_day_1 = df6[df6['Jour'] == '2022-08-08']\n",
        "df6_day_2 = df6[df6['Jour'] == '2022-09-08']"
      ],
      "metadata": {
        "id": "juDbYS5Wbpik"
      },
      "id": "juDbYS5Wbpik",
      "execution_count": 10,
      "outputs": []
    },
    {
      "cell_type": "code",
      "source": [
        "df_ben_day_1.drop_duplicates(inplace=True)\n",
        "df_ben_day_2.drop_duplicates(inplace=True)\n",
        "df5_day_1.drop_duplicates(inplace=True)\n",
        "df5_day_2.drop_duplicates(inplace=True)\n",
        "df6_day_1.drop_duplicates(inplace=True)\n",
        "df6_day_2.drop_duplicates(inplace=True)"
      ],
      "metadata": {
        "id": "wJI2gntecaVv",
        "colab": {
          "base_uri": "https://localhost:8080/"
        },
        "outputId": "a015e7d1-732c-4173-e7d9-158ea06d791f"
      },
      "id": "wJI2gntecaVv",
      "execution_count": 11,
      "outputs": [
        {
          "output_type": "stream",
          "name": "stderr",
          "text": [
            "<ipython-input-11-ba655dd153ea>:3: SettingWithCopyWarning: \n",
            "A value is trying to be set on a copy of a slice from a DataFrame\n",
            "\n",
            "See the caveats in the documentation: https://pandas.pydata.org/pandas-docs/stable/user_guide/indexing.html#returning-a-view-versus-a-copy\n",
            "  df5_day_1.drop_duplicates(inplace=True)\n",
            "<ipython-input-11-ba655dd153ea>:4: SettingWithCopyWarning: \n",
            "A value is trying to be set on a copy of a slice from a DataFrame\n",
            "\n",
            "See the caveats in the documentation: https://pandas.pydata.org/pandas-docs/stable/user_guide/indexing.html#returning-a-view-versus-a-copy\n",
            "  df5_day_2.drop_duplicates(inplace=True)\n",
            "<ipython-input-11-ba655dd153ea>:5: SettingWithCopyWarning: \n",
            "A value is trying to be set on a copy of a slice from a DataFrame\n",
            "\n",
            "See the caveats in the documentation: https://pandas.pydata.org/pandas-docs/stable/user_guide/indexing.html#returning-a-view-versus-a-copy\n",
            "  df6_day_1.drop_duplicates(inplace=True)\n",
            "<ipython-input-11-ba655dd153ea>:6: SettingWithCopyWarning: \n",
            "A value is trying to be set on a copy of a slice from a DataFrame\n",
            "\n",
            "See the caveats in the documentation: https://pandas.pydata.org/pandas-docs/stable/user_guide/indexing.html#returning-a-view-versus-a-copy\n",
            "  df6_day_2.drop_duplicates(inplace=True)\n"
          ]
        }
      ]
    },
    {
      "cell_type": "code",
      "source": [
        "df_ben_day_1.dropna(inplace=True)\n",
        "df_ben_day_2.dropna(inplace=True)\n",
        "df5_day_1.dropna(inplace=True)\n",
        "df5_day_2.dropna(inplace=True)\n",
        "df6_day_1.dropna(inplace=True)\n",
        "df6_day_2.dropna(inplace=True)"
      ],
      "metadata": {
        "colab": {
          "base_uri": "https://localhost:8080/"
        },
        "id": "leHTQHARieec",
        "outputId": "0c544e7f-90aa-4567-99fa-990387f86eaf"
      },
      "id": "leHTQHARieec",
      "execution_count": 12,
      "outputs": [
        {
          "output_type": "stream",
          "name": "stderr",
          "text": [
            "<ipython-input-12-8bffad585a43>:3: SettingWithCopyWarning: \n",
            "A value is trying to be set on a copy of a slice from a DataFrame\n",
            "\n",
            "See the caveats in the documentation: https://pandas.pydata.org/pandas-docs/stable/user_guide/indexing.html#returning-a-view-versus-a-copy\n",
            "  df5_day_1.dropna(inplace=True)\n",
            "<ipython-input-12-8bffad585a43>:4: SettingWithCopyWarning: \n",
            "A value is trying to be set on a copy of a slice from a DataFrame\n",
            "\n",
            "See the caveats in the documentation: https://pandas.pydata.org/pandas-docs/stable/user_guide/indexing.html#returning-a-view-versus-a-copy\n",
            "  df5_day_2.dropna(inplace=True)\n",
            "<ipython-input-12-8bffad585a43>:5: SettingWithCopyWarning: \n",
            "A value is trying to be set on a copy of a slice from a DataFrame\n",
            "\n",
            "See the caveats in the documentation: https://pandas.pydata.org/pandas-docs/stable/user_guide/indexing.html#returning-a-view-versus-a-copy\n",
            "  df6_day_1.dropna(inplace=True)\n",
            "<ipython-input-12-8bffad585a43>:6: SettingWithCopyWarning: \n",
            "A value is trying to be set on a copy of a slice from a DataFrame\n",
            "\n",
            "See the caveats in the documentation: https://pandas.pydata.org/pandas-docs/stable/user_guide/indexing.html#returning-a-view-versus-a-copy\n",
            "  df6_day_2.dropna(inplace=True)\n"
          ]
        }
      ]
    },
    {
      "cell_type": "code",
      "source": [
        "df_ben_day_1['Heure']=df_ben_day_1['Timestamp'].dt.strftime('%H:%M:%S')\n",
        "df_ben_day_2['Heure']=df_ben_day_2['Timestamp'].dt.strftime('%H:%M:%S')\n",
        "df5_day_1['Heure']=df5_day_1['Timestamp'].dt.strftime('%H:%M:%S')\n",
        "df5_day_2['Heure']=df5_day_2['Timestamp'].dt.strftime('%H:%M:%S')\n",
        "df6_day_1['Heure']=df6_day_1['Timestamp'].dt.strftime('%H:%M:%S')\n",
        "df6_day_2['Heure']=df6_day_2['Timestamp'].dt.strftime('%H:%M:%S')"
      ],
      "metadata": {
        "colab": {
          "base_uri": "https://localhost:8080/"
        },
        "id": "3VLbDmGuh4xg",
        "outputId": "9abad6e8-6c54-4db4-aa9f-8a09bada29d8"
      },
      "id": "3VLbDmGuh4xg",
      "execution_count": 13,
      "outputs": [
        {
          "output_type": "stream",
          "name": "stderr",
          "text": [
            "<ipython-input-13-eeef53b692c3>:3: SettingWithCopyWarning: \n",
            "A value is trying to be set on a copy of a slice from a DataFrame.\n",
            "Try using .loc[row_indexer,col_indexer] = value instead\n",
            "\n",
            "See the caveats in the documentation: https://pandas.pydata.org/pandas-docs/stable/user_guide/indexing.html#returning-a-view-versus-a-copy\n",
            "  df5_day_1['Heure']=df5_day_1['Timestamp'].dt.strftime('%H:%M:%S')\n",
            "<ipython-input-13-eeef53b692c3>:4: SettingWithCopyWarning: \n",
            "A value is trying to be set on a copy of a slice from a DataFrame.\n",
            "Try using .loc[row_indexer,col_indexer] = value instead\n",
            "\n",
            "See the caveats in the documentation: https://pandas.pydata.org/pandas-docs/stable/user_guide/indexing.html#returning-a-view-versus-a-copy\n",
            "  df5_day_2['Heure']=df5_day_2['Timestamp'].dt.strftime('%H:%M:%S')\n",
            "<ipython-input-13-eeef53b692c3>:5: SettingWithCopyWarning: \n",
            "A value is trying to be set on a copy of a slice from a DataFrame.\n",
            "Try using .loc[row_indexer,col_indexer] = value instead\n",
            "\n",
            "See the caveats in the documentation: https://pandas.pydata.org/pandas-docs/stable/user_guide/indexing.html#returning-a-view-versus-a-copy\n",
            "  df6_day_1['Heure']=df6_day_1['Timestamp'].dt.strftime('%H:%M:%S')\n",
            "<ipython-input-13-eeef53b692c3>:6: SettingWithCopyWarning: \n",
            "A value is trying to be set on a copy of a slice from a DataFrame.\n",
            "Try using .loc[row_indexer,col_indexer] = value instead\n",
            "\n",
            "See the caveats in the documentation: https://pandas.pydata.org/pandas-docs/stable/user_guide/indexing.html#returning-a-view-versus-a-copy\n",
            "  df6_day_2['Heure']=df6_day_2['Timestamp'].dt.strftime('%H:%M:%S')\n"
          ]
        }
      ]
    },
    {
      "cell_type": "code",
      "source": [
        "df_ben_day_1['Heure']=pd.to_datetime(df_ben_day_1['Heure'])\n",
        "df_ben_day_2['Heure']=pd.to_datetime(df_ben_day_2['Heure'])\n",
        "df5_day_1['Heure']=pd.to_datetime(df5_day_1['Heure'])\n",
        "df5_day_2['Heure']=pd.to_datetime(df5_day_2['Heure'])\n",
        "df6_day_1['Heure']=pd.to_datetime(df6_day_1['Heure'])\n",
        "df6_day_2['Heure']=pd.to_datetime(df6_day_2['Heure'])"
      ],
      "metadata": {
        "colab": {
          "base_uri": "https://localhost:8080/"
        },
        "id": "AgFTXLxciHVa",
        "outputId": "9151ef1b-4cb5-4956-eb1f-fdc29737967a"
      },
      "id": "AgFTXLxciHVa",
      "execution_count": 14,
      "outputs": [
        {
          "output_type": "stream",
          "name": "stderr",
          "text": [
            "<ipython-input-14-fa2eb6340e39>:1: UserWarning: Could not infer format, so each element will be parsed individually, falling back to `dateutil`. To ensure parsing is consistent and as-expected, please specify a format.\n",
            "  df_ben_day_1['Heure']=pd.to_datetime(df_ben_day_1['Heure'])\n",
            "<ipython-input-14-fa2eb6340e39>:2: UserWarning: Could not infer format, so each element will be parsed individually, falling back to `dateutil`. To ensure parsing is consistent and as-expected, please specify a format.\n",
            "  df_ben_day_2['Heure']=pd.to_datetime(df_ben_day_2['Heure'])\n",
            "<ipython-input-14-fa2eb6340e39>:3: UserWarning: Could not infer format, so each element will be parsed individually, falling back to `dateutil`. To ensure parsing is consistent and as-expected, please specify a format.\n",
            "  df5_day_1['Heure']=pd.to_datetime(df5_day_1['Heure'])\n",
            "<ipython-input-14-fa2eb6340e39>:3: SettingWithCopyWarning: \n",
            "A value is trying to be set on a copy of a slice from a DataFrame.\n",
            "Try using .loc[row_indexer,col_indexer] = value instead\n",
            "\n",
            "See the caveats in the documentation: https://pandas.pydata.org/pandas-docs/stable/user_guide/indexing.html#returning-a-view-versus-a-copy\n",
            "  df5_day_1['Heure']=pd.to_datetime(df5_day_1['Heure'])\n",
            "<ipython-input-14-fa2eb6340e39>:4: UserWarning: Could not infer format, so each element will be parsed individually, falling back to `dateutil`. To ensure parsing is consistent and as-expected, please specify a format.\n",
            "  df5_day_2['Heure']=pd.to_datetime(df5_day_2['Heure'])\n",
            "<ipython-input-14-fa2eb6340e39>:4: SettingWithCopyWarning: \n",
            "A value is trying to be set on a copy of a slice from a DataFrame.\n",
            "Try using .loc[row_indexer,col_indexer] = value instead\n",
            "\n",
            "See the caveats in the documentation: https://pandas.pydata.org/pandas-docs/stable/user_guide/indexing.html#returning-a-view-versus-a-copy\n",
            "  df5_day_2['Heure']=pd.to_datetime(df5_day_2['Heure'])\n",
            "<ipython-input-14-fa2eb6340e39>:5: UserWarning: Could not infer format, so each element will be parsed individually, falling back to `dateutil`. To ensure parsing is consistent and as-expected, please specify a format.\n",
            "  df6_day_1['Heure']=pd.to_datetime(df6_day_1['Heure'])\n",
            "<ipython-input-14-fa2eb6340e39>:5: SettingWithCopyWarning: \n",
            "A value is trying to be set on a copy of a slice from a DataFrame.\n",
            "Try using .loc[row_indexer,col_indexer] = value instead\n",
            "\n",
            "See the caveats in the documentation: https://pandas.pydata.org/pandas-docs/stable/user_guide/indexing.html#returning-a-view-versus-a-copy\n",
            "  df6_day_1['Heure']=pd.to_datetime(df6_day_1['Heure'])\n",
            "<ipython-input-14-fa2eb6340e39>:6: UserWarning: Could not infer format, so each element will be parsed individually, falling back to `dateutil`. To ensure parsing is consistent and as-expected, please specify a format.\n",
            "  df6_day_2['Heure']=pd.to_datetime(df6_day_2['Heure'])\n",
            "<ipython-input-14-fa2eb6340e39>:6: SettingWithCopyWarning: \n",
            "A value is trying to be set on a copy of a slice from a DataFrame.\n",
            "Try using .loc[row_indexer,col_indexer] = value instead\n",
            "\n",
            "See the caveats in the documentation: https://pandas.pydata.org/pandas-docs/stable/user_guide/indexing.html#returning-a-view-versus-a-copy\n",
            "  df6_day_2['Heure']=pd.to_datetime(df6_day_2['Heure'])\n"
          ]
        }
      ]
    },
    {
      "cell_type": "code",
      "source": [
        "df_ben_day_1['relative_time']=df_ben_day_1['Heure']-df_ben_day_1['Heure'].min()\n",
        "df_ben_day_2['relative_time']=df_ben_day_2['Heure']-df_ben_day_2['Heure'].min()\n",
        "df5_day_1['relative_time']=df5_day_1['Heure']-df5_day_1['Heure'].min()\n",
        "df5_day_2['relative_time']=df5_day_2['Heure']-df5_day_2['Heure'].min()\n",
        "df6_day_1['relative_time']=df6_day_1['Heure']-df6_day_1['Heure'].min()\n",
        "df6_day_2['relative_time']=df6_day_2['Heure']-df6_day_2['Heure'].min()"
      ],
      "metadata": {
        "colab": {
          "base_uri": "https://localhost:8080/"
        },
        "id": "Q1XNKE9HiOaO",
        "outputId": "5a891ce9-8ad6-4afe-e6c0-36a9d66428fa"
      },
      "id": "Q1XNKE9HiOaO",
      "execution_count": 15,
      "outputs": [
        {
          "output_type": "stream",
          "name": "stderr",
          "text": [
            "<ipython-input-15-8e1a43985e18>:3: SettingWithCopyWarning: \n",
            "A value is trying to be set on a copy of a slice from a DataFrame.\n",
            "Try using .loc[row_indexer,col_indexer] = value instead\n",
            "\n",
            "See the caveats in the documentation: https://pandas.pydata.org/pandas-docs/stable/user_guide/indexing.html#returning-a-view-versus-a-copy\n",
            "  df5_day_1['relative_time']=df5_day_1['Heure']-df5_day_1['Heure'].min()\n",
            "<ipython-input-15-8e1a43985e18>:4: SettingWithCopyWarning: \n",
            "A value is trying to be set on a copy of a slice from a DataFrame.\n",
            "Try using .loc[row_indexer,col_indexer] = value instead\n",
            "\n",
            "See the caveats in the documentation: https://pandas.pydata.org/pandas-docs/stable/user_guide/indexing.html#returning-a-view-versus-a-copy\n",
            "  df5_day_2['relative_time']=df5_day_2['Heure']-df5_day_2['Heure'].min()\n",
            "<ipython-input-15-8e1a43985e18>:5: SettingWithCopyWarning: \n",
            "A value is trying to be set on a copy of a slice from a DataFrame.\n",
            "Try using .loc[row_indexer,col_indexer] = value instead\n",
            "\n",
            "See the caveats in the documentation: https://pandas.pydata.org/pandas-docs/stable/user_guide/indexing.html#returning-a-view-versus-a-copy\n",
            "  df6_day_1['relative_time']=df6_day_1['Heure']-df6_day_1['Heure'].min()\n",
            "<ipython-input-15-8e1a43985e18>:6: SettingWithCopyWarning: \n",
            "A value is trying to be set on a copy of a slice from a DataFrame.\n",
            "Try using .loc[row_indexer,col_indexer] = value instead\n",
            "\n",
            "See the caveats in the documentation: https://pandas.pydata.org/pandas-docs/stable/user_guide/indexing.html#returning-a-view-versus-a-copy\n",
            "  df6_day_2['relative_time']=df6_day_2['Heure']-df6_day_2['Heure'].min()\n"
          ]
        }
      ]
    },
    {
      "cell_type": "markdown",
      "source": [
        "Some filtrations to reduce the data size"
      ],
      "metadata": {
        "id": "8oZw6GihiqRB"
      },
      "id": "8oZw6GihiqRB"
    },
    {
      "cell_type": "code",
      "source": [
        "#Keep just IP addresses which appears before 16h\n",
        "\n",
        "mask_13h = (df_ben_day_2['Timestamp'].dt.hour <16 )\n",
        "df_13h = df_ben_day_2[mask_13h]\n",
        "df_autres = df_ben_day_2[~mask_13h]\n",
        "\n",
        "\n",
        "dst_ip_13h_uniques = set(df_13h['Dst IP']) - set(df_autres['Dst IP'])\n",
        "\n",
        "\n",
        "df_resultat = df_13h[df_13h['Dst IP'].isin(dst_ip_13h_uniques)]\n"
      ],
      "metadata": {
        "id": "Jz_NkdMeu_QY"
      },
      "id": "Jz_NkdMeu_QY",
      "execution_count": null,
      "outputs": []
    },
    {
      "cell_type": "code",
      "source": [
        "df_ben_day_2.dropna(inplace=True)\n",
        "df6_day_1.dropna(inplace=True)\n",
        "df5_day_1.dropna(inplace=True)"
      ],
      "metadata": {
        "colab": {
          "base_uri": "https://localhost:8080/"
        },
        "id": "FqCGy_2tpnYP",
        "outputId": "2d82b651-8725-42ab-986e-eea937ee618e"
      },
      "id": "FqCGy_2tpnYP",
      "execution_count": 16,
      "outputs": [
        {
          "output_type": "stream",
          "name": "stderr",
          "text": [
            "<ipython-input-16-9a46ba7a70d3>:2: SettingWithCopyWarning: \n",
            "A value is trying to be set on a copy of a slice from a DataFrame\n",
            "\n",
            "See the caveats in the documentation: https://pandas.pydata.org/pandas-docs/stable/user_guide/indexing.html#returning-a-view-versus-a-copy\n",
            "  df6_day_1.dropna(inplace=True)\n",
            "<ipython-input-16-9a46ba7a70d3>:3: SettingWithCopyWarning: \n",
            "A value is trying to be set on a copy of a slice from a DataFrame\n",
            "\n",
            "See the caveats in the documentation: https://pandas.pydata.org/pandas-docs/stable/user_guide/indexing.html#returning-a-view-versus-a-copy\n",
            "  df5_day_1.dropna(inplace=True)\n"
          ]
        }
      ]
    },
    {
      "cell_type": "code",
      "source": [
        "ip_to_reduce = '192.168.137.131'\n",
        "reduction_fraction = 0.09  # Garder 25% des apparitions\n",
        "\n",
        "# Trouver les index où l'adresse IP apparaît\n",
        "indexes_dst = df6_day_1[df6_day_1['Dst IP'] == ip_to_reduce].index\n",
        "\n",
        "# Calculer combien d'éléments on veut garder\n",
        "n_to_keep = int(len(indexes_dst) * reduction_fraction)\n",
        "\n",
        "# Sélectionner aléatoirement les index à garder\n",
        "indexes_to_keep = np.random.choice(indexes_dst, size=n_to_keep, replace=False)\n",
        "\n",
        "# Créer un masque pour tout garder sauf les lignes à supprimer\n",
        "mask = ~df6_day_1.index.isin(indexes_dst) | df6_day_1.index.isin(indexes_to_keep)\n",
        "\n",
        "# Appliquer le filtre\n",
        "df6_day_1_reduced = df6_day_1[mask].reset_index(drop=True)\n",
        "\n",
        "print(f\"Ancien nombre de lignes : {len(df6_day_1)}\")\n",
        "print(f\"Nouveau nombre de lignes : {len(df6_day_1_reduced)}\")\n"
      ],
      "metadata": {
        "colab": {
          "base_uri": "https://localhost:8080/"
        },
        "id": "fqrfYUYe7hCm",
        "outputId": "263beee5-bea3-4406-fba1-e20b47c65b5a"
      },
      "id": "fqrfYUYe7hCm",
      "execution_count": null,
      "outputs": [
        {
          "output_type": "stream",
          "name": "stdout",
          "text": [
            "Ancien nombre de lignes : 860685\n",
            "Nouveau nombre de lignes : 822232\n"
          ]
        }
      ]
    },
    {
      "cell_type": "code",
      "source": [
        "L_5_1=['192.168.137.41', '157.249.81.141', '109.95.152.166','192.168.137.4','192.168.137.89'\n",
        "       ]\n",
        "L_6_1=['192.168.137.131',\n",
        "'108.138.125.109',\n",
        "'54.91.82.76',\n",
        "'3.136.72.65',\n",
        "'52.92.210.242'\n",
        "       ]"
      ],
      "metadata": {
        "id": "vLFJrMQz_HGR"
      },
      "id": "vLFJrMQz_HGR",
      "execution_count": null,
      "outputs": []
    },
    {
      "cell_type": "code",
      "source": [
        "data=pd.concat([df_resultat,df5_day_1[df5_day_1['Dst IP'].isin(L_5_1)],df6_day_1_reduced[df6_day_1_reduced['Dst IP'].isin(L_6_1)]],axis=0)"
      ],
      "metadata": {
        "id": "ijiW9wC500QF"
      },
      "id": "ijiW9wC500QF",
      "execution_count": null,
      "outputs": []
    },
    {
      "cell_type": "code",
      "source": [
        "data.shape"
      ],
      "metadata": {
        "colab": {
          "base_uri": "https://localhost:8080/"
        },
        "id": "LzD8YIBktXo5",
        "outputId": "f665a590-e797-46d4-93d1-e9e432eda125"
      },
      "id": "LzD8YIBktXo5",
      "execution_count": null,
      "outputs": [
        {
          "output_type": "execute_result",
          "data": {
            "text/plain": [
              "(21086, 87)"
            ]
          },
          "metadata": {},
          "execution_count": 353
        }
      ]
    },
    {
      "cell_type": "code",
      "source": [
        "data.drop_duplicates(inplace=True)"
      ],
      "metadata": {
        "id": "SD2okbFQ_vaq"
      },
      "id": "SD2okbFQ_vaq",
      "execution_count": null,
      "outputs": []
    },
    {
      "cell_type": "code",
      "source": [
        "data.dropna(inplace=True)"
      ],
      "metadata": {
        "id": "zYzoc4SSiCYd"
      },
      "id": "zYzoc4SSiCYd",
      "execution_count": null,
      "outputs": []
    },
    {
      "cell_type": "code",
      "source": [
        "data['Src IP'].nunique()"
      ],
      "metadata": {
        "colab": {
          "base_uri": "https://localhost:8080/"
        },
        "id": "XzMaUTnWwjpm",
        "outputId": "477b8f99-dff1-4f50-c685-1e33f7246b15"
      },
      "id": "XzMaUTnWwjpm",
      "execution_count": null,
      "outputs": [
        {
          "output_type": "execute_result",
          "data": {
            "text/plain": [
              "98"
            ]
          },
          "metadata": {},
          "execution_count": 354
        }
      ]
    },
    {
      "cell_type": "code",
      "source": [
        "#For experimentation perpose, we First consider the benign dataset iin which we have reduced the number of IP address\n"
      ],
      "metadata": {
        "id": "uGfU-q51Qd2E"
      },
      "id": "uGfU-q51Qd2E",
      "execution_count": null,
      "outputs": []
    },
    {
      "cell_type": "code",
      "source": [
        "l=[\"52.46.149.20\",\n",
        "\"52.27.254.108\",\n",
        "\"54.201.2.24\",\n",
        "\"18.201.5.172\",\n",
        "\"54.209.44.8\",\n",
        "\"34.239.216.180\",\n",
        "\"52.31.161.248\",\n",
        "\"44.238.43.136\",\n",
        "\"173.255.250.75\",\n",
        "\"192.168.137.58\",\n",
        "\"47.90.209.117\",\n",
        "\"47.254.89.110\",\n",
        "\"161.117.254.158\",\n",
        "\"52.216.95.35\",\n",
        "\"142.251.41.46\",\n",
        "\"192.168.137.207\",\n",
        "\"54.173.75.186\",\n",
        "\"54.205.158.199\",\n",
        "\"54.201.239.48\",\n",
        "\"51.79.79.175\",\n",
        "\"3.212.48.2\",\n",
        "\"35.175.71.102\",\n",
        "\"192.168.137.148\",\n",
        "\"52.31.220.16\",\n",
        "\"255.255.255.255\",\n",
        "\"52.17.204.228\",\n",
        "\"192.168.137.35\",\n",
        "\"54.193.143.35\",\n",
        "\"35.185.101.66\",\n",
        "\"3.12.33.198\",\n",
        "\"8.0.6.4\",\n",
        "\"142.251.163.188\",\n",
        "\"52.43.232.245\",\n",
        "\"54.188.27.243\"\n",
        "\n",
        "]"
      ],
      "metadata": {
        "id": "cri_KrPTSnlS"
      },
      "id": "cri_KrPTSnlS",
      "execution_count": 27,
      "outputs": []
    },
    {
      "cell_type": "code",
      "source": [
        "df_ben_day_2[df_ben_day_2['Dst IP'].isin(l)]['Src IP'].nunique()"
      ],
      "metadata": {
        "colab": {
          "base_uri": "https://localhost:8080/"
        },
        "id": "1rMVCWuATCph",
        "outputId": "8a8057ff-8e30-42e1-ece0-d37a072d2844"
      },
      "id": "1rMVCWuATCph",
      "execution_count": 28,
      "outputs": [
        {
          "output_type": "execute_result",
          "data": {
            "text/plain": [
              "98"
            ]
          },
          "metadata": {},
          "execution_count": 28
        }
      ]
    },
    {
      "cell_type": "code",
      "source": [
        "df_ben_day_2[df_ben_day_2['Dst IP'].isin(l)]['Dst IP'].shape"
      ],
      "metadata": {
        "colab": {
          "base_uri": "https://localhost:8080/"
        },
        "id": "cJohOcOWHZNf",
        "outputId": "feeeaaa9-3986-4655-f5dc-0aeab8095b2d"
      },
      "id": "cJohOcOWHZNf",
      "execution_count": 29,
      "outputs": [
        {
          "output_type": "execute_result",
          "data": {
            "text/plain": [
              "(31490,)"
            ]
          },
          "metadata": {},
          "execution_count": 29
        }
      ]
    },
    {
      "cell_type": "code",
      "source": [
        "print(\"Nb de valeurs infinies dans Flow Bytes/s:\", np.isinf(df_ben_day_2['Flow Bytes/s']).sum())\n",
        "print(\"Nb de valeurs infinies dans Flow Packets/s:\", np.isinf(df_ben_day_2['Flow Packets/s']).sum())\n",
        "print(\"Nb de valeurs infinies dans Flow Duration:\", np.isinf(df_ben_day_2['Flow Duration']).sum())\n",
        "\n",
        "print(\"Nb de NaN dans Flow Bytes/s:\", df_ben_day_2['Flow Bytes/s'].isna().sum())\n",
        "print(\"Nb de NaN dans Flow Packets/s:\", df_ben_day_2['Flow Packets/s'].isna().sum())\n",
        "print(\"Nb de NaN dans Flow Duration:\", df_ben_day_2['Flow Duration'].isna().sum())"
      ],
      "metadata": {
        "colab": {
          "base_uri": "https://localhost:8080/"
        },
        "id": "UEyfRO8L-nDh",
        "outputId": "f95a6931-24d7-460a-aae4-475df8590919"
      },
      "id": "UEyfRO8L-nDh",
      "execution_count": 30,
      "outputs": [
        {
          "output_type": "stream",
          "name": "stdout",
          "text": [
            "Nb de valeurs infinies dans Flow Bytes/s: 75\n",
            "Nb de valeurs infinies dans Flow Packets/s: 75\n",
            "Nb de valeurs infinies dans Flow Duration: 0\n",
            "Nb de NaN dans Flow Bytes/s: 0\n",
            "Nb de NaN dans Flow Packets/s: 0\n",
            "Nb de NaN dans Flow Duration: 0\n"
          ]
        }
      ]
    },
    {
      "cell_type": "code",
      "source": [
        "df_ben_day_2.replace([np.inf, -np.inf], np.nan, inplace=True)"
      ],
      "metadata": {
        "id": "pAn8EGrQ-0fD"
      },
      "id": "pAn8EGrQ-0fD",
      "execution_count": 31,
      "outputs": []
    },
    {
      "cell_type": "markdown",
      "source": [
        "Time-aware Tensor graph"
      ],
      "metadata": {
        "id": "0BvvA_9m5Dbi"
      },
      "id": "0BvvA_9m5Dbi"
    },
    {
      "cell_type": "code",
      "source": [
        "def create_graph_tensor(df, window_size=300):\n",
        "    # Extract unique source and destination IPs\n",
        "    src_ips = df['Src IP'].unique()\n",
        "    dst_ips = df['Dst IP'].unique()\n",
        "\n",
        "    # Create mappings for src_ip and dst_ip to indices\n",
        "    src_ip_to_idx = {ip: idx for idx, ip in enumerate(src_ips)}\n",
        "    dst_ip_to_idx = {ip: idx for idx, ip in enumerate(dst_ips)}\n",
        "\n",
        "    # Create time windows\n",
        "    df['time_window'] = df['relative_time'].astype(np.int64) // (10**9 * window_size)\n",
        "    time_windows = sorted(df['time_window'].unique())\n",
        "\n",
        "    # Create adjacency tensor [time_windows, Src IP, Dst IP, features]\n",
        "    tensor = np.zeros((len(time_windows), len(src_ips), len(dst_ips), 4),dtype=np.float32)  # 4 features (count, bytes, duration, packets)\n",
        "\n",
        "    # Group by time window, source and destination\n",
        "    for _, group in df.groupby(['time_window', 'Src IP', 'Dst IP']):\n",
        "        t_idx = np.where(time_windows == group['time_window'].iloc[0])[0][0]\n",
        "        src_idx = src_ip_to_idx[group['Src IP'].iloc[0]]\n",
        "        dst_idx = dst_ip_to_idx[group['Dst IP'].iloc[0]]\n",
        "\n",
        "        # Aggregated features\n",
        "        tensor[t_idx, src_idx, dst_idx, 0] = len(group)  # count\n",
        "        tensor[t_idx, src_idx, dst_idx, 1] = group['Flow Bytes/s'].sum()  # bytes\n",
        "        tensor[t_idx, src_idx, dst_idx, 2] = group['Flow Duration'].mean()  # duration\n",
        "        tensor[t_idx, src_idx, dst_idx, 3] = group['Flow Packets/s'].sum()  # packets\n",
        "\n",
        "    return tensor, src_ip_to_idx, dst_ip_to_idx, time_windows"
      ],
      "metadata": {
        "id": "4Q5mta0CGMkD"
      },
      "id": "4Q5mta0CGMkD",
      "execution_count": 32,
      "outputs": []
    },
    {
      "cell_type": "code",
      "source": [
        "tensor, src_ip_to_idx, dst_ip_to_idx, time_windows=create_graph_tensor(df_ben_day_2[df_ben_day_2['Dst IP'].isin(l)])"
      ],
      "metadata": {
        "id": "3Ecov8bH3gIo",
        "colab": {
          "base_uri": "https://localhost:8080/"
        },
        "outputId": "c56d2e05-416e-4d71-e5d2-a3c362f9b4e0"
      },
      "id": "3Ecov8bH3gIo",
      "execution_count": 33,
      "outputs": [
        {
          "output_type": "stream",
          "name": "stderr",
          "text": [
            "<ipython-input-32-6afa49c576f4>:13: SettingWithCopyWarning: \n",
            "A value is trying to be set on a copy of a slice from a DataFrame.\n",
            "Try using .loc[row_indexer,col_indexer] = value instead\n",
            "\n",
            "See the caveats in the documentation: https://pandas.pydata.org/pandas-docs/stable/user_guide/indexing.html#returning-a-view-versus-a-copy\n",
            "  df['time_window'] = df['relative_time'].astype(np.int64) // (10**9 * window_size)\n"
          ]
        }
      ]
    },
    {
      "cell_type": "code",
      "source": [
        "tensor.size"
      ],
      "metadata": {
        "colab": {
          "base_uri": "https://localhost:8080/"
        },
        "id": "k_dQcS4e3lEX",
        "outputId": "c24119c0-12d3-4e43-ddae-5ed53eeeed03"
      },
      "id": "k_dQcS4e3lEX",
      "execution_count": 35,
      "outputs": [
        {
          "output_type": "execute_result",
          "data": {
            "text/plain": [
              "2932160"
            ]
          },
          "metadata": {},
          "execution_count": 35
        }
      ]
    },
    {
      "cell_type": "code",
      "source": [
        "tensor.shape"
      ],
      "metadata": {
        "colab": {
          "base_uri": "https://localhost:8080/"
        },
        "id": "iKyrrKUpaBGf",
        "outputId": "9fd62080-89c5-485c-e930-59be485801ad"
      },
      "id": "iKyrrKUpaBGf",
      "execution_count": 34,
      "outputs": [
        {
          "output_type": "execute_result",
          "data": {
            "text/plain": [
              "(220, 98, 34, 4)"
            ]
          },
          "metadata": {},
          "execution_count": 34
        }
      ]
    },
    {
      "cell_type": "code",
      "source": [
        "np.count_nonzero(tensor)"
      ],
      "metadata": {
        "colab": {
          "base_uri": "https://localhost:8080/"
        },
        "id": "cT-ehz9Yai5M",
        "outputId": "49784e3b-3514-4c7f-b112-88635110a79f"
      },
      "id": "cT-ehz9Yai5M",
      "execution_count": 36,
      "outputs": [
        {
          "output_type": "execute_result",
          "data": {
            "text/plain": [
              "45804"
            ]
          },
          "metadata": {},
          "execution_count": 36
        }
      ]
    },
    {
      "cell_type": "code",
      "source": [
        "tensor.dtype"
      ],
      "metadata": {
        "colab": {
          "base_uri": "https://localhost:8080/"
        },
        "id": "P0zjeLbKEJLg",
        "outputId": "54b18c7d-7c70-4ea4-a7f1-6ecc64cf1798"
      },
      "id": "P0zjeLbKEJLg",
      "execution_count": null,
      "outputs": [
        {
          "output_type": "execute_result",
          "data": {
            "text/plain": [
              "dtype('float32')"
            ]
          },
          "metadata": {},
          "execution_count": 23
        }
      ]
    },
    {
      "cell_type": "code",
      "source": [
        "np.max(tensor)\n"
      ],
      "metadata": {
        "colab": {
          "base_uri": "https://localhost:8080/"
        },
        "id": "3k8eefw_vWdC",
        "outputId": "eee1202d-e64f-4e55-c033-74ffc3c3fe51"
      },
      "id": "3k8eefw_vWdC",
      "execution_count": 37,
      "outputs": [
        {
          "output_type": "execute_result",
          "data": {
            "text/plain": [
              "np.float32(1469000000.0)"
            ]
          },
          "metadata": {},
          "execution_count": 37
        }
      ]
    },
    {
      "cell_type": "code",
      "source": [
        "tensor_normalized=tensor/tl.norm(tensor)"
      ],
      "metadata": {
        "id": "bld307KDnsNk"
      },
      "id": "bld307KDnsNk",
      "execution_count": 38,
      "outputs": []
    },
    {
      "cell_type": "code",
      "source": [
        "Factors_list_3=[]\n",
        "errors_3=[]\n",
        "for rank in range(1, 50):\n",
        "    factors = parafac(tensor_normalized, n_iter_max=500,rank=rank, init='random',tol=1e-6)\n",
        "    Factors_list_3.append(factors)\n",
        "    tensor_reconstructed = tl.cp_to_tensor(factors)\n",
        "    reconstruction_error = tl.norm(tensor_normalized - tensor_reconstructed)\n",
        "    errors_3.append(reconstruction_error)"
      ],
      "metadata": {
        "id": "fNLjsO8ZnYCc",
        "colab": {
          "base_uri": "https://localhost:8080/"
        },
        "outputId": "1d9635e1-eaa7-4c17-e1c7-ae604a650885"
      },
      "id": "fNLjsO8ZnYCc",
      "execution_count": 42,
      "outputs": [
        {
          "output_type": "stream",
          "name": "stderr",
          "text": [
            "/usr/local/lib/python3.11/dist-packages/tensorly/backend/__init__.py:202: RuntimeWarning: invalid value encountered in sqrt\n",
            "  return getattr(\n"
          ]
        }
      ]
    },
    {
      "cell_type": "code",
      "source": [
        "errors_3"
      ],
      "metadata": {
        "colab": {
          "base_uri": "https://localhost:8080/"
        },
        "id": "bkspaKt0coKB",
        "outputId": "b4a62757-116f-449b-fe11-2c5025605acd"
      },
      "id": "bkspaKt0coKB",
      "execution_count": 43,
      "outputs": [
        {
          "output_type": "execute_result",
          "data": {
            "text/plain": [
              "[np.float32(0.69916344),\n",
              " np.float32(0.5780121),\n",
              " np.float32(0.5303106),\n",
              " np.float32(0.5060577),\n",
              " np.float32(0.48051015),\n",
              " np.float32(0.45585164),\n",
              " np.float32(0.4332258),\n",
              " np.float32(0.41270143),\n",
              " np.float32(0.38602912),\n",
              " np.float32(0.3561399),\n",
              " np.float32(0.33846286),\n",
              " np.float32(0.33550775),\n",
              " np.float32(0.3191543),\n",
              " np.float32(0.2597509),\n",
              " np.float32(0.3011254),\n",
              " np.float32(0.2577675),\n",
              " np.float32(0.23559193),\n",
              " np.float32(0.18471551),\n",
              " np.float32(0.20627092),\n",
              " np.float32(0.24869062),\n",
              " np.float32(0.1903401),\n",
              " np.float32(0.23149946),\n",
              " np.float32(0.13077575),\n",
              " np.float32(0.23265041),\n",
              " np.float32(0.150009),\n",
              " np.float32(0.18212463),\n",
              " np.float32(0.22177248),\n",
              " np.float32(0.17871048),\n",
              " np.float32(0.18223126),\n",
              " np.float32(0.08629526),\n",
              " np.float32(0.15881068),\n",
              " np.float32(0.088294856),\n",
              " np.float32(0.16772674),\n",
              " np.float32(0.08444639),\n",
              " np.float32(0.06902245),\n",
              " np.float32(0.113058075),\n",
              " np.float32(0.08345093),\n",
              " np.float32(0.11365604),\n",
              " np.float32(0.07194888),\n",
              " np.float32(0.06855563),\n",
              " np.float32(0.06590125),\n",
              " np.float32(0.061196048),\n",
              " np.float32(0.110656336),\n",
              " np.float32(0.06916561),\n",
              " np.float32(0.07239117),\n",
              " np.float32(0.06515299),\n",
              " np.float32(0.0643816),\n",
              " np.float32(0.06107239),\n",
              " np.float32(0.06343076)]"
            ]
          },
          "metadata": {},
          "execution_count": 43
        }
      ]
    },
    {
      "cell_type": "code",
      "source": [
        "#compression graph\n",
        "plt.plot(errors_3)\n",
        "plt.xlabel('rank')\n",
        "plt.ylabel('reconstruction error')\n",
        "plt.show()"
      ],
      "metadata": {
        "colab": {
          "base_uri": "https://localhost:8080/",
          "height": 449
        },
        "id": "2qCSm69EkefC",
        "outputId": "b6fa6d31-dd74-47ea-c9e3-ce29e3ce869d"
      },
      "id": "2qCSm69EkefC",
      "execution_count": 45,
      "outputs": [
        {
          "output_type": "display_data",
          "data": {
            "text/plain": [
              "<Figure size 640x480 with 1 Axes>"
            ],
            "image/png": "[encoded data removed]"
          },
          "metadata": {}
        }
      ]
    },
    {
      "cell_type": "code",
      "source": [
        "errors={}\n",
        "for i in range(len(errors_3)):\n",
        "    if errors_3[i]<0.15:\n",
        "        errors[i] = errors_3[i]"
      ],
      "metadata": {
        "id": "V0iqJF9PongB"
      },
      "id": "V0iqJF9PongB",
      "execution_count": 50,
      "outputs": []
    },
    {
      "cell_type": "code",
      "source": [
        "errors"
      ],
      "metadata": {
        "colab": {
          "base_uri": "https://localhost:8080/"
        },
        "id": "PDwgWJPlpuYp",
        "outputId": "d7b9be9e-c8bc-4c34-c8e6-65bea0b185a4"
      },
      "id": "PDwgWJPlpuYp",
      "execution_count": 51,
      "outputs": [
        {
          "output_type": "execute_result",
          "data": {
            "text/plain": [
              "{22: np.float32(0.13077575),\n",
              " 29: np.float32(0.08629526),\n",
              " 31: np.float32(0.088294856),\n",
              " 33: np.float32(0.08444639),\n",
              " 34: np.float32(0.06902245),\n",
              " 35: np.float32(0.113058075),\n",
              " 36: np.float32(0.08345093),\n",
              " 37: np.float32(0.11365604),\n",
              " 38: np.float32(0.07194888),\n",
              " 39: np.float32(0.06855563),\n",
              " 40: np.float32(0.06590125),\n",
              " 41: np.float32(0.061196048),\n",
              " 42: np.float32(0.110656336),\n",
              " 43: np.float32(0.06916561),\n",
              " 44: np.float32(0.07239117),\n",
              " 45: np.float32(0.06515299),\n",
              " 46: np.float32(0.0643816),\n",
              " 47: np.float32(0.06107239),\n",
              " 48: np.float32(0.06343076)}"
            ]
          },
          "metadata": {},
          "execution_count": 51
        }
      ]
    },
    {
      "cell_type": "code",
      "source": [
        "#resudual of each rank in errors\n",
        "residual=[]\n",
        "for key, value in errors.items():\n",
        "    E=tensor_normalized-tl.cp_to_tensor(Factors_list_3[key])\n",
        "    residual.append(E)"
      ],
      "metadata": {
        "id": "dU1MmmOxw9nl"
      },
      "id": "dU1MmmOxw9nl",
      "execution_count": 53,
      "outputs": []
    },
    {
      "cell_type": "code",
      "source": [
        "from tensorly import unfold, fold\n",
        "from tensorly.tenalg import khatri_rao\n",
        "from numpy.linalg import lstsq\n",
        "\n",
        "def compute_residual_tensors(N, B, C, D):\n",
        "    \"\"\"\n",
        "    Computes residual tensors for each time slice of a 4D tensor,\n",
        "    projecting each slice into the space defined by CP factors B, C, D.\n",
        "\n",
        "    Parameters:\n",
        "    - N: 4D input tensor of shape (T, I, J, F) where:\n",
        "        T = number of time windows\n",
        "        I = number of Src IPs\n",
        "        J = number of Dst IPs\n",
        "        F = number of features\n",
        "    - B, C, D: factor matrices from CP decomposition of the normal model\n",
        "        Shapes: B (I, R), C (J, R), D (F, R)\n",
        "\n",
        "    Returns:\n",
        "    - residuals: List of 3D tensors (shape I×J×F), one per time slice,\n",
        "                 representing the difference between the original and reconstructed slice.\n",
        "    \"\"\"\n",
        "    T = N.shape[0]  # number of time windows\n",
        "    R = B.shape[1]  # rank of the decomposition\n",
        "\n",
        "    residuals = []\n",
        "\n",
        "    # Compute Khatri-Rao product: (J*F, R)\n",
        "    KRC = khatri_rao([D, C, B])  # Shape: (I*J*F, R)\n",
        "\n",
        "    for t in range(T):\n",
        "        # Step 1: Extract the slice for the current time window\n",
        "        slice_tensor = tl.tensor(N[t])  # shape: (I, J, F)\n",
        "\n",
        "        # Step 2: Vectorize the tensor by unfolding along mode-0 (shape: I*(J*F))\n",
        "        slice_vec = unfold(slice_tensor, mode=0).reshape(-1)  # shape: I*J*F\n",
        "\n",
        "        # Step 3: Solve for the latent vector a_t (shape: R)\n",
        "        # Least squares: slice_vec ≈ KRC @ a_t\n",
        "        a_t, _, _, _ = lstsq(KRC, slice_vec, rcond=None)\n",
        "\n",
        "        # Step 4: Reconstruct the approximation of the original vector\n",
        "        slice_hat_vec = KRC @ a_t  # shape: I*J*F\n",
        "\n",
        "        # Step 5: Compute the residual vector\n",
        "        residual_vec = slice_vec - slice_hat_vec  # shape: I*J*F\n",
        "\n",
        "        # Step 6: Reshape back into 3D tensor: shape (I, J, F)\n",
        "        residual_tensor = fold(residual_vec, mode=0, shape=N[t].shape)\n",
        "\n",
        "        # Append this residual tensor\n",
        "        residuals.append(residual_tensor)\n",
        "\n",
        "    return residuals\n"
      ],
      "metadata": {
        "id": "gX7ZT3cnyCku"
      },
      "id": "gX7ZT3cnyCku",
      "execution_count": 55,
      "outputs": []
    },
    {
      "cell_type": "code",
      "source": [
        "df_ben_day_2['label']=0\n",
        "df5_day_1['label']=1\n",
        "df6_day_1['label']=1"
      ],
      "metadata": {
        "colab": {
          "base_uri": "https://localhost:8080/"
        },
        "id": "dChD7OUL5lTa",
        "outputId": "0cd1f4e2-e357-47e6-fc72-0aa22c926fc4"
      },
      "id": "dChD7OUL5lTa",
      "execution_count": 66,
      "outputs": [
        {
          "output_type": "stream",
          "name": "stderr",
          "text": [
            "<ipython-input-66-d58377128f5f>:2: SettingWithCopyWarning: \n",
            "A value is trying to be set on a copy of a slice from a DataFrame.\n",
            "Try using .loc[row_indexer,col_indexer] = value instead\n",
            "\n",
            "See the caveats in the documentation: https://pandas.pydata.org/pandas-docs/stable/user_guide/indexing.html#returning-a-view-versus-a-copy\n",
            "  df5_day_1['label']=1\n",
            "<ipython-input-66-d58377128f5f>:3: SettingWithCopyWarning: \n",
            "A value is trying to be set on a copy of a slice from a DataFrame.\n",
            "Try using .loc[row_indexer,col_indexer] = value instead\n",
            "\n",
            "See the caveats in the documentation: https://pandas.pydata.org/pandas-docs/stable/user_guide/indexing.html#returning-a-view-versus-a-copy\n",
            "  df6_day_1['label']=1\n"
          ]
        }
      ]
    },
    {
      "cell_type": "code",
      "source": [
        "df=pd.concat([df_ben_day_2.sample(frac=0.001),df5_day_1,df6_day_1],axis=0)\n",
        "print(df.shape)"
      ],
      "metadata": {
        "colab": {
          "base_uri": "https://localhost:8080/"
        },
        "id": "GMiMTadM4jBJ",
        "outputId": "fbfe9ded-2815-4100-d769-762c3503339d"
      },
      "id": "GMiMTadM4jBJ",
      "execution_count": 97,
      "outputs": [
        {
          "output_type": "stream",
          "name": "stdout",
          "text": [
            "(1122276, 88)\n"
          ]
        }
      ]
    },
    {
      "cell_type": "code",
      "source": [
        "L_Dst=['52.53.92.145', '192.168.137.58', '8.8.4.4', '192.168.137.1',\n",
        "       '255.255.255.255', '173.198.192.103', '8.8.8.8', '47.112.162.49',\n",
        "       '192.168.137.186', '13.225.189.191', '239.255.255.250',\n",
        "       '224.0.0.22', '192.168.137.86', '192.168.137.47', '44.235.174.159',\n",
        "       '192.168.137.41', '34.158.253.218', '44.235.194.199',\n",
        "       '52.210.251.230', '224.0.0.251', '192.168.137.128',\n",
        "       '3.223.181.245', '44.199.80.228', '18.182.200.45',\n",
        "       '192.168.137.133', '3.12.33.198', '51.79.79.175', '52.0.136.27',\n",
        "       '13.225.196.108', '3.217.147.217', '34.239.216.180',\n",
        "       '3.208.160.215', '172.253.62.188', '192.168.137.175',\n",
        "       ]\n",
        "L_Src=['192.168.137.132', '192.168.137.253','192.168.137.227',\n",
        "       '192.168.137.131', '192.168.137.139', '192.168.137.133',\n",
        "       '192.168.137.1', '192.168.137.83', '192.168.137.90',\n",
        "       '192.168.137.154', '52.15.60.193', '192.168.137.61',\n",
        "       '192.168.137.41', '192.168.137.207', '192.168.137.16',\n",
        "       '109.95.152.66', '192.168.137.47', '192.168.137.172',\n",
        "       '192.168.137.159', '192.168.137.175', '192.168.137.78',\n",
        "       '195.88.50.100', '192.168.137.128', '192.168.137.76',\n",
        "       '192.168.137.110', '192.168.137.35', '192.168.137.250',\n",
        "       '192.168.137.51', '192.168.137.187', '192.168.137.210',\n",
        "       '52.214.192.17', '192.168.137.39', '192.168.137.224',\n",
        "       '192.168.137.31', '67.231.244.222', '192.168.137.68',\n",
        "       '192.168.137.22', '192.168.137.82', '192.168.137.148',\n",
        "       '192.168.137.135', '192.168.137.186', '8.8.4.4', '192.168.137.70',\n",
        "       '192.168.137.3', '192.168.137.86', '192.168.137.62',\n",
        "       '192.168.137.46', '192.168.137.245', '192.168.137.249',\n",
        "       '192.168.137.176', '192.168.137.181', '192.168.137.192', '0.0.0.0',\n",
        "       '157.249.81.141', '192.168.137.178', '35.86.13.17',\n",
        "       '192.168.137.141', '192.168.137.64', '192.168.137.89',\n",
        "       '192.168.137.225', '192.168.137.150', '192.168.137.238',\n",
        "       '192.168.137.203', '13.225.196.108', '192.168.137.87',\n",
        "       '192.168.137.191', '192.168.137.19', '142.251.32.67',\n",
        "       '192.168.137.60', '192.168.137.4', '192.168.137.206',\n",
        "       '52.51.193.92', '3.234.20.130', '3.12.33.198', '34.158.253.218',\n",
        "       '192.168.137.167', '52.48.53.214', '44.232.212.4', '18.207.33.55',\n",
        "       '192.168.137.123', '192.168.137.180', '34.158.0.131',\n",
        "       '192.168.137.204', '47.88.56.147', '108.138.125.14',\n",
        "       '52.94.237.71', '192.168.137.104', '35.76.66.254',\n",
        "       '192.168.137.66', '108.138.125.198', '192.168.137.153',\n",
        "       '35.185.101.66', '192.168.137.243', '192.168.137.239',\n",
        "       '192.168.137.188', '192.168.137.185', '8.6.0.1', '195.88.50.98',\n",
        "       '192.168.137.49', '192.168.137.136', '192.168.137.196',\n",
        "       '192.168.137.69', '192.168.137.98', '54.188.27.243',\n",
        "       '192.99.160.133', '192.168.137.95', '192.168.137.115',\n",
        "       '192.168.137.17', '192.168.137.193', '192.168.137.164',\n",
        "       '54.191.3.239', '182.92.131.196', '192.168.137.208']\n"
      ],
      "metadata": {
        "id": "GNiwb75Q9s6q"
      },
      "id": "GNiwb75Q9s6q",
      "execution_count": 111,
      "outputs": []
    },
    {
      "cell_type": "code",
      "source": [
        "df_exp=df[df['Src IP'].isin(L_Src) & df['Dst IP'].isin(L_Dst)]"
      ],
      "metadata": {
        "id": "th1T_KQ8-75p"
      },
      "id": "th1T_KQ8-75p",
      "execution_count": 112,
      "outputs": []
    },
    {
      "cell_type": "code",
      "source": [
        "for i in range(35):\n",
        ""
      ],
      "metadata": {
        "colab": {
          "base_uri": "https://localhost:8080/",
          "height": 489
        },
        "id": "7J1_ywo9_VtQ",
        "outputId": "f55faa70-9d1a-4125-d697-43d5c1c9cc69"
      },
      "id": "7J1_ywo9_VtQ",
      "execution_count": 119,
      "outputs": [
        {
          "output_type": "execute_result",
          "data": {
            "text/plain": [
              "Dst IP\n",
              "192.168.137.211    655715\n",
              "192.168.137.132    176745\n",
              "192.168.137.66      68885\n",
              "192.168.137.139     57308\n",
              "192.168.137.235     44358\n",
              "                    ...  \n",
              "17.248.175.244          1\n",
              "17.57.147.6             1\n",
              "17.57.147.4             1\n",
              "17.248.175.145          1\n",
              "17.248.175.170          1\n",
              "Name: count, Length: 793, dtype: int64"
            ],
            "text/html": [
              "<div>\n",
              "<style scoped>\n",
              "    .dataframe tbody tr th:only-of-type {\n",
              "        vertical-align: middle;\n",
              "    }\n",
              "\n",
              "    .dataframe tbody tr th {\n",
              "        vertical-align: top;\n",
              "    }\n",
              "\n",
              "    .dataframe thead th {\n",
              "        text-align: right;\n",
              "    }\n",
              "</style>\n",
              "<table border=\"1\" class=\"dataframe\">\n",
              "  <thead>\n",
              "    <tr style=\"text-align: right;\">\n",
              "      <th></th>\n",
              "      <th>count</th>\n",
              "    </tr>\n",
              "    <tr>\n",
              "      <th>Dst IP</th>\n",
              "      <th></th>\n",
              "    </tr>\n",
              "  </thead>\n",
              "  <tbody>\n",
              "    <tr>\n",
              "      <th>192.168.137.211</th>\n",
              "      <td>655715</td>\n",
              "    </tr>\n",
              "    <tr>\n",
              "      <th>192.168.137.132</th>\n",
              "      <td>176745</td>\n",
              "    </tr>\n",
              "    <tr>\n",
              "      <th>192.168.137.66</th>\n",
              "      <td>68885</td>\n",
              "    </tr>\n",
              "    <tr>\n",
              "      <th>192.168.137.139</th>\n",
              "      <td>57308</td>\n",
              "    </tr>\n",
              "    <tr>\n",
              "      <th>192.168.137.235</th>\n",
              "      <td>44358</td>\n",
              "    </tr>\n",
              "    <tr>\n",
              "      <th>...</th>\n",
              "      <td>...</td>\n",
              "    </tr>\n",
              "    <tr>\n",
              "      <th>17.248.175.244</th>\n",
              "      <td>1</td>\n",
              "    </tr>\n",
              "    <tr>\n",
              "      <th>17.57.147.6</th>\n",
              "      <td>1</td>\n",
              "    </tr>\n",
              "    <tr>\n",
              "      <th>17.57.147.4</th>\n",
              "      <td>1</td>\n",
              "    </tr>\n",
              "    <tr>\n",
              "      <th>17.248.175.145</th>\n",
              "      <td>1</td>\n",
              "    </tr>\n",
              "    <tr>\n",
              "      <th>17.248.175.170</th>\n",
              "      <td>1</td>\n",
              "    </tr>\n",
              "  </tbody>\n",
              "</table>\n",
              "<p>793 rows × 1 columns</p>\n",
              "</div><br><label><b>dtype:</b> int64</label>"
            ]
          },
          "metadata": {},
          "execution_count": 119
        }
      ]
    },
    {
      "cell_type": "code",
      "source": [
        "df['Src IP'].unique()"
      ],
      "metadata": {
        "colab": {
          "base_uri": "https://localhost:8080/"
        },
        "id": "d-e1A3c349rr",
        "outputId": "e0e6e7ae-a077-4b42-cd00-88b147844e6d"
      },
      "id": "d-e1A3c349rr",
      "execution_count": 100,
      "outputs": [
        {
          "output_type": "execute_result",
          "data": {
            "text/plain": [
              "array(['192.168.137.132', '192.168.137.253', '192.168.137.227',\n",
              "       '192.168.137.131', '192.168.137.139', '192.168.137.133',\n",
              "       '192.168.137.1', '192.168.137.83', '192.168.137.90',\n",
              "       '192.168.137.154', '52.15.60.193', '192.168.137.61',\n",
              "       '192.168.137.41', '192.168.137.207', '192.168.137.16',\n",
              "       '109.95.152.66', '192.168.137.47', '192.168.137.172',\n",
              "       '192.168.137.159', '192.168.137.175', '192.168.137.78',\n",
              "       '195.88.50.100', '192.168.137.128', '192.168.137.76',\n",
              "       '192.168.137.110', '192.168.137.35', '192.168.137.250',\n",
              "       '192.168.137.51', '192.168.137.187', '192.168.137.210',\n",
              "       '52.214.192.17', '192.168.137.39', '192.168.137.224',\n",
              "       '192.168.137.31', '67.231.244.222', '192.168.137.68',\n",
              "       '192.168.137.22', '192.168.137.82', '192.168.137.148',\n",
              "       '192.168.137.135', '192.168.137.186', '8.8.4.4', '192.168.137.70',\n",
              "       '192.168.137.3', '192.168.137.86', '192.168.137.62',\n",
              "       '192.168.137.46', '192.168.137.245', '192.168.137.249',\n",
              "       '192.168.137.176', '192.168.137.181', '192.168.137.192', '0.0.0.0',\n",
              "       '157.249.81.141', '192.168.137.178', '35.86.13.17',\n",
              "       '192.168.137.141', '192.168.137.64', '192.168.137.89',\n",
              "       '192.168.137.225', '192.168.137.150', '192.168.137.238',\n",
              "       '192.168.137.203', '13.225.196.108', '192.168.137.87',\n",
              "       '192.168.137.191', '192.168.137.19', '142.251.32.67',\n",
              "       '192.168.137.60', '192.168.137.4', '192.168.137.206',\n",
              "       '52.51.193.92', '3.234.20.130', '3.12.33.198', '34.158.253.218',\n",
              "       '192.168.137.167', '52.48.53.214', '44.232.212.4', '18.207.33.55',\n",
              "       '192.168.137.123', '192.168.137.180', '34.158.0.131',\n",
              "       '192.168.137.204', '47.88.56.147', '108.138.125.14',\n",
              "       '52.94.237.71', '192.168.137.104', '35.76.66.254',\n",
              "       '192.168.137.66', '108.138.125.198', '192.168.137.153',\n",
              "       '35.185.101.66', '192.168.137.243', '192.168.137.239',\n",
              "       '192.168.137.188', '192.168.137.185', '8.6.0.1', '195.88.50.98',\n",
              "       '192.168.137.49', '192.168.137.136', '192.168.137.196',\n",
              "       '192.168.137.69', '192.168.137.98', '54.188.27.243',\n",
              "       '192.99.160.133', '192.168.137.95', '192.168.137.115',\n",
              "       '192.168.137.17', '192.168.137.193', '192.168.137.164',\n",
              "       '54.191.3.239', '182.92.131.196', '192.168.137.208',\n",
              "       '13.59.192.161', '192.168.137.45', '54.231.161.97',\n",
              "       '54.167.177.211', '192.168.137.10', '20.224.69.180', '0.6.0.1',\n",
              "       '205.174.165.65', '192.168.137.109', '50.19.140.78',\n",
              "       '192.168.137.226', '192.168.137.50', '192.168.137.174',\n",
              "       '13.225.195.99', '13.225.195.54', '13.225.195.7',\n",
              "       '192.168.137.102', '34.227.6.54', '192.168.137.59',\n",
              "       '23.58.127.105', '54.205.24.65', '13.225.195.104', '54.239.19.122',\n",
              "       '44.199.80.228', '54.85.129.19', '192.168.137.230', '3.141.212.7',\n",
              "       '52.94.224.149', '44.241.249.92', '17.57.144.54', '51.145.143.28',\n",
              "       '52.212.151.242', '34.213.239.70', '47.254.14.172',\n",
              "       '35.174.47.251', '35.164.195.39', '109.95.152.166',\n",
              "       '54.187.112.38', '44.240.74.103', '3.227.83.236', '192.168.137.73',\n",
              "       '192.168.137.198', '52.5.69.141', '44.241.96.223',\n",
              "       '44.241.186.220', '54.205.29.146', '104.74.65.57', '3.223.181.245',\n",
              "       '35.84.67.65', '17.253.125.205', '192.168.137.2', '23.43.243.162',\n",
              "       '35.161.158.54', '23.43.243.145', '142.251.41.74', '104.74.65.56',\n",
              "       '104.74.65.48', '104.74.65.58', '104.76.104.160', '44.235.174.159',\n",
              "       '52.40.133.46', '44.238.27.7', '75.101.248.252', '176.34.202.39',\n",
              "       '130.211.135.74', '54.69.37.156', '104.123.196.26', '54.88.75.129',\n",
              "       '52.26.13.51', '54.68.229.105', '54.212.22.73', '3.93.254.152',\n",
              "       '44.235.251.117', '52.26.167.43', '54.204.125.203',\n",
              "       '52.23.111.176', '34.206.226.247', '17.57.12.11', '34.206.174.209',\n",
              "       '34.224.192.68', '54.154.221.58', '52.89.172.251',\n",
              "       '20.224.172.199', '47.254.89.110', '17.253.125.206',\n",
              "       '52.30.145.117', '34.213.103.51', '34.210.19.179',\n",
              "       '35.173.146.140', '54.237.152.131', '52.25.27.109',\n",
              "       '44.202.186.190', '3.218.177.146', '3.217.147.217',\n",
              "       '35.161.249.48', '44.207.225.250', '13.225.189.53', '34.205.1.68',\n",
              "       '34.211.189.2', '35.175.71.102', '34.200.5.134', '35.165.43.97',\n",
              "       '13.40.227.239', '8.8.8.8', '34.218.147.23', '3.218.140.197',\n",
              "       '142.251.33.170', '47.90.209.117', '3.221.182.58', '34.98.74.57',\n",
              "       '161.117.254.158', '52.7.79.159', '54.160.47.50', '34.226.26.51',\n",
              "       '54.145.27.227', '54.86.245.210', '18.182.200.45', '34.255.203.50',\n",
              "       '34.198.141.233', '54.205.158.199', '192.168.137.163',\n",
              "       '54.193.40.55', '34.120.160.131', '13.225.189.40',\n",
              "       '17.248.175.205', '44.236.159.81', '108.139.53.212',\n",
              "       '45.86.209.201', '17.57.147.6', '13.225.197.164', '198.27.76.102',\n",
              "       '54.216.235.127', '34.238.41.119', '52.91.195.103',\n",
              "       '165.140.142.118', '198.161.203.36', '34.224.247.2',\n",
              "       '18.223.127.200', '52.91.228.238', '34.242.189.217',\n",
              "       '162.159.200.123', '205.174.165.69', '54.230.246.196',\n",
              "       '50.112.158.143', '216.239.35.0', '216.239.35.12', '54.227.28.73',\n",
              "       '63.35.155.118', '43.252.70.34', '192.168.137.156',\n",
              "       '217.180.209.214', '185.238.130.233', '129.6.15.28',\n",
              "       '192.168.137.101', '206.108.0.133', '23.22.249.72',\n",
              "       '44.206.78.186', '3.226.202.54', '13.225.189.191', '137.190.2.4',\n",
              "       '3.132.122.64', '3.131.198.200', '129.6.15.29', '18.211.240.153',\n",
              "       '52.73.109.207', '18.235.187.29', '51.77.89.238', '192.33.96.102',\n",
              "       '3.88.130.33', '52.35.183.224', '54.220.10.218', '13.225.189.62',\n",
              "       '142.251.41.67', '3.139.117.148', '52.216.241.108',\n",
              "       '168.61.215.74', '216.239.35.4', '52.33.7.232', '203.107.6.88',\n",
              "       '8.208.8.243', '172.65.199.236', '54.156.252.112', '54.175.170.68',\n",
              "       '52.23.91.236', '34.194.23.111', '216.239.35.8', '54.83.14.152',\n",
              "       '52.13.86.0', '128.138.140.44', '204.79.197.200', '80.151.186.5',\n",
              "       '149.56.37.32', '108.128.154.133', '54.87.240.90', '47.112.162.49',\n",
              "       '52.48.170.212', '172.217.1.14', '52.51.195.187', '132.163.97.3',\n",
              "       '54.147.33.187', '99.80.70.148', '3.221.230.6', '3.17.248.230',\n",
              "       '34.251.141.94', '172.104.134.72', '52.208.211.190',\n",
              "       '192.36.144.22', '3.22.92.164', '192.168.137.158', '192.168.137.6',\n",
              "       '54.91.82.76', '192.168.137.254', '192.168.137.77',\n",
              "       '192.168.137.244', '192.168.137.165', '192.168.137.222',\n",
              "       '192.168.137.14', '13.225.192.220', '52.50.168.170',\n",
              "       '34.243.146.172', '35.82.209.66', '192.168.137.114',\n",
              "       '192.168.137.7', '192.168.137.160', '192.168.137.42',\n",
              "       '192.168.137.236', '192.168.137.58', '192.168.137.247',\n",
              "       '192.168.137.15', '192.168.137.29', '192.168.137.216',\n",
              "       '192.168.137.134', '192.168.137.190', '192.168.137.219',\n",
              "       '192.168.137.23', '192.168.137.116', '17.57.144.11',\n",
              "       '192.168.137.24', '192.168.137.20', '192.168.137.232',\n",
              "       '195.88.50.104', '192.168.137.197', '44.242.66.121',\n",
              "       '192.168.137.108', '192.168.137.179', '192.168.137.235',\n",
              "       '192.168.137.71', '142.251.41.46', '52.166.163.50',\n",
              "       '192.168.137.189', '52.19.117.42', '192.168.137.211',\n",
              "       '192.168.137.218', '192.168.137.145', '192.168.137.100',\n",
              "       '192.168.137.144', '34.199.62.86', '192.168.137.199',\n",
              "       '192.168.137.214', '100.21.156.247', '3.248.88.21',\n",
              "       '108.138.125.193', '34.196.172.66', '52.94.224.4', '172.217.1.10',\n",
              "       '142.251.41.35', '54.171.158.202', '3.224.243.180',\n",
              "       '142.251.40.238', '54.231.164.73', '54.213.252.246',\n",
              "       '17.253.125.203', '104.123.192.30', '108.138.125.109',\n",
              "       '35.174.51.236', '108.139.47.76', '108.139.47.88',\n",
              "       '108.138.108.116', '3.14.232.48', '3.129.93.132', '13.33.85.238',\n",
              "       '18.217.217.80', '52.70.101.206', '3.17.241.6', '99.84.32.235',\n",
              "       '142.251.41.36', '34.240.22.95', '46.137.56.146', '63.33.167.41',\n",
              "       '50.28.99.143', '143.204.146.117', '99.84.47.128',\n",
              "       '143.204.146.116', '54.195.116.196', '35.83.7.201', '52.30.85.27',\n",
              "       '52.4.185.226', '18.211.191.120', '18.220.237.228',\n",
              "       '52.89.144.228', '52.48.51.180', '54.189.12.237', '47.254.83.84',\n",
              "       '54.80.187.230', '52.208.184.178', '143.204.146.77',\n",
              "       '143.204.146.72', '54.192.101.42', '3.136.72.65', '44.235.194.199',\n",
              "       '17.57.147.7', '52.20.206.121', '172.217.165.14', '44.228.215.143',\n",
              "       '52.208.58.178', '142.250.31.188', '3.223.219.91', '54.186.48.247',\n",
              "       '18.203.189.127', '54.70.120.217', '54.200.169.156',\n",
              "       '54.151.100.178', '52.42.195.128', '18.211.132.11',\n",
              "       '184.51.149.162', '35.163.101.120', '142.251.32.74',\n",
              "       '52.239.141.196', '3.232.127.207', '52.35.133.254',\n",
              "       '34.195.153.29', '99.84.37.18', '99.84.37.6', '143.204.141.96',\n",
              "       '108.136.174.255', '54.239.27.116', '52.0.199.14', '52.205.6.197',\n",
              "       '54.231.227.89', '3.208.160.215', '143.204.141.121',\n",
              "       '44.237.104.155', '52.20.13.46', '142.251.41.42', '3.224.166.115',\n",
              "       '35.155.204.189', '72.21.195.82', '54.186.115.140',\n",
              "       '52.217.139.41', '3.226.196.104', '54.159.111.180', '54.161.84.13',\n",
              "       '3.33.190.248', '142.251.32.68', '54.186.165.13', '3.222.153.244',\n",
              "       '52.217.70.172', '3.216.58.12', '52.2.219.179', '3.234.165.228',\n",
              "       '35.173.14.214', '3.237.53.195', '52.48.8.234', '3.5.79.153',\n",
              "       '54.171.38.237', '142.251.32.78', '54.153.101.7',\n",
              "       '192.168.137.171', '15.254.27.38', '52.30.254.241',\n",
              "       '194.58.202.148', '54.191.42.37', '52.217.67.182', '129.146.131.8',\n",
              "       '44.238.150.98', '52.211.231.120', '192.168.137.26',\n",
              "       '3.214.58.173', '13.225.195.25', '209.54.178.134', '44.241.2.88',\n",
              "       '172.217.165.10', '52.213.138.140', '52.40.84.13',\n",
              "       '52.217.173.217', '216.232.132.102', '34.235.4.153',\n",
              "       '63.34.65.240', '54.171.80.76', '52.217.73.60', '18.233.46.225',\n",
              "       '13.225.195.75', '85.199.214.222', '54.200.24.45', '34.255.91.119',\n",
              "       '52.217.137.105', '54.213.65.180', '142.250.65.174',\n",
              "       '54.81.247.34', '4.2.2.2', '13.249.190.92', '34.208.234.96',\n",
              "       '162.19.148.81', '52.48.237.187', '143.204.141.10',\n",
              "       '13.225.195.39', '54.70.234.207', '173.255.250.75',\n",
              "       '52.212.143.190', '174.129.143.224', '34.208.174.29',\n",
              "       '35.81.104.182', '34.194.177.212', '52.46.137.248', '52.205.66.64',\n",
              "       '44.236.180.133', '3.219.181.148', '44.235.17.251', '63.34.79.17',\n",
              "       '192.168.255.249', '108.139.39.29', '44.227.96.221',\n",
              "       '52.92.210.162', '52.204.123.6', '147.135.37.140', '13.32.208.46',\n",
              "       '63.35.24.253', '3.94.72.172', '93.93.135.117', '54.211.157.177',\n",
              "       '34.232.93.236', '52.26.137.155', '3.129.3.78', '142.251.33.174',\n",
              "       '54.165.24.251', '52.217.233.193', '44.226.67.213', '54.70.5.180',\n",
              "       '34.237.111.59', '52.46.158.171', '44.197.184.121',\n",
              "       '176.32.101.46', '17.167.200.70', '23.41.208.227', '65.8.20.110',\n",
              "       '52.217.224.65', '139.99.133.133'], dtype=object)"
            ]
          },
          "metadata": {},
          "execution_count": 100
        }
      ]
    },
    {
      "cell_type": "code",
      "source": [
        "df_exp['label'].shape"
      ],
      "metadata": {
        "colab": {
          "base_uri": "https://localhost:8080/"
        },
        "id": "uRivDRAN62Q-",
        "outputId": "3407fd68-0e03-457c-8ebd-9205e2634445"
      },
      "id": "uRivDRAN62Q-",
      "execution_count": 87,
      "outputs": [
        {
          "output_type": "execute_result",
          "data": {
            "text/plain": [
              "(1634,)"
            ]
          },
          "metadata": {},
          "execution_count": 87
        }
      ]
    },
    {
      "cell_type": "code",
      "source": [
        "tensor_2, src_ip_to_idx_2, dst_ip_to_idx_2, time_windows_2=create_graph_tensor(df_exp)"
      ],
      "metadata": {
        "colab": {
          "base_uri": "https://localhost:8080/"
        },
        "id": "ksxouJw-8ZCQ",
        "outputId": "06902026-d117-4acf-80bb-dee24495bc0d"
      },
      "id": "ksxouJw-8ZCQ",
      "execution_count": 88,
      "outputs": [
        {
          "output_type": "stream",
          "name": "stderr",
          "text": [
            "<ipython-input-32-6afa49c576f4>:13: SettingWithCopyWarning: \n",
            "A value is trying to be set on a copy of a slice from a DataFrame.\n",
            "Try using .loc[row_indexer,col_indexer] = value instead\n",
            "\n",
            "See the caveats in the documentation: https://pandas.pydata.org/pandas-docs/stable/user_guide/indexing.html#returning-a-view-versus-a-copy\n",
            "  df['time_window'] = df['relative_time'].astype(np.int64) // (10**9 * window_size)\n"
          ]
        }
      ]
    },
    {
      "cell_type": "code",
      "source": [
        "tensor_2.shape"
      ],
      "metadata": {
        "colab": {
          "base_uri": "https://localhost:8080/"
        },
        "id": "eaSNgi6l8hmW",
        "outputId": "c49d6f1e-e6ec-470b-8b52-0b35bac9b947"
      },
      "id": "eaSNgi6l8hmW",
      "execution_count": 89,
      "outputs": [
        {
          "output_type": "execute_result",
          "data": {
            "text/plain": [
              "(16, 14, 12, 4)"
            ]
          },
          "metadata": {},
          "execution_count": 89
        }
      ]
    },
    {
      "cell_type": "markdown",
      "source": [
        "Time-binned Tensor graph with adaptive resolution"
      ],
      "metadata": {
        "id": "kC_jlETP6Esf"
      },
      "id": "kC_jlETP6Esf"
    },
    {
      "cell_type": "code",
      "source": [
        "from datetime import timedelta\n",
        "\n",
        "def create_adaptive_time_bins(df, min_bin_size=60, max_bin_size=300, activity_threshold=20):\n",
        "    # The 'relative_time' column is already a timedelta, no need to convert\n",
        "    #timestamps = pd.to_datetime(df['relative_time']).sort_values().tolist()\n",
        "    timestamps = df['relative_time'].sort_values().tolist()\n",
        "\n",
        "    bins = []\n",
        "    current_bin_start = timestamps[0]\n",
        "    current_events = []\n",
        "\n",
        "    for ts in timestamps:\n",
        "        current_events.append(ts)\n",
        "\n",
        "        elapsed_time = (ts - current_bin_start).total_seconds()\n",
        "\n",
        "        # Vérifie si on doit créer un bin\n",
        "        if len(current_events) >= activity_threshold or elapsed_time >= max_bin_size:\n",
        "            if len(current_events) >= activity_threshold:\n",
        "                # Forte activité ➜ plus petit bin\n",
        "                avg_spacing = elapsed_time / len(current_events)\n",
        "                bin_size = min(max_bin_size, max(min_bin_size, avg_spacing * 5))\n",
        "            else:\n",
        "                # Faible activité ➜ grand bin\n",
        "                bin_size = max_bin_size\n",
        "\n",
        "            bin_end = current_bin_start + timedelta(seconds=bin_size)\n",
        "            bins.append((current_bin_start, bin_end))\n",
        "\n",
        "            # Réinitialiser pour le bin suivant\n",
        "            current_bin_start = bin_end\n",
        "            current_events = [e for e in current_events if e >= bin_end]\n",
        "\n",
        "    # Traiter les éventuels événements restants\n",
        "    if current_bin_start < timestamps[-1]:\n",
        "        bins.append((current_bin_start, timestamps[-1]))\n",
        "\n",
        "    return bins"
      ],
      "metadata": {
        "id": "zgr4xGkxdvo2"
      },
      "id": "zgr4xGkxdvo2",
      "execution_count": null,
      "outputs": []
    },
    {
      "cell_type": "code",
      "source": [
        "def create_graph_tensor_with_bins(df, bins):\n",
        "    # 1. Obtenir tous les IPs uniques\n",
        "    all_ips = set(df['Src IP'].unique()) | set(df['Dst IP'].unique())\n",
        "    ip_to_idx = {ip: idx for idx, ip in enumerate(sorted(all_ips))}\n",
        "\n",
        "    n_devices = len(all_ips)\n",
        "    n_features = 4  # count, bytes, duration, packets\n",
        "    n_bins = len(bins)\n",
        "\n",
        "    # 2. Initialiser le tenseur [temps, src, dst, features]\n",
        "    tensor = np.zeros((n_bins, n_devices, n_devices, n_features))\n",
        "\n",
        "    # 3. Associer chaque ligne à un bin temporel\n",
        "    df['bin_index'] = -1  # initialisation\n",
        "\n",
        "    for i, (start, end) in enumerate(bins):\n",
        "        mask = (df['relative_time'] >= start) & (df['relative_time'] < end)\n",
        "        df.loc[mask, 'bin_index'] = i\n",
        "\n",
        "    # 4. Groupement et remplissage du tenseur\n",
        "    for _, group in df[df['bin_index'] != -1].groupby(['bin_index', 'Src IP', 'Dst IP']):\n",
        "        bin_idx = group['bin_index'].iloc[0]\n",
        "        src_idx = ip_to_idx[group['Src IP'].iloc[0]]\n",
        "        dst_idx = ip_to_idx[group['Dst IP'].iloc[0]]\n",
        "\n",
        "        tensor[bin_idx, src_idx, dst_idx, 0] = len(group)  # count\n",
        "        tensor[bin_idx, src_idx, dst_idx, 1] = group['Flow Bytes/s'].sum()\n",
        "        tensor[bin_idx, src_idx, dst_idx, 2] = group['Flow Duration'].mean()\n",
        "        tensor[bin_idx, src_idx, dst_idx, 3] = group['Flow Packets/s'].sum()\n",
        "\n",
        "    return tensor, ip_to_idx, bins\n"
      ],
      "metadata": {
        "id": "orJKKggLMZRM"
      },
      "id": "orJKKggLMZRM",
      "execution_count": null,
      "outputs": []
    },
    {
      "cell_type": "markdown",
      "source": [
        "Some Methods overview tha I will explain\n",
        ".. Tensor residuals for anomalies detection\n",
        "\n",
        "-Low-rank tensor using a tensor decomposition method\n",
        "-residuals calculation on the new dataset\n",
        "-anomalies detection using : either a supervised learning or an unsupervised learning\n",
        "\n",
        "..Nonnegative Tensor factorization\n",
        "-\n",
        ".. Tensor Robust PCA\n",
        ".."
      ],
      "metadata": {
        "id": "rAbnOmS7Uusk"
      },
      "id": "rAbnOmS7Uusk"
    }
  ],
  "metadata": {
    "colab": {
      "provenance": [],
      "include_colab_link": true
    },
    "kernelspec": {
      "display_name": "Python 3 (ipykernel)",
      "language": "python",
      "name": "python3"
    },
    "language_info": {
      "codemirror_mode": {
        "name": "ipython",
        "version": 3
      },
      "file_extension": ".py",
      "mimetype": "text/x-python",
      "name": "python",
      "nbconvert_exporter": "python",
      "pygments_lexer": "ipython3",
      "version": "3.11.5"
    }
  },
  "nbformat": 4,
  "nbformat_minor": 5
}